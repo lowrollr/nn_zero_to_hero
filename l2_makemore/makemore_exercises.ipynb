{
 "cells": [
  {
   "attachments": {},
   "cell_type": "markdown",
   "metadata": {},
   "source": [
    "### *E01:*\n",
    "#### *Train a trigram language model, i.e. take two characters as an input to predict the 3rd one. Feel free to use either counting or a neural net. Evaluate the loss; Did it improve over a bigram model?*"
   ]
  },
  {
   "attachments": {},
   "cell_type": "markdown",
   "metadata": {},
   "source": [
    "I take it the intention here is not to venture towards an MLP yet, so I will implement this as a single-layer perceptron with a softmax activation. An MLP model would undoubtedly be the better way to do this."
   ]
  },
  {
   "cell_type": "code",
   "execution_count": 1,
   "metadata": {},
   "outputs": [],
   "source": [
    "import torch\n",
    "import matplotlib.pyplot as plt"
   ]
  },
  {
   "cell_type": "code",
   "execution_count": 2,
   "metadata": {},
   "outputs": [],
   "source": [
    "words = open('names.txt').read().splitlines()\n",
    "chars = ['.'] + sorted(list(set(''.join(words))))\n",
    "\n",
    "stoi = {c:i for i,c in enumerate(chars)}\n",
    "itos = {i:c for i,c in enumerate(chars)}"
   ]
  },
  {
   "attachments": {},
   "cell_type": "markdown",
   "metadata": {},
   "source": [
    "One issue is that as we increase the size of our input, the size of our weights matrix must grow exponentially. For 2 input characters, that's 27 x 27, and for three we'd need 27 x 27 x 27.\n",
    "\n",
    "Since a training example only tunes a specific weight in the weight matrix with a single-layer approach, we also have to deal with the issue of sparseness -- i.e. we have fewer examples utilized to tune each of the weights, meaning we need many more gradient descent iterations (if using the same learning rate) to converge to optimal values."
   ]
  },
  {
   "cell_type": "code",
   "execution_count": 3,
   "metadata": {},
   "outputs": [],
   "source": [
    "trigram_xs, trigram_ys = [], []\n",
    "for w in words:\n",
    "    chs = ['.'] + list(w) + ['.']\n",
    "    for i in range(len(chs) - 2):\n",
    "        trigram_xs.append((stoi[chs[i]] ** 2) + stoi[chs[i+1]]) # now our input is a pair of characters rather than a single character\n",
    "        trigram_ys.append(stoi[chs[i+2]])"
   ]
  },
  {
   "cell_type": "code",
   "execution_count": 4,
   "metadata": {},
   "outputs": [
    {
     "data": {
      "text/plain": [
       "torch.Size([196113, 729])"
      ]
     },
     "execution_count": 4,
     "metadata": {},
     "output_type": "execute_result"
    }
   ],
   "source": [
    "trigram_xs_enc = torch.nn.functional.one_hot(torch.tensor(trigram_xs), num_classes=27*27).float()\n",
    "trigram_xs_enc.shape"
   ]
  },
  {
   "cell_type": "code",
   "execution_count": 5,
   "metadata": {},
   "outputs": [],
   "source": [
    "trigram_weights = torch.randn((27 * 27, 27), requires_grad=True)"
   ]
  },
  {
   "cell_type": "code",
   "execution_count": 6,
   "metadata": {},
   "outputs": [],
   "source": [
    "def train(xs, ys, weights, iters, lr, regularization, print_every=10):\n",
    "    losses = []\n",
    "    for i in range(iters):\n",
    "        # forward pass\n",
    "        logits = xs @ weights\n",
    "    \n",
    "        # --- softmax --- # \n",
    "        counts = logits.exp()\n",
    "        probs = counts / counts.sum(1, keepdim=True)\n",
    "        # < probs = torch.nn.functional.softmax(logits, dim=1) >\n",
    "        # ---------------\n",
    "\n",
    "        # get log-probability of each sample\n",
    "        loss = -probs[torch.arange(len(ys)), ys].log().mean() + (regularization * torch.mean(weights ** 2))\n",
    "        \n",
    "        # backward pass\n",
    "        loss.backward()\n",
    "        \n",
    "        # gradient descent step\n",
    "        weights.data -= lr * weights.grad\n",
    "        weights.grad = None\n",
    "\n",
    "        if i % print_every == 0:\n",
    "            print(f' Iteration {i}: loss = {loss.item()}')\n",
    "        losses.append(loss.item())\n",
    "    return losses\n"
   ]
  },
  {
   "cell_type": "code",
   "execution_count": 7,
   "metadata": {},
   "outputs": [
    {
     "name": "stdout",
     "output_type": "stream",
     "text": [
      " Iteration 0: loss = 3.7779390811920166\n",
      " Iteration 50: loss = 2.6101882457733154\n",
      " Iteration 100: loss = 2.4545695781707764\n",
      " Iteration 150: loss = 2.3879470825195312\n",
      " Iteration 200: loss = 2.3501787185668945\n",
      " Iteration 250: loss = 2.325592041015625\n",
      " Iteration 300: loss = 2.308259963989258\n",
      " Iteration 350: loss = 2.2953855991363525\n",
      " Iteration 400: loss = 2.2854599952697754\n",
      " Iteration 450: loss = 2.27758526802063\n",
      " Iteration 500: loss = 2.2711870670318604\n",
      " Iteration 550: loss = 2.2658824920654297\n",
      " Iteration 600: loss = 2.2614076137542725\n",
      " Iteration 650: loss = 2.2575762271881104\n",
      " Iteration 700: loss = 2.2542552947998047\n",
      " Iteration 750: loss = 2.2513458728790283\n",
      " Iteration 800: loss = 2.248774766921997\n",
      " Iteration 850: loss = 2.2464847564697266\n",
      " Iteration 900: loss = 2.2444326877593994\n",
      " Iteration 950: loss = 2.2425830364227295\n"
     ]
    },
    {
     "data": {
      "text/plain": [
       "[<matplotlib.lines.Line2D at 0x14709f310>]"
      ]
     },
     "execution_count": 7,
     "metadata": {},
     "output_type": "execute_result"
    },
    {
     "data": {
      "image/png": "[encoded data removed]",
      "text/plain": [
       "<Figure size 640x480 with 1 Axes>"
      ]
     },
     "metadata": {},
     "output_type": "display_data"
    }
   ],
   "source": [
    "losses = train(trigram_xs_enc, trigram_ys, trigram_weights, iters=1000, lr=50.0, regularization=0.01, print_every=50)\n",
    "\n",
    "import matplotlib.pyplot as plt\n",
    "\n",
    "plt.plot(losses)"
   ]
  },
  {
   "cell_type": "code",
   "execution_count": 8,
   "metadata": {},
   "outputs": [
    {
     "data": {
      "text/plain": [
       "2.2409396171569824"
      ]
     },
     "execution_count": 8,
     "metadata": {},
     "output_type": "execute_result"
    }
   ],
   "source": [
    "losses[-1]"
   ]
  },
  {
   "attachments": {},
   "cell_type": "markdown",
   "metadata": {},
   "source": [
    "We see some mild improvement in the trigram model: a log-likelihood loss of 2.24 vs 2.45, which is expected, given that we now have access to more information.\n",
    "\n",
    "We can try generating a few names with the new model:"
   ]
  },
  {
   "cell_type": "code",
   "execution_count": 9,
   "metadata": {},
   "outputs": [],
   "source": [
    "def generate(ma):\n",
    "    logprob_sum = 0.0\n",
    "    count = 0\n",
    "    ix = 0\n",
    "    name = []\n",
    "    count = 0\n",
    "    while True:\n",
    "        ix2 = torch.multinomial(ma[ix], 1, replacement=False).item()\n",
    "        logprob_sum += torch.log(ma[ix, ix2])\n",
    "        count += 1\n",
    "        if ix2 == 0:\n",
    "            break\n",
    "        name.append(itos[ix2])\n",
    "        ix = ix2\n",
    "    return ''.join(name), logprob_sum, count\n"
   ]
  },
  {
   "cell_type": "code",
   "execution_count": 10,
   "metadata": {},
   "outputs": [],
   "source": [
    "normalized_trigram_weights = torch.nn.functional.softmax(trigram_weights, dim=1)"
   ]
  },
  {
   "cell_type": "code",
   "execution_count": 11,
   "metadata": {},
   "outputs": [
    {
     "name": "stdout",
     "output_type": "stream",
     "text": [
      "viloradyemamlamabri (log-likelihood: 2.241)\n",
      "gn (log-likelihood: 3.558)\n",
      "gros (log-likelihood: 2.496)\n",
      "wiero (log-likelihood: 2.748)\n",
      "vbrhshelaahanloadamavo (log-likelihood: 2.459)\n",
      "qevitaalisededeevelealaedainelyaaalekarutuhei (log-likelihood: 2.387)\n",
      "avi (log-likelihood: 1.946)\n",
      "iyani (log-likelihood: 2.230)\n",
      "kavaaeabmakayytalasaredau (log-likelihood: 2.549)\n",
      "qniailsrashalalearoe (log-likelihood: 2.376)\n"
     ]
    }
   ],
   "source": [
    "num_generated_names = 10\n",
    "\n",
    "for _ in range(num_generated_names):\n",
    "    name, logprobsum, count = generate(normalized_trigram_weights)\n",
    "    print(f\"{name} (log-likelihood: {-logprobsum/count:0.3f})\")"
   ]
  },
  {
   "attachments": {},
   "cell_type": "markdown",
   "metadata": {},
   "source": [
    "Still not convincing names in my opinion, but maybe we can improve with more sophsiticated network architecture. At least our loss is lower."
   ]
  },
  {
   "attachments": {},
   "cell_type": "markdown",
   "metadata": {},
   "source": [
    "### E02:\n",
    "#### *Split up the dataset randomly into 80% train set, 10% dev set, 10% test set. Train the bigram and trigram models only on the training set. Evaluate them on dev and test splits. What can you see?*"
   ]
  },
  {
   "attachments": {},
   "cell_type": "markdown",
   "metadata": {},
   "source": [
    "First we'll split the data into train, dev, and test:"
   ]
  },
  {
   "cell_type": "code",
   "execution_count": 12,
   "metadata": {},
   "outputs": [],
   "source": [
    "# always good practice to randomize data prior to splitting\n",
    "import random\n",
    "random.shuffle(words)\n",
    "words\n",
    "train_split, dev_split = int(0.8 * len(words)), int(0.9 * len(words))\n",
    "\n",
    "train_words, dev_words, test_words = words[:train_split], words[train_split:dev_split], words[dev_split:]"
   ]
  },
  {
   "attachments": {},
   "cell_type": "markdown",
   "metadata": {},
   "source": [
    "Next, we'll convert that data into the appropriate encodings for the bigram and trigram models:"
   ]
  },
  {
   "cell_type": "code",
   "execution_count": 13,
   "metadata": {},
   "outputs": [],
   "source": [
    "\n",
    "def build_bigram_dataset(data):\n",
    "    xs, ys = [], []\n",
    "    for w in data:\n",
    "        chs = ['.'] + list(w) + ['.']\n",
    "        for i in range(len(chs) - 1):\n",
    "            xs.append(stoi[chs[i]])\n",
    "            ys.append(stoi[chs[i+1]])\n",
    "    xs = torch.tensor(xs)\n",
    "    ys = torch.tensor(ys)\n",
    "    xs = torch.nn.functional.one_hot(xs, num_classes=27).float()\n",
    "    return xs, ys\n",
    "\n",
    "def build_trigram_dataset(data):\n",
    "    xs, ys = [], []\n",
    "    for w in data:\n",
    "        chs = ['.'] + list(w) + ['.']\n",
    "        for i in range(len(chs) - 2):\n",
    "            xs.append((stoi[chs[i]] * 27) + stoi[chs[i+1]])\n",
    "            ys.append(stoi[chs[i+2]])\n",
    "    xs = torch.tensor(xs)\n",
    "    ys = torch.tensor(ys)\n",
    "    xs = torch.nn.functional.one_hot(xs, num_classes=27*27).float()\n",
    "    return xs, ys\n",
    "\n",
    "bigram_xs_train, bigram_ys_train = build_bigram_dataset(train_words)\n",
    "bigram_xs_dev, bigram_ys_dev = build_bigram_dataset(dev_words)\n",
    "bigram_xs_test, bigram_ys_test = build_bigram_dataset(test_words)\n",
    "\n",
    "trigram_xs_train, trigram_ys_train = build_trigram_dataset(train_words)\n",
    "trigram_xs_dev, trigram_ys_dev = build_trigram_dataset(dev_words)\n",
    "trigram_xs_test, trigram_ys_test = build_trigram_dataset(test_words)"
   ]
  },
  {
   "cell_type": "code",
   "execution_count": 14,
   "metadata": {},
   "outputs": [
    {
     "name": "stdout",
     "output_type": "stream",
     "text": [
      " Iteration 0: loss = 3.6740121841430664\n",
      " Iteration 25: loss = 2.676595687866211\n",
      " Iteration 50: loss = 2.5729410648345947\n",
      " Iteration 75: loss = 2.5378642082214355\n",
      " Iteration 100: loss = 2.520911455154419\n",
      " Iteration 125: loss = 2.5108354091644287\n",
      " Iteration 150: loss = 2.5041635036468506\n",
      " Iteration 175: loss = 2.4994544982910156\n",
      " Iteration 200: loss = 2.4959890842437744\n",
      " Iteration 225: loss = 2.49336314201355\n",
      " Iteration 250: loss = 2.491330146789551\n",
      " Iteration 275: loss = 2.489729404449463\n",
      " Iteration 300: loss = 2.4884517192840576\n",
      " Iteration 325: loss = 2.4874205589294434\n",
      " Iteration 350: loss = 2.4865779876708984\n",
      " Iteration 375: loss = 2.485882520675659\n",
      " Iteration 400: loss = 2.485302686691284\n",
      " Iteration 425: loss = 2.484814167022705\n",
      " Iteration 450: loss = 2.4844000339508057\n",
      " Iteration 475: loss = 2.4840447902679443\n",
      " Iteration 500: loss = 2.4837379455566406\n",
      " Iteration 525: loss = 2.483471393585205\n",
      " Iteration 550: loss = 2.4832379817962646\n",
      " Iteration 575: loss = 2.483032464981079\n",
      " Iteration 600: loss = 2.4828505516052246\n",
      " Iteration 625: loss = 2.4826889038085938\n",
      " Iteration 650: loss = 2.4825446605682373\n",
      " Iteration 675: loss = 2.482414960861206\n",
      " Iteration 700: loss = 2.4822981357574463\n",
      " Iteration 725: loss = 2.4821929931640625\n",
      " Iteration 750: loss = 2.4820971488952637\n",
      " Iteration 775: loss = 2.4820103645324707\n",
      " Iteration 800: loss = 2.481931447982788\n",
      " Iteration 825: loss = 2.481858968734741\n",
      " Iteration 850: loss = 2.48179292678833\n",
      " Iteration 875: loss = 2.48173189163208\n",
      " Iteration 900: loss = 2.481675863265991\n",
      " Iteration 925: loss = 2.4816243648529053\n",
      " Iteration 950: loss = 2.481577157974243\n",
      " Iteration 975: loss = 2.4815330505371094\n"
     ]
    },
    {
     "data": {
      "text/plain": [
       "[<matplotlib.lines.Line2D at 0x1471c8490>]"
      ]
     },
     "execution_count": 14,
     "metadata": {},
     "output_type": "execute_result"
    },
    {
     "data": {
      "image/png": "[encoded data removed]",
      "text/plain": [
       "<Figure size 640x480 with 1 Axes>"
      ]
     },
     "metadata": {},
     "output_type": "display_data"
    }
   ],
   "source": [
    "bigram_weights = torch.randn((27, 27), requires_grad=True)\n",
    "bigram_losses = train(bigram_xs_train, bigram_ys_train, bigram_weights, iters=1000, lr=20.0, regularization=0.01, print_every=25)\n",
    "plt.plot(bigram_losses)"
   ]
  },
  {
   "cell_type": "code",
   "execution_count": 29,
   "metadata": {},
   "outputs": [],
   "source": [
    "def evaluate_model(xs, ys, weights):\n",
    "    logits = (xs @ weights).exp()\n",
    "    preds = logits / logits.sum(1, keepdim=True)\n",
    "    loss = -preds[torch.arange(len(ys)), ys].log().mean()\n",
    "    return loss.item()"
   ]
  },
  {
   "cell_type": "code",
   "execution_count": 16,
   "metadata": {},
   "outputs": [
    {
     "data": {
      "text/plain": [
       "2.460641860961914"
      ]
     },
     "execution_count": 16,
     "metadata": {},
     "output_type": "execute_result"
    }
   ],
   "source": [
    "evaluate_model(bigram_xs_dev, bigram_ys_dev, bigram_weights)"
   ]
  },
  {
   "cell_type": "code",
   "execution_count": 17,
   "metadata": {},
   "outputs": [
    {
     "data": {
      "text/plain": [
       "2.461305856704712"
      ]
     },
     "execution_count": 17,
     "metadata": {},
     "output_type": "execute_result"
    }
   ],
   "source": [
    "evaluate_model(bigram_xs_test, bigram_ys_test, bigram_weights)"
   ]
  },
  {
   "cell_type": "code",
   "execution_count": 18,
   "metadata": {},
   "outputs": [
    {
     "name": "stdout",
     "output_type": "stream",
     "text": [
      " Iteration 0: loss = 3.75309419631958\n",
      " Iteration 25: loss = 2.832350730895996\n",
      " Iteration 50: loss = 2.5978481769561768\n",
      " Iteration 75: loss = 2.4800922870635986\n",
      " Iteration 100: loss = 2.4081530570983887\n",
      " Iteration 125: loss = 2.359316349029541\n",
      " Iteration 150: loss = 2.323650360107422\n",
      " Iteration 175: loss = 2.296219825744629\n",
      " Iteration 200: loss = 2.2743396759033203\n",
      " Iteration 225: loss = 2.2564220428466797\n",
      " Iteration 250: loss = 2.241457462310791\n",
      " Iteration 275: loss = 2.228767156600952\n",
      " Iteration 300: loss = 2.2178752422332764\n",
      " Iteration 325: loss = 2.208432674407959\n",
      " Iteration 350: loss = 2.200178384780884\n",
      " Iteration 375: loss = 2.192908763885498\n",
      " Iteration 400: loss = 2.1864640712738037\n",
      " Iteration 425: loss = 2.1807167530059814\n",
      " Iteration 450: loss = 2.175562858581543\n",
      " Iteration 475: loss = 2.1709177494049072\n",
      " Iteration 500: loss = 2.1667115688323975\n",
      " Iteration 525: loss = 2.1628851890563965\n",
      " Iteration 550: loss = 2.159390449523926\n",
      " Iteration 575: loss = 2.1561853885650635\n",
      " Iteration 600: loss = 2.15323543548584\n",
      " Iteration 625: loss = 2.150510549545288\n",
      " Iteration 650: loss = 2.1479856967926025\n",
      " Iteration 675: loss = 2.145638942718506\n",
      " Iteration 700: loss = 2.143451690673828\n",
      " Iteration 725: loss = 2.1414079666137695\n",
      " Iteration 750: loss = 2.1394941806793213\n",
      " Iteration 775: loss = 2.137698173522949\n",
      " Iteration 800: loss = 2.1360087394714355\n",
      " Iteration 825: loss = 2.1344170570373535\n",
      " Iteration 850: loss = 2.1329150199890137\n",
      " Iteration 875: loss = 2.1314945220947266\n",
      " Iteration 900: loss = 2.130150079727173\n",
      " Iteration 925: loss = 2.128875255584717\n",
      " Iteration 950: loss = 2.127664566040039\n",
      " Iteration 975: loss = 2.126513719558716\n"
     ]
    },
    {
     "data": {
      "text/plain": [
       "[<matplotlib.lines.Line2D at 0x147245820>]"
      ]
     },
     "execution_count": 18,
     "metadata": {},
     "output_type": "execute_result"
    },
    {
     "data": {
      "image/png": "[encoded data removed]",
      "text/plain": [
       "<Figure size 640x480 with 1 Axes>"
      ]
     },
     "metadata": {},
     "output_type": "display_data"
    }
   ],
   "source": [
    "# reinitialize the trigram weights\n",
    "trigram_weights = torch.randn((27 * 27, 27), requires_grad=True)\n",
    "trigram_losses = train(trigram_xs_train, trigram_ys_train, trigram_weights, iters=1000, lr=50.0, regularization=0.01, print_every=25)\n",
    "plt.plot(trigram_losses)"
   ]
  },
  {
   "cell_type": "code",
   "execution_count": 19,
   "metadata": {},
   "outputs": [
    {
     "data": {
      "text/plain": [
       "2.138702392578125"
      ]
     },
     "execution_count": 19,
     "metadata": {},
     "output_type": "execute_result"
    }
   ],
   "source": [
    "evaluate_model(trigram_xs_dev, trigram_ys_dev, trigram_weights)"
   ]
  },
  {
   "cell_type": "code",
   "execution_count": 20,
   "metadata": {},
   "outputs": [
    {
     "data": {
      "text/plain": [
       "2.1367685794830322"
      ]
     },
     "execution_count": 20,
     "metadata": {},
     "output_type": "execute_result"
    }
   ],
   "source": [
    "evaluate_model(trigram_xs_test, trigram_ys_test, trigram_weights)"
   ]
  },
  {
   "attachments": {},
   "cell_type": "markdown",
   "metadata": {},
   "source": [
    "We see that both models generalize fairly well, maintaining a similar loss across the train, dev, and test sets (albeit slightly higher on the dev and test sets). Once again, the trigram model achieves higher accuracy."
   ]
  },
  {
   "attachments": {},
   "cell_type": "markdown",
   "metadata": {},
   "source": [
    "### E03: \n",
    "#### *Use the dev set to tune the strength of smoothing (or regularization) for the trigram model - i.e. try many possibilities and see which one works best based on the dev set loss. What patterns can you see in the train and dev set loss as you tune this strength? Take the best setting of the smoothing and evaluate on the test set once and at the end. How good of a loss do you achieve?*"
   ]
  },
  {
   "cell_type": "code",
   "execution_count": 32,
   "metadata": {},
   "outputs": [
    {
     "name": "stdout",
     "output_type": "stream",
     "text": [
      " Iteration 0: loss = 3.7586708068847656\n",
      " Iteration 100: loss = 2.394470453262329\n",
      " Iteration 200: loss = 2.259982109069824\n",
      " Iteration 300: loss = 2.204493522644043\n",
      " Iteration 400: loss = 2.1735455989837646\n",
      " Iteration 500: loss = 2.153796672821045\n",
      " Iteration 600: loss = 2.1400973796844482\n",
      " Iteration 700: loss = 2.1300082206726074\n",
      " Iteration 800: loss = 2.1222431659698486\n",
      " Iteration 900: loss = 2.116067409515381\n",
      "regularization: 0.0, dev loss: 2.138\n",
      " Iteration 0: loss = 3.732936382293701\n",
      " Iteration 100: loss = 2.391986608505249\n",
      " Iteration 200: loss = 2.2609481811523438\n",
      " Iteration 300: loss = 2.2058632373809814\n",
      " Iteration 400: loss = 2.1751232147216797\n",
      " Iteration 500: loss = 2.155500888824463\n",
      " Iteration 600: loss = 2.141850709915161\n",
      " Iteration 700: loss = 2.1317732334136963\n",
      " Iteration 800: loss = 2.1240155696868896\n",
      " Iteration 900: loss = 2.1178553104400635\n",
      "regularization: 0.001, dev loss: 2.139\n",
      " Iteration 0: loss = 3.7610955238342285\n",
      " Iteration 100: loss = 2.4035778045654297\n",
      " Iteration 200: loss = 2.2673532962799072\n",
      " Iteration 300: loss = 2.211226463317871\n",
      " Iteration 400: loss = 2.1801884174346924\n",
      " Iteration 500: loss = 2.1604690551757812\n",
      " Iteration 600: loss = 2.146839141845703\n",
      " Iteration 700: loss = 2.136852741241455\n",
      " Iteration 800: loss = 2.1292145252227783\n",
      " Iteration 900: loss = 2.123181104660034\n",
      "regularization: 0.005, dev loss: 2.138\n",
      " Iteration 0: loss = 3.76651668548584\n",
      " Iteration 100: loss = 2.400813579559326\n",
      " Iteration 200: loss = 2.2697556018829346\n",
      " Iteration 300: loss = 2.2156195640563965\n",
      " Iteration 400: loss = 2.1854822635650635\n",
      " Iteration 500: loss = 2.166377544403076\n",
      " Iteration 600: loss = 2.15321683883667\n",
      " Iteration 700: loss = 2.1435840129852295\n",
      " Iteration 800: loss = 2.1362125873565674\n",
      " Iteration 900: loss = 2.1303842067718506\n",
      "regularization: 0.01, dev loss: 2.138\n",
      " Iteration 0: loss = 3.802536964416504\n",
      " Iteration 100: loss = 2.4425554275512695\n",
      " Iteration 200: loss = 2.3092777729034424\n",
      " Iteration 300: loss = 2.2554471492767334\n",
      " Iteration 400: loss = 2.226106882095337\n",
      " Iteration 500: loss = 2.207700490951538\n",
      " Iteration 600: loss = 2.195125102996826\n",
      " Iteration 700: loss = 2.185990810394287\n",
      " Iteration 800: loss = 2.1790475845336914\n",
      " Iteration 900: loss = 2.173585891723633\n",
      "regularization: 0.05, dev loss: 2.141\n",
      " Iteration 0: loss = 3.8500187397003174\n",
      " Iteration 100: loss = 2.479043483734131\n",
      " Iteration 200: loss = 2.347749948501587\n",
      " Iteration 300: loss = 2.294379234313965\n",
      " Iteration 400: loss = 2.2651286125183105\n",
      " Iteration 500: loss = 2.246486186981201\n",
      " Iteration 600: loss = 2.2334787845611572\n",
      " Iteration 700: loss = 2.2238388061523438\n",
      " Iteration 800: loss = 2.2163939476013184\n",
      " Iteration 900: loss = 2.2104759216308594\n",
      "regularization: 0.1, dev loss: 2.147\n",
      " Iteration 0: loss = 4.275509357452393\n",
      " Iteration 100: loss = 2.7054526805877686\n",
      " Iteration 200: loss = 2.514869451522827\n",
      " Iteration 300: loss = 2.4346370697021484\n",
      " Iteration 400: loss = 2.3944876194000244\n",
      " Iteration 500: loss = 2.3730361461639404\n",
      " Iteration 600: loss = 2.3611860275268555\n",
      " Iteration 700: loss = 2.35451340675354\n",
      " Iteration 800: loss = 2.35071063041687\n",
      " Iteration 900: loss = 2.3485255241394043\n",
      "regularization: 0.5, dev loss: 2.216\n",
      " Iteration 0: loss = 4.752264022827148\n",
      " Iteration 100: loss = 2.8125524520874023\n",
      " Iteration 200: loss = 2.565197229385376\n",
      " Iteration 300: loss = 2.4925456047058105\n",
      " Iteration 400: loss = 2.4691386222839355\n",
      " Iteration 500: loss = 2.461329221725464\n",
      " Iteration 600: loss = 2.4586739540100098\n",
      " Iteration 700: loss = 2.4577603340148926\n",
      " Iteration 800: loss = 2.4574432373046875\n",
      " Iteration 900: loss = 2.4573326110839844\n",
      "regularization: 1.0, dev loss: 2.288\n"
     ]
    }
   ],
   "source": [
    "possible_regularizations = [0.0, 0.001, 0.005, 0.01, 0.05, 0.1, 0.5, 1.0]\n",
    "all_losses = []\n",
    "models = []\n",
    "for regularization in possible_regularizations:\n",
    "    trigram_weights = torch.randn((27 * 27, 27), requires_grad=True)\n",
    "    trigram_losses = train(trigram_xs_train, trigram_ys_train, trigram_weights, iters=1000, lr=50.0, regularization=regularization, print_every=100)\n",
    "    print(f\"regularization: {regularization}, dev loss: {evaluate_model(trigram_xs_dev, trigram_ys_dev, trigram_weights):0.3f}\")\n",
    "    all_losses.append(trigram_losses)\n",
    "    models.append(trigram_weights)"
   ]
  },
  {
   "cell_type": "code",
   "execution_count": 33,
   "metadata": {},
   "outputs": [
    {
     "data": {
      "image/png": "[encoded data removed]",
      "text/plain": [
       "<Figure size 800x800 with 1 Axes>"
      ]
     },
     "metadata": {},
     "output_type": "display_data"
    }
   ],
   "source": [
    "fig = plt.figure(figsize=(8, 8))\n",
    "ax = fig.add_subplot(111)\n",
    "for i, regularization in enumerate(possible_regularizations):\n",
    "    ax.plot(all_losses[i], label=f\"regularization: {regularization}\")\n",
    "    ax.legend()"
   ]
  },
  {
   "cell_type": "code",
   "execution_count": 36,
   "metadata": {},
   "outputs": [
    {
     "data": {
      "text/plain": [
       "2.1350443363189697"
      ]
     },
     "execution_count": 36,
     "metadata": {},
     "output_type": "execute_result"
    }
   ],
   "source": [
    "best_weights = models[2]\n",
    "evaluate_model(trigram_xs_test, trigram_ys_test, best_weights)"
   ]
  },
  {
   "attachments": {},
   "cell_type": "markdown",
   "metadata": {},
   "source": [
    "### E04: \n",
    "#### *We saw that our 1-hot vectors merely select a row of W, so producing these vectors explicitly feels wasteful. Can you delete our use of F.one_hot in favor of simply indexing into rows of W?*"
   ]
  },
  {
   "attachments": {},
   "cell_type": "markdown",
   "metadata": {},
   "source": [
    "Instead of using the dot product to extract the correct rows of the weight matrix using one-hot vector, we can omit converting the inputs into one-hot vectors entirely, and instead use the ids to index into the appropriate indices."
   ]
  },
  {
   "cell_type": "code",
   "execution_count": null,
   "metadata": {},
   "outputs": [],
   "source": []
  },
  {
   "cell_type": "code",
   "execution_count": 57,
   "metadata": {},
   "outputs": [],
   "source": [
    "def build_trigram_dataset(data):\n",
    "    xs, ys = [], []\n",
    "    for w in data:\n",
    "        chs = ['.'] + list(w) + ['.']\n",
    "        for i in range(len(chs) - 2):\n",
    "            xs.append((stoi[chs[i]] * 27) + stoi[chs[i+1]])\n",
    "            ys.append(stoi[chs[i+2]])\n",
    "    xs = torch.tensor(xs)\n",
    "    ys = torch.tensor(ys)\n",
    "    return xs, ys"
   ]
  },
  {
   "cell_type": "code",
   "execution_count": 60,
   "metadata": {},
   "outputs": [],
   "source": [
    "xs_no_onehot, ys_no_onehot = build_trigram_dataset(train_words)"
   ]
  },
  {
   "cell_type": "code",
   "execution_count": 61,
   "metadata": {},
   "outputs": [],
   "source": [
    "xs_onehot = torch.nn.functional.one_hot(xs_no_onehot, num_classes=27*27).float()"
   ]
  },
  {
   "cell_type": "code",
   "execution_count": 62,
   "metadata": {},
   "outputs": [
    {
     "data": {
      "text/plain": [
       "(torch.Size([157114, 27]), torch.Size([157114, 27]))"
      ]
     },
     "execution_count": 62,
     "metadata": {},
     "output_type": "execute_result"
    }
   ],
   "source": [
    "best_weights[xs_no_onehot].shape, (xs_onehot @ best_weights).shape"
   ]
  },
  {
   "cell_type": "code",
   "execution_count": 63,
   "metadata": {},
   "outputs": [
    {
     "data": {
      "text/plain": [
       "tensor(True)"
      ]
     },
     "execution_count": 63,
     "metadata": {},
     "output_type": "execute_result"
    }
   ],
   "source": [
    "(best_weights[xs_no_onehot] == (xs_onehot @ best_weights)).all()"
   ]
  },
  {
   "attachments": {},
   "cell_type": "markdown",
   "metadata": {},
   "source": [
    "E05: look up and use F.cross_entropy instead. You should achieve the same result. Can you think of why we'd prefer to use F.cross_entropy instead?"
   ]
  },
  {
   "attachments": {},
   "cell_type": "markdown",
   "metadata": {},
   "source": [
    "We can modify the train function as follows:"
   ]
  },
  {
   "cell_type": "code",
   "execution_count": 75,
   "metadata": {},
   "outputs": [],
   "source": [
    "def train(xs, ys, weights, iters, lr, regularization, print_every=10):\n",
    "    losses = []\n",
    "    for i in range(iters):\n",
    "        # forward pass\n",
    "        logits = weights[xs]\n",
    "    \n",
    "        # --- softmax --- # \n",
    "        # counts = logits.exp()\n",
    "        # probs = counts / counts.sum(1, keepdim=True)\n",
    "        # # < probs = torch.nn.functional.softmax(logits, dim=1) >\n",
    "        # # ---------------\n",
    "\n",
    "        # # get log-probability of each sample\n",
    "        # loss = -probs[torch.arange(len(ys)), ys].log().mean() + (regularization * torch.mean(weights ** 2))\n",
    "\n",
    "        loss = torch.nn.functional.cross_entropy(logits, ys) + (regularization * torch.mean(weights ** 2))\n",
    "        \n",
    "        # backward pass\n",
    "        loss.backward()\n",
    "        \n",
    "        # gradient descent step\n",
    "        weights.data -= lr * weights.grad\n",
    "        weights.grad = None\n",
    "\n",
    "        if i % print_every == 0:\n",
    "            print(f' Iteration {i}: loss = {loss.item()}')\n",
    "        losses.append(loss.item())\n",
    "    return losses"
   ]
  },
  {
   "cell_type": "code",
   "execution_count": 77,
   "metadata": {},
   "outputs": [],
   "source": [
    "xs_train, ys_train = build_trigram_dataset(train_words)"
   ]
  },
  {
   "cell_type": "code",
   "execution_count": 78,
   "metadata": {},
   "outputs": [
    {
     "name": "stdout",
     "output_type": "stream",
     "text": [
      " Iteration 0: loss = 3.796067237854004\n",
      " Iteration 100: loss = 2.401005506515503\n",
      " Iteration 200: loss = 2.2656092643737793\n",
      " Iteration 300: loss = 2.209942102432251\n",
      " Iteration 400: loss = 2.1794683933258057\n",
      " Iteration 500: loss = 2.160184860229492\n",
      " Iteration 600: loss = 2.1468441486358643\n",
      " Iteration 700: loss = 2.1370341777801514\n",
      " Iteration 800: loss = 2.1295006275177\n",
      " Iteration 900: loss = 2.1235268115997314\n"
     ]
    },
    {
     "data": {
      "text/plain": [
       "[<matplotlib.lines.Line2D at 0x177a665b0>]"
      ]
     },
     "execution_count": 78,
     "metadata": {},
     "output_type": "execute_result"
    },
    {
     "data": {
      "image/png": "[encoded data removed]",
      "text/plain": [
       "<Figure size 640x480 with 1 Axes>"
      ]
     },
     "metadata": {},
     "output_type": "display_data"
    }
   ],
   "source": [
    "trigram_weights = torch.randn((27 * 27, 27), requires_grad=True)\n",
    "trigram_losses = train(xs_train, ys_train, trigram_weights, iters=1000, lr=50.0, regularization=0.005, print_every=100)\n",
    "plt.plot(trigram_losses)"
   ]
  },
  {
   "attachments": {},
   "cell_type": "markdown",
   "metadata": {},
   "source": [
    "This has the advantage of not creating multiple tensors, which should speed things up. It also makes consolidates a lot of the gradient computation and has other optimizations that pytorch executes behind the scenes."
   ]
  },
  {
   "attachments": {},
   "cell_type": "markdown",
   "metadata": {},
   "source": [
    "E06: meta-exercise! Think of a fun/interesting exercise and complete it."
   ]
  },
  {
   "attachments": {},
   "cell_type": "markdown",
   "metadata": {},
   "source": [
    "Instead of building a trigram model that uses the previous two characters, we could introduce some human intuition around values.\n",
    "\n",
    "Namely, our model input contains the previous character, and then the next-most previous vowel (or '.'). Vowels in names usually take on common structures, so this could be a nice way to try to eke out some more performance from an otherwise very limited model."
   ]
  },
  {
   "cell_type": "code",
   "execution_count": 79,
   "metadata": {},
   "outputs": [],
   "source": [
    "def build_trigram_dataset_prev_vowel(data):\n",
    "    xs, ys = [], []\n",
    "    for w in data:\n",
    "        last_vowel = 0\n",
    "        chs = ['.'] + list(w) + ['.']\n",
    "        for i in range(len(chs) - 1):\n",
    "            xs.append((stoi[chs[i]] * 27) + stoi[chs[last_vowel]])\n",
    "            ys.append(stoi[chs[i+1]])\n",
    "            if chs[i] in ['a', 'e', 'i', 'o', 'u']:\n",
    "                last_vowel = i\n",
    "\n",
    "    xs = torch.tensor(xs)\n",
    "    ys = torch.tensor(ys)\n",
    "    return xs, ys"
   ]
  },
  {
   "cell_type": "code",
   "execution_count": 80,
   "metadata": {},
   "outputs": [
    {
     "data": {
      "text/plain": [
       "(tensor([  0, 216, 135, 329, 329, 410,   0, 621, 405, 501, 339, 123]),\n",
       " tensor([ 8,  5, 12, 12, 15,  0, 23, 15, 18, 12,  4,  0]))"
      ]
     },
     "execution_count": 80,
     "metadata": {},
     "output_type": "execute_result"
    }
   ],
   "source": [
    "build_trigram_dataset_prev_vowel(['hello', 'world'])"
   ]
  },
  {
   "cell_type": "code",
   "execution_count": 81,
   "metadata": {},
   "outputs": [],
   "source": [
    "xs_train, ys_train = build_trigram_dataset_prev_vowel(train_words)\n",
    "xs_dev, ys_dev = build_trigram_dataset_prev_vowel(dev_words)\n",
    "xs_test, ys_test = build_trigram_dataset_prev_vowel(test_words)\n"
   ]
  },
  {
   "cell_type": "code",
   "execution_count": 82,
   "metadata": {},
   "outputs": [
    {
     "name": "stdout",
     "output_type": "stream",
     "text": [
      " Iteration 0: loss = 3.782006025314331\n",
      " Iteration 100: loss = 2.446876049041748\n",
      " Iteration 200: loss = 2.382607936859131\n",
      " Iteration 300: loss = 2.358875274658203\n",
      " Iteration 400: loss = 2.3468096256256104\n",
      " Iteration 500: loss = 2.339616060256958\n",
      " Iteration 600: loss = 2.3348805904388428\n",
      " Iteration 700: loss = 2.331540107727051\n",
      " Iteration 800: loss = 2.3290600776672363\n",
      " Iteration 900: loss = 2.327146530151367\n"
     ]
    },
    {
     "data": {
      "text/plain": [
       "[<matplotlib.lines.Line2D at 0x1776f0970>]"
      ]
     },
     "execution_count": 82,
     "metadata": {},
     "output_type": "execute_result"
    },
    {
     "data": {
      "image/png": "[encoded data removed]",
      "text/plain": [
       "<Figure size 640x480 with 1 Axes>"
      ]
     },
     "metadata": {},
     "output_type": "display_data"
    }
   ],
   "source": [
    "prev_vowel_weights = torch.randn((27 * 27, 27), requires_grad=True)\n",
    "prev_vowel_losses = train(xs_train, ys_train, prev_vowel_weights, iters=1000, lr=50.0, regularization=0.005, print_every=100)\n",
    "plt.plot(prev_vowel_losses)"
   ]
  },
  {
   "cell_type": "code",
   "execution_count": 98,
   "metadata": {},
   "outputs": [],
   "source": [
    "def evaluate_model(xs, ys, weights):\n",
    "    logits = weights[xs]\n",
    "    loss = torch.nn.functional.cross_entropy(logits, ys)\n",
    "    return loss.item()"
   ]
  },
  {
   "cell_type": "code",
   "execution_count": 99,
   "metadata": {},
   "outputs": [
    {
     "data": {
      "text/plain": [
       "2.3296713829040527"
      ]
     },
     "execution_count": 99,
     "metadata": {},
     "output_type": "execute_result"
    }
   ],
   "source": [
    "evaluate_model(xs_dev, ys_dev, prev_vowel_weights)"
   ]
  },
  {
   "cell_type": "code",
   "execution_count": 124,
   "metadata": {},
   "outputs": [
    {
     "name": "stdout",
     "output_type": "stream",
     "text": [
      "rtvpa (log-likelihood: 3.504)\n",
      "kbgbwsmtvvagbihqvarszvkciuowtvvzvrmbudiuuplcuyabyrfhucbaiusihqwbghucmbvqxptpmtcqvihdtcluyhhlsparfjvvwlvdtdiuhnqvgyuuyfayqyrpennsmyu (log-likelihood: 2.687)\n",
      "obvvmreugtvbhsckbuyurflvxqjb (log-likelihood: 2.791)\n",
      "etxxelih (log-likelihood: 3.052)\n",
      "jzmkbtbaarssltplucqjfjpdhkbwtdxxswo (log-likelihood: 2.877)\n",
      "sdcuiwwmmyiuwkbaretiuyrmnxzvalmtwnnfgkyuyuuucgyuurpoppxzyssrgbchyamtfpkkbwebiajvmhupldlvzbgowfhtodlduyadhdhhgjkcvzeuuhkwlqwlzgbbmyathiuuyuhwxzfrnfgyuuuihqdifmthpmdeltgnkewtxm (log-likelihood: 2.835)\n",
      "iuyarftviuuugsspxbcgottdhjnfzrnkifjht (log-likelihood: 2.574)\n",
      "dmbmdlo (log-likelihood: 3.026)\n",
      "rvzjaadzkbmyugbmqgbdlvzrnkmb (log-likelihood: 2.731)\n",
      "bmotiuiuyuuuuhspxwzfhwtplooyarfpciwo (log-likelihood: 2.681)\n"
     ]
    }
   ],
   "source": [
    "normalized_prev_vowel_weights = torch.nn.functional.softmax(prev_vowel_weights, dim=1)\n",
    "num_generated_names = 10\n",
    "\n",
    "for _ in range(num_generated_names):\n",
    "    name, logprobsum, count = generate(normalized_prev_vowel_weights)\n",
    "    print(f\"{name} (log-likelihood: {-logprobsum/count:0.3f})\")"
   ]
  },
  {
   "attachments": {},
   "cell_type": "markdown",
   "metadata": {},
   "source": [
    "Absolute hot garbage. While our loss is actually lower than the bigram model, the results are in practice... not good. In order for an approach like this to work well we'd really need to include some more information in the model input, but that does not scale well with the weight matrix approach. We will fix all of these problems in the next lecture when we cover embeddings and the MLP architecture :)"
   ]
  }
 ],
 "metadata": {
  "kernelspec": {
   "display_name": "python3",
   "language": "python",
   "name": "python3"
  },
  "language_info": {
   "codemirror_mode": {
    "name": "ipython",
    "version": 3
   },
   "file_extension": ".py",
   "mimetype": "text/x-python",
   "name": "python",
   "nbconvert_exporter": "python",
   "pygments_lexer": "ipython3",
   "version": "3.8.16"
  },
  "orig_nbformat": 4
 },
 "nbformat": 4,
 "nbformat_minor": 2
}

{
 "cells": [
  {
   "attachments": {},
   "cell_type": "markdown",
   "metadata": {},
   "source": [
    "EX1: The n-dimensional tensor mastery challenge: Combine the `Head` and `MultiHeadAttention` into one class that processes all the heads in parallel, treating the heads as another batch dimension (answer is in nanoGPT)."
   ]
  },
  {
   "cell_type": "code",
   "execution_count": 1,
   "metadata": {},
   "outputs": [],
   "source": [
    "import torch\n",
    "import torch.nn as nn\n",
    "import torch.nn.functional as F\n",
    "import numpy as np\n",
    "import matplotlib.pyplot as plt\n",
    "\n",
    "device = torch.device('cuda' if torch.cuda.is_available() else 'cpu')"
   ]
  },
  {
   "attachments": {},
   "cell_type": "markdown",
   "metadata": {},
   "source": [
    "Pulling in our code from lecture, we left off with the following implementation:"
   ]
  },
  {
   "cell_type": "code",
   "execution_count": 2,
   "metadata": {},
   "outputs": [],
   "source": [
    "class SelfAttentionHead(nn.Module):\n",
    "    def __init__(self, input_channels, output_channels, context_length, dropout=0.05) -> None:\n",
    "        super().__init__()\n",
    "        self.input_channels = input_channels\n",
    "        self.output_channels = output_channels\n",
    "        self.key = nn.Linear(input_channels, output_channels, bias=False)\n",
    "        self.query = nn.Linear(input_channels, output_channels, bias=False)\n",
    "        self.value = nn.Linear(input_channels, output_channels, bias=False)\n",
    "        self.register_buffer('tril', torch.tril(torch.ones((context_length, context_length))))\n",
    "        self.dropout = nn.Dropout(dropout)\n",
    "        \n",
    "        \n",
    "    def forward(self, idx):\n",
    "        B, T, C = idx.shape\n",
    "        \n",
    "        # lookup query, key, and value vectors\n",
    "        # C == input_channels, H == output_channels == head_size\n",
    "        k = self.key(idx) # (B, T, C) -> (B, T, H)\n",
    "        q = self.query(idx) # (B, T, C) -> (B, T, H)\n",
    "        v = self.value(idx) # (B, T, C) -> (B, T, H)\n",
    "\n",
    "        # compute self attention by taking dot product of query and key\n",
    "        wei = q @ k.transpose(-2, -1) # (B, T, H) @ (B, H, T) -> (B, T, T)\n",
    "\n",
    "        wei *= self.output_channels ** -0.5 # scale by sqrt of head size\n",
    "        \n",
    "        # apply lower triangular mask to weights\n",
    "        wei = wei.masked_fill(self.tril[:T,:T]==0, float('-inf')) # (B, T, T)\n",
    "\n",
    "        # apply softmax to get attention weights\n",
    "        wei = F.softmax(wei, dim=-1) # (B, T, T)\n",
    "\n",
    "        wei = self.dropout(wei) # (B, T, T)\n",
    "\n",
    "        # apply attention weights to values\n",
    "        out = wei @ v # (B, T, T) @ (B, T, H) -> (B, T, H)\n",
    "\n",
    "        return out # (B, T, H)\n",
    "    \n",
    "\n",
    "class FeedForward(nn.Module):\n",
    "    def __init__(self, input_channels, output_channels) -> None:\n",
    "        super().__init__()\n",
    "\n",
    "        self.ff = nn.Sequential(\n",
    "            nn.Linear(input_channels, output_channels),\n",
    "            nn.ReLU(),\n",
    "        )\n",
    "\n",
    "    def forward(self, x):\n",
    "        return self.ff(x)\n",
    "\n",
    "class MultiHeadAttention(nn.Module):\n",
    "    def __init__(self, emb_size, context_length, head_size, num_heads) -> None:\n",
    "        super().__init__()\n",
    "\n",
    "        self.heads = nn.ModuleList([\n",
    "            SelfAttentionHead(emb_size, head_size, context_length) for _ in range(num_heads)\n",
    "        ])\n",
    "\n",
    "    def forward(self, x):\n",
    "        return torch.cat([head(x) for head in self.heads], dim=-1)\n",
    "    \n",
    "\n",
    "class ResidualTransformerBlock(nn.Module):\n",
    "    def __init__(self, emb_size, head_size, context_length, num_multi_attn_heads) -> None:\n",
    "        super().__init__()\n",
    "        self.attn = MultiHeadAttention(emb_size, context_length, head_size//num_multi_attn_heads, num_heads=num_multi_attn_heads)\n",
    "        self.ff = FeedForward(head_size, head_size)\n",
    "        self.norm1 = nn.LayerNorm(head_size)\n",
    "        self.norm2 = nn.LayerNorm(head_size)\n",
    "\n",
    "    def forward(self, x):\n",
    "        x = self.attn(self.norm1(x)) + x # residual\n",
    "        x = self.ff(self.norm2(x)) + x # residual\n",
    "        return x\n",
    "    \n",
    "class MultiBlockModel(nn.Module):\n",
    "    def __init__(self, vocab_size, emb_size, head_size, context_length, num_multi_attn_heads, num_blocks) -> None:\n",
    "        super().__init__()\n",
    "        assert head_size % num_multi_attn_heads == 0\n",
    "        self.token_embeddings = nn.Embedding(vocab_size, emb_size)\n",
    "        self.positional_embeddings = nn.Embedding(context_length, emb_size)\n",
    "        self.blocks = nn.Sequential(*[ResidualTransformerBlock(emb_size, head_size, context_length, num_multi_attn_heads) for _ in range(num_blocks)], nn.LayerNorm(head_size))\n",
    "        self.ff = FeedForward(head_size, head_size)\n",
    "        self.output_layer = nn.Linear(head_size, vocab_size)\n",
    "\n",
    "        self.context_length = context_length\n",
    "\n",
    "    def forward(self, idx, targets=None):\n",
    "        B, T = idx.shape\n",
    "\n",
    "        # get token and positional embeddings\n",
    "        t = self.token_embeddings(idx) # (B, T) -> (B, T, C)\n",
    "        p = self.positional_embeddings(torch.arange(T, device=idx.device)) # (T, C)\n",
    "        x = t + p # (B, T, C) (broadcasting)\n",
    "\n",
    "        # pass thru attention head\n",
    "        x = self.blocks(x) # (B, T, C) -> (B, T, H)\n",
    "        \n",
    "        # pass thru feed forward\n",
    "        x = self.ff(x) # (B, T, H) -> (B, T, H)\n",
    "\n",
    "        # pass thru output layer\n",
    "        logits = self.output_layer(x) # (B, T, H) -> (B, T, V)\n",
    "\n",
    "        \n",
    "        if targets is not None:\n",
    "            B, T, V = logits.shape\n",
    "            logits = logits.view(B*T, V)\n",
    "            targets = targets.view(B*T)\n",
    "            loss = F.cross_entropy(logits, targets)\n",
    "        else:\n",
    "            loss = None\n",
    "\n",
    "        return logits, loss\n",
    "    \n",
    "    def generate(self, idx, max_new_tokens):\n",
    "        for _ in range(max_new_tokens):\n",
    "            idx_crop = idx[:,-self.context_length:]\n",
    "            logits, _ = self(idx_crop)\n",
    "            logits = logits[:,-1,:] # all batches, last timestamp, all channels\n",
    "            probs = F.softmax(logits, dim=-1)\n",
    "            idx_next = torch.multinomial(probs, num_samples=1)\n",
    "            idx = torch.cat((idx, idx_next), dim=1)\n",
    "        return idx\n"
   ]
  },
  {
   "attachments": {},
   "cell_type": "markdown",
   "metadata": {},
   "source": [
    "In lecture we implemented multi-head attention by feeding data into several different 'Head' modules in series and then concating the results. We can implement a vectorized version by combining the linear layers of each head into unified linear layers. We just need to be sure to get the dimensions correctly matched up, so that when we create a dimension for each head prior to computing the query-key dot product. I've outlined the shapes of each intermediate tensor in comments."
   ]
  },
  {
   "cell_type": "code",
   "execution_count": 3,
   "metadata": {},
   "outputs": [],
   "source": [
    "class MultiHeadAttention(nn.Module):\n",
    "    def __init__(self, input_channels, output_channels, context_length, num_heads, dropout=0.05) -> None:\n",
    "        assert output_channels % num_heads == 0\n",
    "        super().__init__()\n",
    "        self.input_channels = input_channels\n",
    "        self.output_channels = output_channels\n",
    "        self.head_size = output_channels // num_heads\n",
    "        self.num_heads = num_heads\n",
    "        self.key = nn.Linear(input_channels, output_channels, bias=False)\n",
    "        self.query = nn.Linear(input_channels, output_channels, bias=False)\n",
    "        self.value = nn.Linear(input_channels, output_channels, bias=False)\n",
    "        self.register_buffer('tril', torch.tril(torch.ones((context_length, context_length))))\n",
    "        self.dropout = nn.Dropout(dropout)\n",
    "        \n",
    "    def forward(self, idx):\n",
    "        B, T, C = idx.shape \n",
    "        # B = batches\n",
    "        # T = timesteps\n",
    "        # C = input channels\n",
    "        # Nh = attention heads\n",
    "        # Hs = head size\n",
    "        \n",
    "        q = self.query(idx) # (B, T, C) -> (B, T, Nh * Hs)\n",
    "        k = self.key(idx) # (B, T, C) -> (B, T, Nh * Hs)\n",
    "        \n",
    "        q = q.transpose(-2, -1).view(B, self.num_heads, self.head_size, T).transpose(-2, -1) # (B, T, Nh * Hs) -> (B, Nh, T, Hs)\n",
    "        k = k.transpose(-2, -1).view(B, self.num_heads, self.head_size, T) # (B, T, Nh * Hs) -> (B, Nh, Hs, T)\n",
    "        \n",
    "        w = q @ k # (B, Nh, T, Hs) @ (B, Nh, Hs, T) -> (B, Nh, T, T)\n",
    "        w = w.masked_fill(self.tril[:T,:T] == 0, float('-inf'))\n",
    "\n",
    "        w *= self.head_size**-0.5\n",
    "        w = F.softmax(w, dim=-1)\n",
    "\n",
    "        w = self.dropout(w)\n",
    "        \n",
    "        v = self.value(idx) # (B, T, C) -> (B, T, Nh * Hs)\n",
    "        v = v.transpose(-2, -1).view(B, self.num_heads, self.head_size, T).transpose(-2, -1) # (B, T, Nh * Hs) -> (B, Nh, T, Hs)\n",
    "\n",
    "        # torch requires a reshape here for reasons I don't fully understand\n",
    "        attn_out = (w @ v).transpose(-3, -2).reshape(B, T, -1)\n",
    "\n",
    "        return attn_out\n",
    "    \n",
    "\n",
    "# Need to redifine classes that use MultiHeadAttention as well!\n",
    "\n",
    "class ResidualTransformerBlock(nn.Module):\n",
    "    def __init__(self, emb_size, head_size, context_length, num_multi_attn_heads) -> None:\n",
    "        super().__init__()\n",
    "        self.attn = MultiHeadAttention(emb_size, head_size, context_length, num_heads=num_multi_attn_heads)\n",
    "        self.ff = FeedForward(head_size, head_size)\n",
    "        self.norm1 = nn.LayerNorm(head_size)\n",
    "        self.norm2 = nn.LayerNorm(head_size)\n",
    "\n",
    "    def forward(self, x):\n",
    "        x = self.attn(self.norm1(x)) + x # residual\n",
    "        x = self.ff(self.norm2(x)) + x # residual\n",
    "        return x\n",
    "    \n",
    "class MultiBlockModel(nn.Module):\n",
    "    def __init__(self, vocab_size, emb_size, head_size, context_length, num_multi_attn_heads, num_blocks) -> None:\n",
    "        super().__init__()\n",
    "        assert head_size % num_multi_attn_heads == 0\n",
    "        self.token_embeddings = nn.Embedding(vocab_size, emb_size)\n",
    "        self.positional_embeddings = nn.Embedding(context_length, emb_size)\n",
    "        self.blocks = nn.Sequential(*[ResidualTransformerBlock(emb_size, head_size, context_length, num_multi_attn_heads) for _ in range(num_blocks)], nn.LayerNorm(head_size))\n",
    "        self.ff = FeedForward(head_size, head_size)\n",
    "        self.output_layer = nn.Linear(head_size, vocab_size)\n",
    "\n",
    "        self.context_length = context_length\n",
    "\n",
    "    def forward(self, idx, targets=None):\n",
    "        B, T = idx.shape\n",
    "\n",
    "        # get token and positional embeddings\n",
    "        t = self.token_embeddings(idx) # (B, T) -> (B, T, C)\n",
    "        p = self.positional_embeddings(torch.arange(T, device=idx.device)) # (T, C)\n",
    "        x = t + p # (B, T, C) (broadcasting)\n",
    "\n",
    "        # pass thru attention head\n",
    "        x = self.blocks(x) # (B, T, C) -> (B, T, H)\n",
    "        \n",
    "        # pass thru feed forward\n",
    "        x = self.ff(x) # (B, T, H) -> (B, T, H)\n",
    "\n",
    "        # pass thru output layer\n",
    "        logits = self.output_layer(x) # (B, T, H) -> (B, T, V)\n",
    "\n",
    "        \n",
    "        if targets is not None:\n",
    "            B, T, V = logits.shape\n",
    "            logits = logits.view(B*T, V)\n",
    "            targets = targets.view(B*T)\n",
    "            loss = F.cross_entropy(logits, targets)\n",
    "        else:\n",
    "            loss = None\n",
    "\n",
    "        return logits, loss\n",
    "    \n",
    "    def generate(self, idx, max_new_tokens):\n",
    "        for _ in range(max_new_tokens):\n",
    "            idx_crop = idx[:,-self.context_length:]\n",
    "            logits, _ = self(idx_crop)\n",
    "            logits = logits[:,-1,:] # all batches, last timestamp, all channels\n",
    "            probs = F.softmax(logits, dim=-1)\n",
    "            idx_next = torch.multinomial(probs, num_samples=1)\n",
    "            idx = torch.cat((idx, idx_next), dim=1)\n",
    "        return idx\n"
   ]
  },
  {
   "attachments": {},
   "cell_type": "markdown",
   "metadata": {},
   "source": [
    "Now we can try training a model using this new component. If done correctly we should receive nearly identical results when compared to those from the lecture notebook, as the underlying structure of the network should not be fundamentally different and none of the hyperparameters have otherwise changed. \n",
    "\n",
    "First I'll pull in the all the training utility code:"
   ]
  },
  {
   "cell_type": "code",
   "execution_count": 4,
   "metadata": {},
   "outputs": [],
   "source": [
    "import string\n",
    "\n",
    "chars = sorted(list(set(string.printable)))\n",
    "vocab_size = len(chars) + 1\n",
    "\n",
    "stoi = { ch:i for i,ch in enumerate(chars) }\n",
    "itos = { i:ch for i,ch in enumerate(chars) }\n",
    "stoi['ukn'] = len(stoi)\n",
    "itos[len(itos)] = 'ukn'\n",
    "\n",
    "\n",
    "encode = lambda s: [stoi.get(c, stoi['ukn']) for c in s] # encoder: take a string, output a list of integers\n",
    "decode = lambda l: ''.join([itos[i] for i in l]) # decoder: take a list of integers, output a string\n",
    "\n",
    "with open('input.txt', 'r', encoding='utf-8') as f:\n",
    "    text = f.read()\n",
    "\n",
    "data = torch.tensor(encode(text), dtype=torch.long, device=device)\n",
    "\n",
    "spl = int(0.9 * len(data))\n",
    "\n",
    "train_data = data[:spl]\n",
    "\n",
    "val_data = data[spl:]\n",
    "\n",
    "torch.manual_seed(1337)\n",
    "\n",
    "batch_size = 4\n",
    "context_length = 8\n",
    "\n",
    "def get_batch(split, batch_size, context_length):\n",
    "    data = train_data if split == 'train' else val_data\n",
    "    ix = torch.randint(len(data) - context_length, (batch_size,))\n",
    "    x = torch.stack([data[i:i+context_length] for i in ix])\n",
    "    y = torch.stack([data[i+1:i+context_length+1] for i in ix])\n",
    "    return x, y\n",
    "\n",
    "def evaluate(model, batch_size, context_length, num_batches = 100):\n",
    "    model.eval()\n",
    "    x, y = get_batch('val', batch_size, context_length)\n",
    "    losses = []\n",
    "    for _ in range(num_batches):\n",
    "        _, loss = model(x, y)\n",
    "        losses.append(loss.item())\n",
    "    loss = np.mean(losses)\n",
    "    model.train()\n",
    "    return loss\n",
    "\n",
    "\n",
    "def train(model, num_steps, batch_size, context_length, learning_rate=1e-3, optimizer=None, print_every=1000, evaluate_every=1000):\n",
    "    if optimizer is None:\n",
    "        optimizer = torch.optim.AdamW(model.parameters(), lr=learning_rate)\n",
    "    model.train()\n",
    "    losses = []\n",
    "    eval_losses = []\n",
    "    for step in range(1, num_steps+1):\n",
    "        optimizer.zero_grad()\n",
    "        x, y = get_batch('train', batch_size, context_length)\n",
    "        logits, loss = model(x, y)\n",
    "        loss.backward()\n",
    "        optimizer.step()\n",
    "        if step % print_every == 0:\n",
    "            print(f'step {step}: loss {loss.item()}')\n",
    "\n",
    "        if step == 0 or step % evaluate_every == 0:\n",
    "            eval_loss = evaluate(model, batch_size, context_length)\n",
    "            eval_losses.append(eval_loss)\n",
    "        losses.append(loss.item())\n",
    "    \n",
    "\n",
    "    return losses, eval_losses\n",
    "\n",
    "def plot_ema(losses, eval_losses, gamma=0.99, title='ema'):\n",
    "    ema = losses[0]\n",
    "    ema_losses = []\n",
    "    eval_indices = np.linspace(0, len(losses), len(eval_losses), dtype=int)\n",
    "    for i, l in enumerate(losses):\n",
    "        ema = gamma * ema + (1-gamma) * l\n",
    "        ema_losses.append(ema)\n",
    "    plt.plot(ema_losses, label='train', color='red')\n",
    "    plt.plot(eval_indices, eval_losses, label='val', color='blue')\n",
    "    plt.legend()\n",
    "    plt.show()\n",
    "    print('final train loss (ema):', ema_losses[-1])\n",
    "    print('final validation loss:', eval_losses[-1])\n",
    "\n",
    "def generate_text(model, starting_text=None, max_new_tokens=100):\n",
    "    if starting_text is None:\n",
    "        starting_text = ''\n",
    "        data = torch.zeros((1, 1), dtype=torch.long, device=device)\n",
    "    else:\n",
    "        data = torch.tensor(encode(starting_text), dtype=torch.long, device=device).reshape(-1, 1)\n",
    "    model.eval()\n",
    "    with torch.no_grad():\n",
    "        print(starting_text + decode(model.generate(data, max_new_tokens=max_new_tokens)[-1].tolist()))\n",
    "    model.train()"
   ]
  },
  {
   "attachments": {},
   "cell_type": "markdown",
   "metadata": {},
   "source": [
    "Now we can train the new model with identical parameters to the last training run from lecture:"
   ]
  },
  {
   "cell_type": "code",
   "execution_count": 5,
   "metadata": {},
   "outputs": [
    {
     "name": "stdout",
     "output_type": "stream",
     "text": [
      "step 1000: loss 2.102978229522705\n",
      "step 2000: loss 1.8773711919784546\n",
      "step 3000: loss 1.755046010017395\n",
      "step 4000: loss 1.69569993019104\n",
      "step 5000: loss 1.686732292175293\n",
      "step 6000: loss 1.5767172574996948\n",
      "step 7000: loss 1.5750452280044556\n",
      "step 8000: loss 1.5459606647491455\n",
      "step 9000: loss 1.5760196447372437\n",
      "step 10000: loss 1.566866397857666\n"
     ]
    },
    {
     "data": {
      "image/png": "[encoded data removed]",
      "text/plain": [
       "<Figure size 432x288 with 1 Axes>"
      ]
     },
     "metadata": {
      "needs_background": "light"
     },
     "output_type": "display_data"
    },
    {
     "name": "stdout",
     "output_type": "stream",
     "text": [
      "final train loss (ema): 1.5604387851971326\n",
      "final validation loss: 1.7794170379638672\n"
     ]
    },
    {
     "data": {
      "text/plain": [
       "1.7175747156143188"
      ]
     },
     "execution_count": 5,
     "metadata": {},
     "output_type": "execute_result"
    }
   ],
   "source": [
    "context_length = 128\n",
    "batch_size = 32\n",
    "emb_size = 64\n",
    "multi_block_model = MultiBlockModel(vocab_size, emb_size, emb_size, context_length, num_multi_attn_heads=8, num_blocks=8).to(device)\n",
    "losses, eval_losses = train(multi_block_model, 10000, batch_size, context_length)\n",
    "plot_ema(losses, eval_losses)"
   ]
  },
  {
   "attachments": {},
   "cell_type": "markdown",
   "metadata": {},
   "source": [
    "With a loss of ~1.56, our results are almost exactly the same as before, which means our implementation should be correct. This new implementation computes the entire multi-head attention layer in a vectorized manner rather than concatenating results from self-attention heads in series."
   ]
  },
  {
   "cell_type": "code",
   "execution_count": 6,
   "metadata": {},
   "outputs": [
    {
     "name": "stdout",
     "output_type": "stream",
     "text": [
      "\tir water's blower-with word of the you.\n",
      "\n",
      "Second Norby, so nece sware consulferooks\n",
      "And cappite joy, bable us made beserve eance\n",
      "Will me impts and fouth trift. Cowidon, all I care: I fie,\n",
      "To readge, me breath.\n",
      "\n",
      "KING HENRY VI:\n",
      "No, make were consinged in Maniaghtes:\n",
      "And a threforines head, sprop my mighty\n",
      "The rest all be hightly us' meath,\n",
      "And, Clebmothy and in his such from shapperlious\n",
      "A knight duty uc, hath he streng the conptient.\n",
      "\n",
      "Get thou of mine myseln greess? Well,\n",
      "The gree--Richbard, your afforth faced Lances\n",
      "Thou yech are mid exteranchs to made knock.\n",
      "And this cive dies did boy new thy say,\n",
      "All bews in this dight-prof times of recomanious?\n",
      "I know your art to his beitanating to their belle.\n",
      "O bromes him had cold perforges live,\n",
      "It my lest duty may, when that of vage head,\n",
      "'Ren boons: the that kingly throus harm father\n",
      "laight a he daughterting else keeep falle beeen\n",
      "and the has apinty chafe me appersh'd,\n",
      "Till these by son\n",
      "In must with him. Vinale and you, I sacions is:\n",
      "Thou this, \n"
     ]
    }
   ],
   "source": [
    "generate_text(multi_block_model, None, 1000)"
   ]
  },
  {
   "attachments": {},
   "cell_type": "markdown",
   "metadata": {},
   "source": [
    "EX2: Train the GPT on your own dataset of choice! What other data could be fun to blabber on about? (A fun advanced suggestion if you like: train a GPT to do addition of two numbers, i.e. a+b=c. You may find it helpful to predict the digits of c in reverse order, as the typical addition algorithm (that you're hoping it learns) would proceed right to left too. You may want to modify the data loader to simply serve random problems and skip the generation of train.bin, val.bin. You may want to mask out the loss at the input positions of a+b that just specify the problem using y=-1 in the targets (see CrossEntropyLoss ignore_index). Does your Transformer learn to add? Once you have this, swole doge project: build a calculator clone in GPT, for all of +-*/. Not an easy problem. You may need Chain of Thought traces.)"
   ]
  },
  {
   "attachments": {},
   "cell_type": "markdown",
   "metadata": {},
   "source": [
    "We can use the huggingface datasets library to easily access and choose from amongst a large collection of nlp datasets. For this exercise, I've chosen to use the 'cnn_dailymail' dataset, which is comrpised of online news articles.\n",
    "\n",
    "This dataset is also already split into a train and validation set, which is nice."
   ]
  },
  {
   "cell_type": "code",
   "execution_count": 7,
   "metadata": {},
   "outputs": [
    {
     "name": "stderr",
     "output_type": "stream",
     "text": [
      "/home/ubuntu/.local/lib/python3.8/site-packages/pandas/core/computation/expressions.py:20: UserWarning: Pandas requires version '2.7.3' or newer of 'numexpr' (version '2.7.1' currently installed).\n",
      "  from pandas.core.computation.check import NUMEXPR_INSTALLED\n",
      "Found cached dataset cnn_dailymail (/home/ubuntu/.cache/huggingface/datasets/ccdv___cnn_dailymail/1.0.0/1.0.0/0107f7388b5c6fae455a5661bcd134fc22da53ea75852027040d8d1e997f101f)\n"
     ]
    },
    {
     "data": {
      "application/vnd.jupyter.widget-view+json": {
       "model_id": "ccdd32a5ce4d4113987ae64b6db2c6a9",
       "version_major": 2,
       "version_minor": 0
      },
      "text/plain": [
       "  0%|          | 0/3 [00:00<?, ?it/s]"
      ]
     },
     "metadata": {},
     "output_type": "display_data"
    }
   ],
   "source": [
    "from datasets import load_dataset\n",
    "\n",
    "data = load_dataset(\"ccdv/cnn_dailymail\", \"1.0.0\")\n",
    "train_data = data['train']\n",
    "val_data = data['validation']\n"
   ]
  },
  {
   "attachments": {},
   "cell_type": "markdown",
   "metadata": {},
   "source": [
    "We'll need to write a new get_batch function, since it would be a bit cumbersome to load the entire dataset into a single tensor. Instead, we can access an article at random, and then pull out a random subsection of text from within that article."
   ]
  },
  {
   "cell_type": "code",
   "execution_count": 8,
   "metadata": {},
   "outputs": [],
   "source": [
    "def get_batch(split, batch_size, context_length):\n",
    "    data = train_data if split == 'train' else val_data\n",
    "    ix1 = torch.randint(len(data), (batch_size,))\n",
    "    \n",
    "    articles = [data[i.item()]['article'] for i in ix1]\n",
    "    encoded_articles = [encode(a) for a in articles]\n",
    "    tokenized_articles = torch.tensor([encoding for article in encoded_articles for encoding in article], dtype=torch.long, device=device)\n",
    "    ix2 = torch.randint(len(tokenized_articles) - context_length, (batch_size,))\n",
    "    x = torch.stack([tokenized_articles[i:i+context_length] for i in ix2])\n",
    "    y = torch.stack([tokenized_articles[i+1:i+context_length+1] for i in ix2])\n",
    "    return x, y"
   ]
  },
  {
   "attachments": {},
   "cell_type": "markdown",
   "metadata": {},
   "source": [
    "Then, we can train the model just the same as before. Since the dataset is a bit larger we'll train for twice as many steps."
   ]
  },
  {
   "cell_type": "code",
   "execution_count": 22,
   "metadata": {},
   "outputs": [
    {
     "name": "stdout",
     "output_type": "stream",
     "text": [
      "step 1000: loss 2.1318159103393555\n",
      "step 2000: loss 1.886654257774353\n",
      "step 3000: loss 1.780901551246643\n",
      "step 4000: loss 1.697569727897644\n",
      "step 5000: loss 1.755009412765503\n",
      "step 6000: loss 1.643255352973938\n",
      "step 7000: loss 1.556833267211914\n",
      "step 8000: loss 1.6296324729919434\n",
      "step 9000: loss 1.5706883668899536\n",
      "step 10000: loss 1.5679899454116821\n",
      "step 11000: loss 1.604675531387329\n",
      "step 12000: loss 1.5732502937316895\n",
      "step 13000: loss 1.5478116273880005\n",
      "step 14000: loss 1.518553614616394\n",
      "step 15000: loss 1.5375080108642578\n",
      "step 16000: loss 1.5100337266921997\n",
      "step 17000: loss 1.514094352722168\n",
      "step 18000: loss 1.428208589553833\n",
      "step 19000: loss 1.5041663646697998\n",
      "step 20000: loss 1.4818570613861084\n"
     ]
    },
    {
     "data": {
      "image/png": "[encoded data removed]",
      "text/plain": [
       "<Figure size 432x288 with 1 Axes>"
      ]
     },
     "metadata": {
      "needs_background": "light"
     },
     "output_type": "display_data"
    },
    {
     "name": "stdout",
     "output_type": "stream",
     "text": [
      "final train loss (ema): 1.491172840211055\n",
      "final validation loss: 1.7365468740463257\n"
     ]
    }
   ],
   "source": [
    "context_length = 128\n",
    "batch_size = 32\n",
    "emb_size = 64\n",
    "multi_block_model = MultiBlockModel(vocab_size, emb_size, emb_size, context_length, num_multi_attn_heads=8, num_blocks=8).to(device)\n",
    "losses, eval_losses = train(multi_block_model, 20000, batch_size, context_length)\n",
    "plot_ema(losses, eval_losses)"
   ]
  },
  {
   "attachments": {},
   "cell_type": "markdown",
   "metadata": {},
   "source": [
    "Our model still overfits a bit here, but our output doesn't look half bad. It's still nonsense but sounds newsy-like."
   ]
  },
  {
   "cell_type": "code",
   "execution_count": 10,
   "metadata": {},
   "outputs": [
    {
     "name": "stdout",
     "output_type": "stream",
     "text": [
      "\trring has for people. He her asked polege, Internaties more than .,34,020 yearloas and Crisse. Builbams have last end medile-man export from by Aitter Csst Kaail Novembeers and Quobd this firster and towness of the Prans off Avabuas made 12,000 in NutchN. On Baterer 1, solders agreements intruges, uperson really exolue slinked the carlimment numbers tured: uknof haires politicy because if wantional abjoping in at nrim donate division. The Tans. They fushing from specive time his.  The ashives.ukn How is is a one of Edfield said donuknt is with a diard is treated. 'Then it's numberly (24,000 yantio. \"Nida EAWG:2 Zirda Trea, their one-reports was we whan leal get to their police years wanted Uirgin, for these of the deal Protector Chnourt Hething's will knees, Gladely in 2012 which her hear overtured by pressents have been healthn. Mondoye Bruem, old in the ditival to mobition will said whe three have been his also show. Then Kriter conclection.' Nugteremiusdary Mrstandance Pissign to sext Mon\n"
     ]
    }
   ],
   "source": [
    "generate_text(multi_block_model, None, 1000)"
   ]
  },
  {
   "attachments": {},
   "cell_type": "markdown",
   "metadata": {},
   "source": [
    "EX3: Find a dataset that is very large, so large that you can't see a gap between train and val loss. Pretrain the transformer on this data, then initialize with that model and finetune it on tiny shakespeare with a smaller number of steps and lower learning rate. Can you obtain a lower validation loss by the use of pretraining?"
   ]
  },
  {
   "attachments": {},
   "cell_type": "markdown",
   "metadata": {},
   "source": [
    "We'll try to fine-tune the news model for shakespeare. It had a bit of a gap between train and validation loss but is still much larger than the shakespeare corpus."
   ]
  },
  {
   "cell_type": "code",
   "execution_count": 24,
   "metadata": {},
   "outputs": [],
   "source": [
    "data = torch.tensor(encode(text), dtype=torch.long, device=device)\n",
    "\n",
    "spl = int(0.9 * len(data))\n",
    "\n",
    "train_data = data[:spl]\n",
    "\n",
    "val_data = data[spl:]\n",
    "\n",
    "def get_batch(split, batch_size, context_length):\n",
    "    data = train_data if split == 'train' else val_data\n",
    "    ix = torch.randint(len(data) - context_length, (batch_size,))\n",
    "    x = torch.stack([data[i:i+context_length] for i in ix])\n",
    "    y = torch.stack([data[i+1:i+context_length+1] for i in ix])\n",
    "    return x, y"
   ]
  },
  {
   "attachments": {},
   "cell_type": "markdown",
   "metadata": {},
   "source": [
    "For fine-tuning we need to choose which portions of the model we want to freeze, and which paramters we want to allow to be learned. I'll freeze the first 4 multi-head attention blocks by setting required_grad to be False, and allow the rest of the paramters to be optimized."
   ]
  },
  {
   "cell_type": "code",
   "execution_count": 25,
   "metadata": {},
   "outputs": [],
   "source": [
    "from copy import deepcopy\n",
    "\n",
    "finetuned_model = deepcopy(multi_block_model)"
   ]
  },
  {
   "cell_type": "code",
   "execution_count": 26,
   "metadata": {},
   "outputs": [],
   "source": [
    "for block in finetuned_model.blocks[4:]:\n",
    "    for p in block.parameters():\n",
    "        p.requires_grad = False"
   ]
  },
  {
   "cell_type": "code",
   "execution_count": 27,
   "metadata": {},
   "outputs": [
    {
     "name": "stdout",
     "output_type": "stream",
     "text": [
      "step 1000: loss 1.4440546035766602\n",
      "step 2000: loss 1.4285008907318115\n",
      "step 3000: loss 1.5048296451568604\n",
      "step 4000: loss 1.4297479391098022\n",
      "step 5000: loss 1.5016945600509644\n"
     ]
    },
    {
     "data": {
      "image/png": "[encoded data removed]",
      "text/plain": [
       "<Figure size 432x288 with 1 Axes>"
      ]
     },
     "metadata": {
      "needs_background": "light"
     },
     "output_type": "display_data"
    },
    {
     "name": "stdout",
     "output_type": "stream",
     "text": [
      "final train loss (ema): 1.4639546850904759\n",
      "final validation loss: 1.5518561601638794\n"
     ]
    }
   ],
   "source": [
    "losses, eval_losses = train(finetuned_model, 5000, batch_size, context_length, 1e-4)\n",
    "plot_ema(losses, eval_losses)"
   ]
  },
  {
   "attachments": {},
   "cell_type": "markdown",
   "metadata": {},
   "source": [
    "This seemed to work pretty well! We achieved a lower final validation loss than we did before -- and the train loss started at around 1.5, which is much lower than if we would have started from scratch. We were even able to improve further on the training loss by fine-tuning the non-frozen parameters."
   ]
  },
  {
   "cell_type": "code",
   "execution_count": 29,
   "metadata": {},
   "outputs": [
    {
     "name": "stdout",
     "output_type": "stream",
     "text": [
      "\t three and do purncer you gentleman:\n",
      "Steal it be Aover obes? Peace this voice\n",
      "Har still had staughters and fly to weep to my\n",
      "To will bapegn? Has shore a nature to be dukele\n",
      "Their to-nife in traitls giils is one:\n",
      "We shall fellow once the bloodl of the poor's wash awas:\n",
      "to do fees, land and not nokens\n",
      "power crown the vice at ever affirm'd but dand.\n",
      "\n",
      "Apoloy;\n",
      "Wife, pless and might thou to strike thy trook\n",
      "Daties nother those too news, deing are war flame\n",
      "To anvoides me I say our long tone out,\n",
      "Madane he serve call and even as desperation,\n",
      "Shall this murder sinces absward.\n",
      "\n",
      "SABHON:\n",
      "For all, you warlikess!\n",
      "\n",
      "ROMEO:\n",
      "For you:\n",
      "Why sweett, he'll my uncle.\n",
      "\n",
      "CORIOLANUS:\n",
      "Take you rate-run.\n",
      "\n",
      "BRUTUS:\n",
      "Here judge, that have my home\n",
      "Thate wash of that sinly, with remert in the solding prize\n",
      "find kineven white; each occutaus brawded,\n",
      "And Oxperhall no the fearing as that adverct-out\n",
      "In thew hehore mine her her devom him:\n",
      "Mark me, no country, trains.\n",
      "\n",
      "SICINIUS:\n",
      "Ad move my lord brow eyes,\n",
      "That spreaden, have\n"
     ]
    }
   ],
   "source": [
    "generate_text(finetuned_model, None, 1000)"
   ]
  },
  {
   "attachments": {},
   "cell_type": "markdown",
   "metadata": {},
   "source": [
    "Sanity check: this indeed looks like shakespeare!"
   ]
  },
  {
   "attachments": {},
   "cell_type": "markdown",
   "metadata": {},
   "source": [
    "EX4: Read some transformer papers and implement one additional feature or change that people seem to use. Does it improve the performance of your GPT?"
   ]
  },
  {
   "attachments": {},
   "cell_type": "markdown",
   "metadata": {},
   "source": [
    "For this exercise I'll be implementing the LazyFormer architecture (https://arxiv.org/pdf/2102.12702.pdf)\n",
    "\n",
    "This architecture aims to reduce computation requirements by only calculating the key and query matrices once, and re-using them within a sequential block of *m* self-attention modules. \n",
    "\n",
    "To implement this, we can first implement a *LazyMultiHeadAttention* block, which is just the multi-head attention block we've implemented before minus the key and query dot product, we just pass that as a second argument called *softmax output*."
   ]
  },
  {
   "cell_type": "code",
   "execution_count": null,
   "metadata": {},
   "outputs": [],
   "source": [
    "class LazyMultiHeadAttention(nn.Module):\n",
    "    def __init__(self, input_channels, output_channels, context_length, num_heads, dropout=0.05) -> None:\n",
    "        assert output_channels % num_heads == 0\n",
    "        super().__init__()\n",
    "        self.input_channels = input_channels\n",
    "        self.output_channels = output_channels\n",
    "        self.head_size = output_channels // num_heads\n",
    "        self.num_heads = num_heads\n",
    "        self.value = nn.Linear(input_channels, output_channels, bias=False)\n",
    "        self.dropout = nn.Dropout(dropout)\n",
    "        \n",
    "    def forward(self, inputs):\n",
    "        idx, kq = inputs\n",
    "        B, T, C = idx.shape \n",
    "    \n",
    "        w = self.dropout(kq)\n",
    "        v = self.value(idx) # (B, T, C) -> (B, T, Nh * Hs)\n",
    "        v = v.transpose(-2, -1).view(B, self.num_heads, self.head_size, T).transpose(-2, -1) # (B, T, Nh * Hs) -> (B, Nh, T, Hs)\n",
    "\n",
    "        # torch requires a reshape here for reasons I don't fully understand\n",
    "        attn_out = (w @ v).transpose(-3, -2).reshape(B, T, -1)\n",
    "\n",
    "        return attn_out"
   ]
  },
  {
   "attachments": {},
   "cell_type": "markdown",
   "metadata": {},
   "source": [
    "Then, we can implement the KQ dot-product as its own block, then pass this result through each of the lazy blocks by simply returning it again."
   ]
  },
  {
   "cell_type": "code",
   "execution_count": null,
   "metadata": {},
   "outputs": [],
   "source": [
    "class LazyKQ(nn.Module):\n",
    "    def __init__(self, input_channels, output_channels, context_length, num_heads):\n",
    "        super().__init__()\n",
    "        self.head_size = output_channels // num_heads\n",
    "        self.num_heads = num_heads\n",
    "        self.register_buffer('tril', torch.tril(torch.ones((context_length, context_length))))\n",
    "        self.key = nn.Linear(input_channels, output_channels, bias=False)\n",
    "        self.query = nn.Linear(input_channels, output_channels, bias=False)\n",
    "        \n",
    "    def forward(self, idx):\n",
    "        B, T, C = idx.shape \n",
    "        # B = batches\n",
    "        # T = timesteps\n",
    "        # C = input channels\n",
    "        # Nh = attention heads\n",
    "        # Hs = head size\n",
    "        \n",
    "        q = self.query(idx) # (B, T, C) -> (B, T, Nh * Hs)\n",
    "        k = self.key(idx) # (B, T, C) -> (B, T, Nh * Hs)\n",
    "        \n",
    "        q = q.transpose(-2, -1).view(B, self.num_heads, self.head_size, T).transpose(-2, -1) # (B, T, Nh * Hs) -> (B, Nh, T, Hs)\n",
    "        k = k.transpose(-2, -1).view(B, self.num_heads, self.head_size, T) # (B, T, Nh * Hs) -> (B, Nh, Hs, T)\n",
    "        \n",
    "        w = q @ k # (B, Nh, T, Hs) @ (B, Nh, Hs, T) -> (B, Nh, T, T)\n",
    "        w = w.masked_fill(self.tril[:T,:T] == 0, float('-inf'))\n",
    "\n",
    "        w *= self.head_size**-0.5\n",
    "        w = F.softmax(w, dim=-1)\n",
    "        \n",
    "        return w\n",
    "    \n",
    "class LazyFormerInnerBlock(nn.Module):\n",
    "    def __init__(self, emb_size, head_size, context_length, num_multi_attn_heads) -> None:\n",
    "        super().__init__()\n",
    "        self.attn = LazyMultiHeadAttention(emb_size, head_size, context_length, num_heads=num_multi_attn_heads)\n",
    "        self.ff = FeedForward(head_size, head_size)\n",
    "        self.norm1 = nn.LayerNorm(head_size)\n",
    "        self.norm2 = nn.LayerNorm(head_size)\n",
    "\n",
    "    def forward(self, inputs):\n",
    "        x, kq = inputs\n",
    "        x = self.attn((self.norm1(x), kq)) + x # residual\n",
    "        x = self.ff(self.norm2(x)) + x # residual\n",
    "        return (x, kq)"
   ]
  },
  {
   "attachments": {},
   "cell_type": "markdown",
   "metadata": {},
   "source": [
    "This bundles nicely together into a higher-level module:"
   ]
  },
  {
   "cell_type": "code",
   "execution_count": null,
   "metadata": {},
   "outputs": [],
   "source": [
    "class LazyFormerBlock(nn.Module):\n",
    "    def __init__(self, m, input_channels, output_channels, context_length, num_heads):\n",
    "        super().__init__()\n",
    "        self.lazyblocks = nn.Sequential(\n",
    "            *[LazyFormerInnerBlock(input_channels, output_channels, context_length, num_heads) for _ in range(m)] \n",
    "        )\n",
    "        \n",
    "        self.lazy_kq = LazyKQ(input_channels, output_channels, context_length, num_heads)\n",
    "    \n",
    "    def forward(self, x):\n",
    "        (res, _) = self.lazyblocks((x, self.lazy_kq(x)))\n",
    "        return res\n",
    "    \n",
    "    \n",
    "class LazeFormerModel(nn.Module):\n",
    "    def __init__(self, vocab_size, emb_size, head_size, context_length, num_multi_attn_heads, num_blocks, m) -> None:\n",
    "        super().__init__()\n",
    "        assert head_size % num_multi_attn_heads == 0\n",
    "        self.token_embeddings = nn.Embedding(vocab_size, emb_size)\n",
    "        self.positional_embeddings = nn.Embedding(context_length, emb_size)\n",
    "        self.blocks = nn.Sequential(*[LazyFormerBlock(m, emb_size, head_size, context_length, num_multi_attn_heads) for _ in range(num_blocks)], nn.LayerNorm(head_size))\n",
    "        self.ff = FeedForward(head_size, head_size)\n",
    "        self.output_layer = nn.Linear(head_size, vocab_size)\n",
    "\n",
    "        self.context_length = context_length\n",
    "\n",
    "    def forward(self, idx, targets=None):\n",
    "        B, T = idx.shape\n",
    "\n",
    "        # get token and positional embeddings\n",
    "        t = self.token_embeddings(idx) # (B, T) -> (B, T, C)\n",
    "        p = self.positional_embeddings(torch.arange(T, device=idx.device)) # (T, C)\n",
    "        x = t + p # (B, T, C) (broadcasting)\n",
    "\n",
    "        # pass thru attention head\n",
    "        x = self.blocks(x) # (B, T, C) -> (B, T, H)\n",
    "        \n",
    "        # pass thru feed forward\n",
    "        x = self.ff(x) # (B, T, H) -> (B, T, H)\n",
    "\n",
    "        # pass thru output layer\n",
    "        logits = self.output_layer(x) # (B, T, H) -> (B, T, V)\n",
    "\n",
    "        \n",
    "        if targets is not None:\n",
    "            B, T, V = logits.shape\n",
    "            logits = logits.view(B*T, V)\n",
    "            targets = targets.view(B*T)\n",
    "            loss = F.cross_entropy(logits, targets)\n",
    "        else:\n",
    "            loss = None\n",
    "\n",
    "        return logits, loss\n",
    "    \n",
    "    def generate(self, idx, max_new_tokens):\n",
    "        for _ in range(max_new_tokens):\n",
    "            idx_crop = idx[:,-self.context_length:]\n",
    "            logits, _ = self(idx_crop)\n",
    "            logits = logits[:,-1,:] # all batches, last timestamp, all channels\n",
    "            probs = F.softmax(logits, dim=-1)\n",
    "            idx_next = torch.multinomial(probs, num_samples=1)\n",
    "            idx = torch.cat((idx, idx_next), dim=1)\n",
    "        return idx\n",
    "\n",
    "    "
   ]
  },
  {
   "attachments": {},
   "cell_type": "markdown",
   "metadata": {},
   "source": [
    "The compute savings we get decreases our training time, so we can devote more resources towards scaling up our model if we choose to."
   ]
  },
  {
   "cell_type": "code",
   "execution_count": null,
   "metadata": {},
   "outputs": [
    {
     "name": "stdout",
     "output_type": "stream",
     "text": [
      "step 500: loss 2.222447633743286\n",
      "step 1000: loss 1.9997532367706299\n",
      "step 1500: loss 1.8058192729949951\n",
      "step 2000: loss 1.7145823240280151\n",
      "step 2500: loss 1.6224730014801025\n",
      "step 3000: loss 1.5572205781936646\n",
      "step 3500: loss 1.5780043601989746\n",
      "step 4000: loss 1.565028190612793\n",
      "step 4500: loss 1.4497921466827393\n",
      "step 5000: loss 1.4408061504364014\n",
      "step 5500: loss 1.513249158859253\n",
      "step 6000: loss 1.4738184213638306\n",
      "step 6500: loss 1.4893865585327148\n",
      "step 7000: loss 1.4597078561782837\n",
      "step 7500: loss 1.4414904117584229\n",
      "step 8000: loss 1.401940107345581\n",
      "step 8500: loss 1.4191604852676392\n",
      "step 9000: loss 1.4558546543121338\n",
      "step 9500: loss 1.3784352540969849\n",
      "step 10000: loss 1.379726767539978\n",
      "step 10500: loss 1.4191715717315674\n",
      "step 11000: loss 1.3507015705108643\n",
      "step 11500: loss 1.3854241371154785\n",
      "step 12000: loss 1.390730619430542\n",
      "step 12500: loss 1.34495210647583\n",
      "step 13000: loss 1.405100703239441\n",
      "step 13500: loss 1.378846287727356\n",
      "step 14000: loss 1.33842134475708\n",
      "step 14500: loss 1.4109824895858765\n",
      "step 15000: loss 1.3368926048278809\n",
      "step 15500: loss 1.3202470541000366\n",
      "step 16000: loss 1.4135640859603882\n",
      "step 16500: loss 1.3262356519699097\n",
      "step 17000: loss 1.2979457378387451\n",
      "step 17500: loss 1.295981526374817\n",
      "step 18000: loss 1.3773459196090698\n",
      "step 18500: loss 1.409471869468689\n",
      "step 19000: loss 1.3397924900054932\n",
      "step 19500: loss 1.4009541273117065\n",
      "step 20000: loss 1.3158777952194214\n"
     ]
    },
    {
     "data": {
      "image/png": "[encoded data removed]",
      "text/plain": [
       "<Figure size 432x288 with 1 Axes>"
      ]
     },
     "metadata": {},
     "output_type": "display_data"
    },
    {
     "name": "stdout",
     "output_type": "stream",
     "text": [
      "final train loss (ema): 1.329646972399085\n",
      "final validation loss: 1.5169371366500854\n"
     ]
    }
   ],
   "source": [
    "context_length = 128\n",
    "batch_size = 32\n",
    "emb_size = 64\n",
    "m = 4\n",
    "multi_block_model = LazeFormerModel(vocab_size, emb_size, emb_size, context_length, num_multi_attn_heads=8, num_blocks=8, m=m).to(device)\n",
    "losses, eval_losses = train(multi_block_model, 20000, batch_size, context_length, print_every=500)\n",
    "plot_ema(losses, eval_losses)"
   ]
  },
  {
   "attachments": {},
   "cell_type": "markdown",
   "metadata": {},
   "source": [
    "By applying this technique we were able to acheive an even lower validation loss!"
   ]
  },
  {
   "cell_type": "code",
   "execution_count": null,
   "metadata": {},
   "outputs": [
    {
     "name": "stdout",
     "output_type": "stream",
     "text": [
      "\tly wearms upon, as if make the sdeep\n",
      "And that she lives his person; by the norther lies.\n",
      "\n",
      "EXETER:\n",
      "Where I did not should would busing, better\n",
      "Rogeo?\n",
      "\n",
      "HERMIONE:\n",
      "Not a voices\n",
      "With go the sovereign, away, leaves his sir;\n",
      "Do more fault Aptaticion: then he did.\n",
      "It shall be a skarle Edward in thee.\n",
      "\n",
      "MARCIUS:\n",
      "Should I did not: I have lief to lay is;\n",
      "So swain'd, as seen the rescront?\n",
      "\n",
      "Shepherd:\n",
      "But, gentle poor backs, if thou wert you,\n",
      "Which many or sweetn, for, my face, to see foul\n",
      "the queen his time vized passion\n",
      "think you do not go vant of Armiliable.\n",
      "\n",
      "HENRY BOLINGBROKE:\n",
      "'Tis bacrike me but give me sphoming rough.\n",
      "\n",
      "ROMEO:\n",
      "Nay, night, and grat's thought.\n",
      "\n",
      "MAMILLIUS:\n",
      "Wilt not vame offends, Claudions of alred throng\n",
      "of deservide.\n",
      "\n",
      "WARWICK:\n",
      "Come, cousin, I have rine\n",
      "If you.\n",
      "\n",
      "CORIOLANUS:\n",
      "Which she is not\n",
      "mother, after there, that men as officer.\n",
      "Come, good crown, Marsa, or the gods,\n",
      "As this king; and then most teapor plustity.\n",
      "\n",
      "MENENIUS:\n",
      "O, so rave hokses!\n",
      "And no sovereign and which ever,\n",
      "My sid\n"
     ]
    }
   ],
   "source": [
    "generate_text(multi_block_model, None, 1000)"
   ]
  }
 ],
 "metadata": {
  "kernelspec": {
   "display_name": "Python 3",
   "language": "python",
   "name": "python3"
  },
  "language_info": {
   "codemirror_mode": {
    "name": "ipython",
    "version": 3
   },
   "file_extension": ".py",
   "mimetype": "text/x-python",
   "name": "python",
   "nbconvert_exporter": "python",
   "pygments_lexer": "ipython3",
   "version": "3.8.10"
  }
 },
 "nbformat": 4,
 "nbformat_minor": 2
}

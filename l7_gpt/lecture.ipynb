{
 "cells": [
  {
   "cell_type": "code",
   "execution_count": 1,
   "metadata": {},
   "outputs": [
    {
     "name": "stderr",
     "output_type": "stream",
     "text": [
      "/Users/marshingjay/miniconda3/envs/python3/lib/python3.8/site-packages/tqdm/auto.py:21: TqdmWarning: IProgress not found. Please update jupyter and ipywidgets. See https://ipywidgets.readthedocs.io/en/stable/user_install.html\n",
      "  from .autonotebook import tqdm as notebook_tqdm\n"
     ]
    }
   ],
   "source": [
    "import torch\n",
    "import numpy as np\n",
    "import matplotlib.pyplot as plt\n",
    "\n",
    "device = torch.device('cuda' if torch.cuda.is_available() else 'cpu')"
   ]
  },
  {
   "cell_type": "code",
   "execution_count": 2,
   "metadata": {},
   "outputs": [
    {
     "name": "stdout",
     "output_type": "stream",
     "text": [
      "length of dataset in characters:  1115394\n"
     ]
    }
   ],
   "source": [
    "# read it in to inspect it\n",
    "with open('input.txt', 'r', encoding='utf-8') as f:\n",
    "    text = f.read()\n",
    "print(\"length of dataset in characters: \", len(text))"
   ]
  },
  {
   "cell_type": "code",
   "execution_count": 3,
   "metadata": {},
   "outputs": [
    {
     "name": "stdout",
     "output_type": "stream",
     "text": [
      "First Citizen:\n",
      "Before we proceed any further, hear me speak.\n",
      "\n",
      "All:\n",
      "Speak, speak.\n",
      "\n",
      "First Citizen:\n",
      "You are all resolved rather to die than to famish?\n",
      "\n",
      "All:\n",
      "Resolved. resolved.\n",
      "\n",
      "First Citizen:\n",
      "First, you\n"
     ]
    }
   ],
   "source": [
    "print(text[:200])"
   ]
  },
  {
   "cell_type": "code",
   "execution_count": 4,
   "metadata": {},
   "outputs": [
    {
     "name": "stdout",
     "output_type": "stream",
     "text": [
      "\n",
      " !$&',-.3:;?ABCDEFGHIJKLMNOPQRSTUVWXYZabcdefghijklmnopqrstuvwxyz\n",
      "65\n"
     ]
    }
   ],
   "source": [
    "# here are all the unique characters that occur in this text\n",
    "chars = sorted(list(set(text)))\n",
    "vocab_size = len(chars)\n",
    "print(''.join(chars))\n",
    "print(vocab_size)"
   ]
  },
  {
   "cell_type": "code",
   "execution_count": 5,
   "metadata": {},
   "outputs": [
    {
     "name": "stdout",
     "output_type": "stream",
     "text": [
      "[46, 47, 47, 1, 58, 46, 43, 56, 43]\n",
      "hii there\n"
     ]
    }
   ],
   "source": [
    "# create a mapping from characters to integers\n",
    "stoi = { ch:i for i,ch in enumerate(chars) }\n",
    "itos = { i:ch for i,ch in enumerate(chars) }\n",
    "encode = lambda s: [stoi[c] for c in s] # encoder: take a string, output a list of integers\n",
    "decode = lambda l: ''.join([itos[i] for i in l]) # decoder: take a list of integers, output a string\n",
    "\n",
    "print(encode(\"hii there\"))\n",
    "print(decode(encode(\"hii there\")))"
   ]
  },
  {
   "cell_type": "code",
   "execution_count": 6,
   "metadata": {},
   "outputs": [
    {
     "name": "stdout",
     "output_type": "stream",
     "text": [
      "torch.Size([1115394]) torch.int64\n",
      "tensor([18, 47, 56, 57, 58,  1, 15, 47, 58, 47, 64, 43, 52, 10,  0, 14, 43, 44,\n",
      "        53, 56, 43,  1, 61, 43,  1, 54, 56, 53, 41, 43, 43, 42,  1, 39, 52, 63,\n",
      "         1, 44, 59, 56, 58, 46, 43, 56,  6,  1, 46, 43, 39, 56,  1, 51, 43,  1,\n",
      "        57, 54, 43, 39, 49,  8,  0,  0, 13, 50, 50, 10,  0, 31, 54, 43, 39, 49,\n",
      "         6,  1, 57, 54, 43, 39, 49,  8,  0,  0, 18, 47, 56, 57, 58,  1, 15, 47,\n",
      "        58, 47, 64, 43, 52, 10,  0, 37, 53, 59])\n"
     ]
    }
   ],
   "source": [
    "# Now that we have an encoder, we can encode the entire dataset:\n",
    "data = torch.tensor(encode(text), dtype=torch.long, device=device)\n",
    "print(data.shape, data.dtype)\n",
    "print(data[:100])"
   ]
  },
  {
   "attachments": {},
   "cell_type": "markdown",
   "metadata": {},
   "source": [
    "Next we can split our dataset into training and validation datasets:\n"
   ]
  },
  {
   "cell_type": "code",
   "execution_count": 7,
   "metadata": {},
   "outputs": [],
   "source": [
    "spl = int(0.9 * len(data))\n",
    "\n",
    "train_data = data[:spl]\n",
    "\n",
    "val_data = data[spl:]"
   ]
  },
  {
   "attachments": {},
   "cell_type": "markdown",
   "metadata": {},
   "source": [
    "Our input data will contain mini-batches of blocks on tokens with block size <= block_size:"
   ]
  },
  {
   "cell_type": "code",
   "execution_count": 8,
   "metadata": {},
   "outputs": [
    {
     "name": "stdout",
     "output_type": "stream",
     "text": [
      "inputs:\n",
      "torch.Size([4, 8])\n",
      "tensor([[24, 43, 58,  5, 57,  1, 46, 43],\n",
      "        [44, 53, 56,  1, 58, 46, 39, 58],\n",
      "        [52, 58,  1, 58, 46, 39, 58,  1],\n",
      "        [25, 17, 27, 10,  0, 21,  1, 54]])\n",
      "torch.Size([4, 8])\n",
      "tensor([[43, 58,  5, 57,  1, 46, 43, 39],\n",
      "        [53, 56,  1, 58, 46, 39, 58,  1],\n",
      "        [58,  1, 58, 46, 39, 58,  1, 46],\n",
      "        [17, 27, 10,  0, 21,  1, 54, 39]])\n",
      "----\n",
      "when input is [24] the target: 43\n",
      "when input is [24, 43] the target: 58\n",
      "when input is [24, 43, 58] the target: 5\n",
      "when input is [24, 43, 58, 5] the target: 57\n",
      "when input is [24, 43, 58, 5, 57] the target: 1\n",
      "when input is [24, 43, 58, 5, 57, 1] the target: 46\n",
      "when input is [24, 43, 58, 5, 57, 1, 46] the target: 43\n",
      "when input is [24, 43, 58, 5, 57, 1, 46, 43] the target: 39\n",
      "when input is [44] the target: 53\n",
      "when input is [44, 53] the target: 56\n",
      "when input is [44, 53, 56] the target: 1\n",
      "when input is [44, 53, 56, 1] the target: 58\n",
      "when input is [44, 53, 56, 1, 58] the target: 46\n",
      "when input is [44, 53, 56, 1, 58, 46] the target: 39\n",
      "when input is [44, 53, 56, 1, 58, 46, 39] the target: 58\n",
      "when input is [44, 53, 56, 1, 58, 46, 39, 58] the target: 1\n",
      "when input is [52] the target: 58\n",
      "when input is [52, 58] the target: 1\n",
      "when input is [52, 58, 1] the target: 58\n",
      "when input is [52, 58, 1, 58] the target: 46\n",
      "when input is [52, 58, 1, 58, 46] the target: 39\n",
      "when input is [52, 58, 1, 58, 46, 39] the target: 58\n",
      "when input is [52, 58, 1, 58, 46, 39, 58] the target: 1\n",
      "when input is [52, 58, 1, 58, 46, 39, 58, 1] the target: 46\n",
      "when input is [25] the target: 17\n",
      "when input is [25, 17] the target: 27\n",
      "when input is [25, 17, 27] the target: 10\n",
      "when input is [25, 17, 27, 10] the target: 0\n",
      "when input is [25, 17, 27, 10, 0] the target: 21\n",
      "when input is [25, 17, 27, 10, 0, 21] the target: 1\n",
      "when input is [25, 17, 27, 10, 0, 21, 1] the target: 54\n",
      "when input is [25, 17, 27, 10, 0, 21, 1, 54] the target: 39\n"
     ]
    }
   ],
   "source": [
    "torch.manual_seed(1337)\n",
    "\n",
    "batch_size = 4\n",
    "context_length = 8\n",
    "\n",
    "def get_batch(split, batch_size, context_length):\n",
    "    data = train_data if split == 'train' else val_data\n",
    "    ix = torch.randint(len(data) - context_length, (batch_size,))\n",
    "    x = torch.stack([data[i:i+context_length] for i in ix])\n",
    "    y = torch.stack([data[i+1:i+context_length+1] for i in ix])\n",
    "    return x, y\n",
    "\n",
    "xb, yb = get_batch('train', batch_size, context_length)\n",
    "\n",
    "print('inputs:')\n",
    "print(xb.shape)\n",
    "print(xb)\n",
    "print(yb.shape)\n",
    "print(yb)\n",
    "print('----')\n",
    "\n",
    "for b in range(batch_size):\n",
    "    for t in range(context_length):\n",
    "        context = xb[b, :t+1]\n",
    "        target = yb[b, t]\n",
    "        print(f'when input is {context.tolist()} the target: {target}')\n",
    "\n"
   ]
  },
  {
   "attachments": {},
   "cell_type": "markdown",
   "metadata": {},
   "source": [
    "Now that we have our input/label generation sorted, we can start training a model. We can start with the BigramLanguageModel we've implemented in previous lectures as a baseline. We simply look up a probabilitiy distribution in the token embedding table and use that to predict the next character."
   ]
  },
  {
   "cell_type": "code",
   "execution_count": 10,
   "metadata": {},
   "outputs": [],
   "source": [
    "def train(model, num_steps, batch_size, context_length, learning_rate=1e-3, optimizer=None, print_every=1000):\n",
    "    if optimizer is None:\n",
    "        optimizer = torch.optim.AdamW(model.parameters(), lr=learning_rate)\n",
    "    model.train()\n",
    "    losses = []\n",
    "    for step in range(1, num_steps+1):\n",
    "        optimizer.zero_grad()\n",
    "        x, y = get_batch('train', batch_size, context_length)\n",
    "        logits, loss = model(x, y)\n",
    "        loss.backward()\n",
    "        optimizer.step()\n",
    "        if step % print_every == 0:\n",
    "            print(f'step {step}: loss {loss.item()}')\n",
    "        losses.append(loss.item())\n",
    "\n",
    "    return losses\n",
    "\n",
    "\n",
    "def plot_ema(losses, gamma=0.99, title='ema'):\n",
    "    ema = losses[0]\n",
    "    ema_losses = []\n",
    "    for i, l in enumerate(losses):\n",
    "        ema = gamma * ema + (1-gamma) * l\n",
    "        ema_losses.append(ema)\n",
    "    plt.plot(ema_losses, label='loss ema', color='red')\n",
    "    plt.legend()\n",
    "    plt.show()\n",
    "    print('final loss (ema):', ema_losses[-1])\n",
    "\n",
    "def generate_text(model, max_new_tokens=100):\n",
    "    model.eval()\n",
    "    with torch.no_grad():\n",
    "        print(decode(model.generate(torch.zeros((1,1), dtype=torch.long, device=device), max_new_tokens=max_new_tokens)[0].tolist()))\n",
    "    model.train()"
   ]
  },
  {
   "cell_type": "code",
   "execution_count": 11,
   "metadata": {},
   "outputs": [
    {
     "name": "stdout",
     "output_type": "stream",
     "text": [
      "loss: tensor(4.7288, grad_fn=<NllLossBackward0>)\n",
      "torch.Size([32, 65])\n",
      "\n",
      "t:lwIJyIhwyVOhVQ:!KvGyNgNggOC\n",
      "?Boz aUg3?SjDYyxp-w,KpwTsw:n-dH.CWNuAV?'VhrqFH$gOYuXsMdvypXVwtsw'vAn3y\n"
     ]
    }
   ],
   "source": [
    "import torch.nn as nn\n",
    "from torch.nn import functional as F\n",
    "\n",
    "class BigramLangugageModel(nn.Module):\n",
    "    def __init__(self, vocab_size):\n",
    "        super().__init__()\n",
    "        self.token_embedding_table = nn.Embedding(vocab_size, vocab_size)\n",
    "    \n",
    "    def forward(self, idx, targets=None):\n",
    "        logits = self.token_embedding_table(idx) # batch, timestep, channel\n",
    "\n",
    "        if targets is not None:\n",
    "            B, T, C = logits.shape\n",
    "            logits = logits.view(B*T, C)\n",
    "            targets = targets.view(B*T)\n",
    "            loss = F.cross_entropy(logits, targets)\n",
    "        else:\n",
    "            loss = None\n",
    "\n",
    "        return logits, loss\n",
    "    \n",
    "    def generate(self, idx, max_new_tokens):\n",
    "        for _ in range(max_new_tokens):\n",
    "            logits, loss = self(idx)\n",
    "            logits = logits[:,-1,:] # all batches, last timestamp, all channels\n",
    "            probs = F.softmax(logits, dim=-1)\n",
    "            idx_next = torch.multinomial(probs, num_samples=1)\n",
    "            idx = torch.cat((idx, idx_next), dim=1)\n",
    "        return idx\n",
    "\n",
    "m = BigramLangugageModel(vocab_size).to(device)\n",
    "out, loss = m(xb, yb)\n",
    "print('loss:', loss)\n",
    "print(out.shape)\n",
    "generate_text(m)"
   ]
  },
  {
   "attachments": {},
   "cell_type": "markdown",
   "metadata": {},
   "source": [
    "In previous lectures we've implemented our own simple SGD optimizer -- this time we can just use one of PyTorch's built-in optimizers:"
   ]
  },
  {
   "attachments": {},
   "cell_type": "markdown",
   "metadata": {},
   "source": [
    "We can use the optimizer to train the Bigram model over a few steps:"
   ]
  },
  {
   "cell_type": "code",
   "execution_count": 24,
   "metadata": {},
   "outputs": [
    {
     "name": "stdout",
     "output_type": "stream",
     "text": [
      "step 1000: loss 2.480116367340088\n",
      "step 2000: loss 2.459221601486206\n",
      "step 3000: loss 2.437986373901367\n",
      "step 4000: loss 2.4952969551086426\n",
      "step 5000: loss 2.426079034805298\n",
      "step 6000: loss 2.4042627811431885\n",
      "step 7000: loss 2.496492385864258\n",
      "step 8000: loss 2.440152883529663\n",
      "step 9000: loss 2.527681827545166\n",
      "step 10000: loss 2.4646761417388916\n"
     ]
    },
    {
     "data": {
      "image/png": "[encoded data removed]",
      "text/plain": [
       "<Figure size 640x480 with 1 Axes>"
      ]
     },
     "metadata": {},
     "output_type": "display_data"
    },
    {
     "name": "stdout",
     "output_type": "stream",
     "text": [
      "final loss (ema): 2.453008892749642\n"
     ]
    }
   ],
   "source": [
    "batch_size = 32\n",
    "context_length = 8\n",
    "losses = train(m, num_steps=10000, context_length=32, batch_size=32)\n",
    "plot_ema(losses)"
   ]
  },
  {
   "attachments": {},
   "cell_type": "markdown",
   "metadata": {},
   "source": [
    "We are able to bring loss down from its initial value, but the model fails to improve much past ~2.5.\n",
    "\n",
    "We can also try generating some tokens with our model, as you can see its still mostly giberish, but is closer to shakespearian engish than truly random characters would be (there are a few recognizable words, and words take on typical word lengths with punctuations interspersed)"
   ]
  },
  {
   "cell_type": "code",
   "execution_count": 13,
   "metadata": {},
   "outputs": [
    {
     "name": "stdout",
     "output_type": "stream",
     "text": [
      "\n",
      "Winer os, garf hu dere or crd ppr akngomatTw end s y. kth'?\n",
      "E f fowoowiar IS:\n",
      "I.\n",
      "IO: indwree d d, d \n"
     ]
    }
   ],
   "source": [
    "generate_text(m)"
   ]
  },
  {
   "attachments": {},
   "cell_type": "markdown",
   "metadata": {},
   "source": [
    "Next, we can implement a slightly more sophisticated model:\n",
    "* we initialize a token and positional embedding table -- in addition to building embeddings for each token we also create embeddings for each relative position \n",
    "* we can then combine these embeddings into a single embedding using addition\n",
    "* we can also specify the size of these embeddings, and then use a linear layer to downsample back to the desired output size (vocab size)\n",
    "\n",
    "\n",
    "Note: Andrej really likes using global variables everywhere -- this gets too crazy for my liking!"
   ]
  },
  {
   "cell_type": "code",
   "execution_count": 14,
   "metadata": {},
   "outputs": [],
   "source": [
    "class CoolerBigramLanguageModel(nn.Module):\n",
    "    def __init__(self, vocab_size, emb_size, context_length) -> None:\n",
    "        super().__init__()\n",
    "        self.token_embedding_table = nn.Embedding(vocab_size, emb_size)\n",
    "        self.positional_embedding_table = nn.Embedding(context_length, emb_size)\n",
    "        self.output_layer = nn.Linear(emb_size, vocab_size)\n",
    "        self.context_length = context_length\n",
    "\n",
    "    def forward(self, idx, targets=None):\n",
    "        # get token embeddings from input indices\n",
    "        token_embeddings = self.token_embedding_table(idx)\n",
    "\n",
    "        # get positional embeddings for each timestep\n",
    "        B, T, C = token_embeddings.shape\n",
    "        positional_embeddings = self.positional_embedding_table(torch.arange(T, device=idx.device))\n",
    "\n",
    "        # add them together\n",
    "        embeddings = token_embeddings + positional_embeddings   \n",
    "\n",
    "        # pass thru linear layer\n",
    "        logits = self.output_layer(embeddings)\n",
    "\n",
    "        # everything else is the same as before\n",
    "        if targets is not None:\n",
    "            B, T, C = logits.shape\n",
    "            logits = logits.view(B*T, C)\n",
    "            targets = targets.view(B*T)\n",
    "            loss = F.cross_entropy(logits, targets)\n",
    "        else:\n",
    "            loss = None\n",
    "\n",
    "        return logits, loss\n",
    "    \n",
    "    # same as before\n",
    "    def generate(self, idx, max_new_tokens):\n",
    "        for _ in range(max_new_tokens):\n",
    "            idx_crop = idx[:,-self.context_length:]\n",
    "            logits, _ = self(idx_crop)\n",
    "            logits = logits[:,-1,:] # all batches, last timestamp, all channels\n",
    "            probs = F.softmax(logits, dim=-1)\n",
    "            idx_next = torch.multinomial(probs, num_samples=1)\n",
    "            idx = torch.cat((idx, idx_next), dim=1)\n",
    "        return idx"
   ]
  },
  {
   "cell_type": "code",
   "execution_count": 22,
   "metadata": {},
   "outputs": [
    {
     "data": {
      "text/plain": [
       "(tensor([[ 1.0485, -0.3754,  0.1733,  ..., -0.5229,  1.4596, -0.7508],\n",
       "         [ 1.3015, -0.8666, -1.4632,  ...,  0.3292,  0.6797,  0.6603],\n",
       "         [ 0.1064, -0.2407,  0.3348,  ..., -0.0533, -0.7951,  0.0379],\n",
       "         ...,\n",
       "         [ 0.9822, -0.1071,  0.4448,  ..., -0.3036,  0.4441, -1.0098],\n",
       "         [ 0.0878,  1.0063, -0.3769,  ..., -0.2763,  1.4296, -0.5280],\n",
       "         [-0.3246, -0.5319,  0.5530,  ...,  1.3165, -0.2661,  0.6586]],\n",
       "        grad_fn=<ViewBackward0>),\n",
       " tensor(4.4531, grad_fn=<NllLossBackward0>))"
      ]
     },
     "execution_count": 22,
     "metadata": {},
     "output_type": "execute_result"
    }
   ],
   "source": [
    "context_length = 8\n",
    "batch_size = 32\n",
    "emb_size = 32\n",
    "cooler_model = CoolerBigramLanguageModel(vocab_size, emb_size=emb_size, context_length=context_length).to(device)\n",
    "cooler_model(xb, yb)"
   ]
  },
  {
   "cell_type": "code",
   "execution_count": 23,
   "metadata": {},
   "outputs": [
    {
     "name": "stdout",
     "output_type": "stream",
     "text": [
      "step 1000: loss 2.5511012077331543\n"
     ]
    },
    {
     "ename": "KeyboardInterrupt",
     "evalue": "",
     "output_type": "error",
     "traceback": [
      "\u001b[0;31m---------------------------------------------------------------------------\u001b[0m",
      "\u001b[0;31mKeyboardInterrupt\u001b[0m                         Traceback (most recent call last)",
      "Cell \u001b[0;32mIn[23], line 1\u001b[0m\n\u001b[0;32m----> 1\u001b[0m losses \u001b[39m=\u001b[39m train(cooler_model, \u001b[39m10000\u001b[39;49m, batch_size\u001b[39m=\u001b[39;49mbatch_size, context_length\u001b[39m=\u001b[39;49mcontext_length)\n\u001b[1;32m      2\u001b[0m plot_ema(losses)\n\u001b[1;32m      3\u001b[0m generate_text(cooler_model)\n",
      "Cell \u001b[0;32mIn[10], line 10\u001b[0m, in \u001b[0;36mtrain\u001b[0;34m(model, num_steps, batch_size, context_length, learning_rate, optimizer, print_every)\u001b[0m\n\u001b[1;32m      8\u001b[0m x, y \u001b[39m=\u001b[39m get_batch(\u001b[39m'\u001b[39m\u001b[39mtrain\u001b[39m\u001b[39m'\u001b[39m, batch_size, context_length)\n\u001b[1;32m      9\u001b[0m logits, loss \u001b[39m=\u001b[39m model(x, y)\n\u001b[0;32m---> 10\u001b[0m loss\u001b[39m.\u001b[39;49mbackward()\n\u001b[1;32m     11\u001b[0m optimizer\u001b[39m.\u001b[39mstep()\n\u001b[1;32m     12\u001b[0m \u001b[39mif\u001b[39;00m step \u001b[39m%\u001b[39m print_every \u001b[39m==\u001b[39m \u001b[39m0\u001b[39m:\n",
      "File \u001b[0;32m~/miniconda3/envs/python3/lib/python3.8/site-packages/torch/_tensor.py:396\u001b[0m, in \u001b[0;36mTensor.backward\u001b[0;34m(self, gradient, retain_graph, create_graph, inputs)\u001b[0m\n\u001b[1;32m    387\u001b[0m \u001b[39mif\u001b[39;00m has_torch_function_unary(\u001b[39mself\u001b[39m):\n\u001b[1;32m    388\u001b[0m     \u001b[39mreturn\u001b[39;00m handle_torch_function(\n\u001b[1;32m    389\u001b[0m         Tensor\u001b[39m.\u001b[39mbackward,\n\u001b[1;32m    390\u001b[0m         (\u001b[39mself\u001b[39m,),\n\u001b[0;32m   (...)\u001b[0m\n\u001b[1;32m    394\u001b[0m         create_graph\u001b[39m=\u001b[39mcreate_graph,\n\u001b[1;32m    395\u001b[0m         inputs\u001b[39m=\u001b[39minputs)\n\u001b[0;32m--> 396\u001b[0m torch\u001b[39m.\u001b[39;49mautograd\u001b[39m.\u001b[39;49mbackward(\u001b[39mself\u001b[39;49m, gradient, retain_graph, create_graph, inputs\u001b[39m=\u001b[39;49minputs)\n",
      "File \u001b[0;32m~/miniconda3/envs/python3/lib/python3.8/site-packages/torch/autograd/__init__.py:173\u001b[0m, in \u001b[0;36mbackward\u001b[0;34m(tensors, grad_tensors, retain_graph, create_graph, grad_variables, inputs)\u001b[0m\n\u001b[1;32m    168\u001b[0m     retain_graph \u001b[39m=\u001b[39m create_graph\n\u001b[1;32m    170\u001b[0m \u001b[39m# The reason we repeat same the comment below is that\u001b[39;00m\n\u001b[1;32m    171\u001b[0m \u001b[39m# some Python versions print out the first line of a multi-line function\u001b[39;00m\n\u001b[1;32m    172\u001b[0m \u001b[39m# calls in the traceback and some print out the last line\u001b[39;00m\n\u001b[0;32m--> 173\u001b[0m Variable\u001b[39m.\u001b[39;49m_execution_engine\u001b[39m.\u001b[39;49mrun_backward(  \u001b[39m# Calls into the C++ engine to run the backward pass\u001b[39;49;00m\n\u001b[1;32m    174\u001b[0m     tensors, grad_tensors_, retain_graph, create_graph, inputs,\n\u001b[1;32m    175\u001b[0m     allow_unreachable\u001b[39m=\u001b[39;49m\u001b[39mTrue\u001b[39;49;00m, accumulate_grad\u001b[39m=\u001b[39;49m\u001b[39mTrue\u001b[39;49;00m)\n",
      "\u001b[0;31mKeyboardInterrupt\u001b[0m: "
     ]
    }
   ],
   "source": [
    "losses = train(cooler_model, 10000, batch_size=batch_size, context_length=context_length)\n",
    "plot_ema(losses)\n",
    "generate_text(cooler_model)"
   ]
  },
  {
   "attachments": {},
   "cell_type": "markdown",
   "metadata": {},
   "source": [
    "Next, we can implement a self-attention head, then create a model that propogates through a self-attention head prior to the output layer."
   ]
  },
  {
   "cell_type": "code",
   "execution_count": 16,
   "metadata": {},
   "outputs": [],
   "source": [
    "class SelfAttentionHead(nn.Module):\n",
    "    def __init__(self, input_channels, output_channels, context_length) -> None:\n",
    "        super().__init__()\n",
    "        self.input_channels = input_channels\n",
    "        self.output_channels = output_channels\n",
    "        self.key = nn.Linear(input_channels, output_channels, bias=False)\n",
    "        self.query = nn.Linear(input_channels, output_channels, bias=False)\n",
    "        self.value = nn.Linear(input_channels, output_channels, bias=False)\n",
    "        self.register_buffer('tril', torch.tril(torch.ones((context_length, context_length))))\n",
    "        \n",
    "    def forward(self, idx):\n",
    "        B, T, C = idx.shape\n",
    "        \n",
    "        # lookup query, key, and value vectors\n",
    "        # C == input_channels, H == output_channels == head_size\n",
    "        k = self.key(idx) # (B, T, C) -> (B, T, H)\n",
    "        q = self.query(idx) # (B, T, C) -> (B, T, H)\n",
    "        v = self.value(idx) # (B, T, C) -> (B, T, H)\n",
    "\n",
    "        # compute self attention by taking dot product of query and key\n",
    "        wei = q @ k.transpose(-2, -1) # (B, T, H) @ (B, H, T) -> (B, T, T)\n",
    "\n",
    "        wei *= self.output_channels ** -0.5 # scale by sqrt of head size\n",
    "        \n",
    "        # apply lower triangular mask to weights\n",
    "        wei = wei.masked_fill(self.tril[:T,:T]==0, float('-inf')) # (B, T, T)\n",
    "\n",
    "        # apply softmax to get attention weights\n",
    "        wei = F.softmax(wei, dim=-1) # (B, T, T)\n",
    "\n",
    "        # apply attention weights to values\n",
    "        out = wei @ v # (B, T, T) @ (B, T, H) -> (B, T, H)\n",
    "\n",
    "        return out # (B, T, H)\n",
    "    \n",
    "    \n",
    "class SingleHeadModel(nn.Module):\n",
    "    def __init__(self, vocab_size, emb_size, head_size, context_length) -> None:\n",
    "        super().__init__()\n",
    "        self.token_embeddings = nn.Embedding(vocab_size, emb_size)\n",
    "        self.positional_embeddings = nn.Embedding(context_length, emb_size)\n",
    "        self.attention_head = SelfAttentionHead(emb_size, head_size, context_length)\n",
    "        self.output_layer = nn.Linear(head_size, vocab_size)\n",
    "\n",
    "        self.context_length = context_length\n",
    "\n",
    "    def forward(self, idx, targets=None):\n",
    "        B, T = idx.shape\n",
    "\n",
    "        # get token and positional embeddings\n",
    "        t = self.token_embeddings(idx) # (B, T) -> (B, T, C)\n",
    "        p = self.positional_embeddings(torch.arange(T, device=idx.device)) # (T, C)\n",
    "        x = t + p # (B, T, C) (broadcasting)\n",
    "\n",
    "        # pass thru attention head\n",
    "        x = self.attention_head(x) # (B, T, C) -> (B, T, H)\n",
    "        \n",
    "        # pass thru output layer\n",
    "        logits = self.output_layer(x) # (B, T, H) -> (B, T, V)\n",
    "\n",
    "        \n",
    "        if targets is not None:\n",
    "            B, T, V = logits.shape\n",
    "            logits = logits.view(B*T, V)\n",
    "            targets = targets.view(B*T)\n",
    "            loss = F.cross_entropy(logits, targets)\n",
    "        else:\n",
    "            loss = None\n",
    "\n",
    "        return logits, loss\n",
    "    \n",
    "    def generate(self, idx, max_new_tokens):\n",
    "        for _ in range(max_new_tokens):\n",
    "            idx_crop = idx[:,-self.context_length:]\n",
    "            logits, _ = self(idx_crop)\n",
    "            logits = logits[:,-1,:] # all batches, last timestamp, all channels\n",
    "            probs = F.softmax(logits, dim=-1)\n",
    "            idx_next = torch.multinomial(probs, num_samples=1)\n",
    "            idx = torch.cat((idx, idx_next), dim=1)\n",
    "        return idx"
   ]
  },
  {
   "cell_type": "code",
   "execution_count": 25,
   "metadata": {},
   "outputs": [
    {
     "ename": "NameError",
     "evalue": "name 'SingleHeadModel' is not defined",
     "output_type": "error",
     "traceback": [
      "\u001b[0;31m---------------------------------------------------------------------------\u001b[0m",
      "\u001b[0;31mNameError\u001b[0m                                 Traceback (most recent call last)",
      "Cell \u001b[0;32mIn[25], line 4\u001b[0m\n\u001b[1;32m      2\u001b[0m batch_size \u001b[39m=\u001b[39m \u001b[39m32\u001b[39m\n\u001b[1;32m      3\u001b[0m emb_size \u001b[39m=\u001b[39m \u001b[39m32\u001b[39m\n\u001b[0;32m----> 4\u001b[0m single_head_model \u001b[39m=\u001b[39m SingleHeadModel(vocab_size, emb_size\u001b[39m=\u001b[39memb_size, head_size\u001b[39m=\u001b[39memb_size, context_length\u001b[39m=\u001b[39mcontext_length)\u001b[39m.\u001b[39mto(device)\n\u001b[1;32m      5\u001b[0m losses \u001b[39m=\u001b[39m train(single_head_model, \u001b[39m10000\u001b[39m, batch_size, context_length)\n\u001b[1;32m      6\u001b[0m plot_ema(losses)\n",
      "\u001b[0;31mNameError\u001b[0m: name 'SingleHeadModel' is not defined"
     ]
    }
   ],
   "source": [
    "context_length = 32\n",
    "batch_size = 32\n",
    "emb_size = 32\n",
    "single_head_model = SingleHeadModel(vocab_size, emb_size=emb_size, head_size=emb_size, context_length=context_length).to(device)\n",
    "losses = train(single_head_model, 10000, batch_size, context_length)\n",
    "plot_ema(losses)\n",
    "generate_text(single_head_model)"
   ]
  },
  {
   "attachments": {},
   "cell_type": "markdown",
   "metadata": {},
   "source": [
    "Next, instead of using a single attention head, we can try implementing Multi-Head Attention, which concatenates the results of multiple attention heads running in parallel.\n",
    "\n",
    "The below implementation is not really parallel, but this is a task left for the exercises (I implement it in parallel there)."
   ]
  },
  {
   "cell_type": "code",
   "execution_count": 18,
   "metadata": {},
   "outputs": [],
   "source": [
    "class MultiHeadAttention(nn.Module):\n",
    "    def __init__(self, emb_size, context_length, head_size, num_heads) -> None:\n",
    "        super().__init__()\n",
    "\n",
    "        self.heads = nn.ModuleList([\n",
    "            SelfAttentionHead(emb_size, head_size, context_length) for _ in range(num_heads)\n",
    "        ])\n",
    "\n",
    "    def forward(self, x):\n",
    "        return torch.cat([head(x) for head in self.heads], dim=-1)\n",
    "    \n",
    "\n",
    "class MultiHeadModel(nn.Module):\n",
    "    def __init__(self, vocab_size, emb_size, head_size, context_length, num_multi_attn_heads) -> None:\n",
    "        super().__init__()\n",
    "        assert head_size % num_multi_attn_heads == 0\n",
    "        self.token_embeddings = nn.Embedding(vocab_size, emb_size)\n",
    "        self.positional_embeddings = nn.Embedding(context_length, emb_size)\n",
    "        self.attention_heads = MultiHeadAttention(emb_size, context_length, head_size//num_multi_attn_heads, num_heads=num_multi_attn_heads)\n",
    "        self.output_layer = nn.Linear(head_size, vocab_size)\n",
    "\n",
    "        self.context_length = context_length\n",
    "\n",
    "    def forward(self, idx, targets=None):\n",
    "        B, T = idx.shape\n",
    "\n",
    "        # get token and positional embeddings\n",
    "        t = self.token_embeddings(idx) # (B, T) -> (B, T, C)\n",
    "        p = self.positional_embeddings(torch.arange(T, device=idx.device)) # (T, C)\n",
    "        x = t + p # (B, T, C) (broadcasting)\n",
    "\n",
    "        # pass thru attention head\n",
    "        x = self.attention_heads(x) # (B, T, C) -> (B, T, H)\n",
    "        \n",
    "        # pass thru output layer\n",
    "        logits = self.output_layer(x) # (B, T, H) -> (B, T, V)\n",
    "\n",
    "        \n",
    "        if targets is not None:\n",
    "            B, T, V = logits.shape\n",
    "            logits = logits.view(B*T, V)\n",
    "            targets = targets.view(B*T)\n",
    "            loss = F.cross_entropy(logits, targets)\n",
    "        else:\n",
    "            loss = None\n",
    "\n",
    "        return logits, loss\n",
    "    \n",
    "    def generate(self, idx, max_new_tokens):\n",
    "        for _ in range(max_new_tokens):\n",
    "            idx_crop = idx[:,-self.context_length:]\n",
    "            logits, _ = self(idx_crop)\n",
    "            logits = logits[:,-1,:] # all batches, last timestamp, all channels\n",
    "            probs = F.softmax(logits, dim=-1)\n",
    "            idx_next = torch.multinomial(probs, num_samples=1)\n",
    "            idx = torch.cat((idx, idx_next), dim=1)\n",
    "        return idx"
   ]
  },
  {
   "cell_type": "code",
   "execution_count": 19,
   "metadata": {},
   "outputs": [
    {
     "name": "stdout",
     "output_type": "stream",
     "text": [
      "step 1000: loss 2.4078006744384766\n",
      "step 2000: loss 2.4096124172210693\n",
      "step 3000: loss 2.424679756164551\n",
      "step 4000: loss 2.3691515922546387\n",
      "step 5000: loss 2.364180564880371\n",
      "step 6000: loss 2.113516092300415\n",
      "step 7000: loss 2.1562840938568115\n",
      "step 8000: loss 2.4571173191070557\n",
      "step 9000: loss 2.222114324569702\n",
      "step 10000: loss 2.218569755554199\n"
     ]
    },
    {
     "data": {
      "image/png": "[encoded data removed]",
      "text/plain": [
       "<Figure size 640x480 with 1 Axes>"
      ]
     },
     "metadata": {},
     "output_type": "display_data"
    },
    {
     "name": "stdout",
     "output_type": "stream",
     "text": [
      "final loss (ema): 2.305752113279407\n",
      "\n",
      "AICDy furr su therer OLIOMig thouff he hingr he,\n",
      "E NO\n",
      "pla?\n",
      "He, be, romfeimire ked\n",
      "Manmy he chee to p\n"
     ]
    }
   ],
   "source": [
    "context_length = 32\n",
    "batch_size = 32\n",
    "emb_size = 32\n",
    "multi_head_model = MultiHeadModel(vocab_size, emb_size, emb_size, context_length, num_multi_attn_heads=4).to(device)\n",
    "losses = train(multi_head_model, 10000, batch_size, context_length)\n",
    "plot_ema(losses)\n",
    "generate_text(multi_head_model)"
   ]
  },
  {
   "cell_type": "code",
   "execution_count": 20,
   "metadata": {},
   "outputs": [],
   "source": [
    "class FeedForward(nn.Module):\n",
    "    def __init__(self, input_channels, output_channels) -> None:\n",
    "        super().__init__()\n",
    "\n",
    "        self.ff = nn.Sequential(\n",
    "            nn.Linear(input_channels, output_channels),\n",
    "            nn.ReLU(),\n",
    "        )\n",
    "\n",
    "    def forward(self, x):\n",
    "        return self.ff(x)\n",
    "    \n",
    "\n",
    "class MultiHeadwFFModel(nn.Module):\n",
    "    def __init__(self, vocab_size, emb_size, head_size, context_length, num_multi_attn_heads,) -> None:\n",
    "        super().__init__()\n",
    "        assert head_size % num_multi_attn_heads == 0\n",
    "        self.token_embeddings = nn.Embedding(vocab_size, emb_size)\n",
    "        self.positional_embeddings = nn.Embedding(context_length, emb_size)\n",
    "        self.attention_heads = MultiHeadAttention(emb_size, context_length, head_size//num_multi_attn_heads, num_heads=num_multi_attn_heads)\n",
    "        self.ff = FeedForward(head_size, head_size)\n",
    "        self.output_layer = nn.Linear(head_size, vocab_size)\n",
    "\n",
    "        self.context_length = context_length\n",
    "\n",
    "    def forward(self, idx, targets=None):\n",
    "        B, T = idx.shape\n",
    "\n",
    "        # get token and positional embeddings\n",
    "        t = self.token_embeddings(idx) # (B, T) -> (B, T, C)\n",
    "        p = self.positional_embeddings(torch.arange(T, device=idx.device)) # (T, C)\n",
    "        x = t + p # (B, T, C) (broadcasting)\n",
    "\n",
    "        # pass thru attention head\n",
    "        x = self.attention_heads(x) # (B, T, C) -> (B, T, H)\n",
    "        \n",
    "        # pass thru feed forward\n",
    "        x = self.ff(x) # (B, T, H) -> (B, T, H)\n",
    "\n",
    "        # pass thru output layer\n",
    "        logits = self.output_layer(x) # (B, T, H) -> (B, T, V)\n",
    "\n",
    "        \n",
    "        if targets is not None:\n",
    "            B, T, V = logits.shape\n",
    "            logits = logits.view(B*T, V)\n",
    "            targets = targets.view(B*T)\n",
    "            loss = F.cross_entropy(logits, targets)\n",
    "        else:\n",
    "            loss = None\n",
    "\n",
    "        return logits, loss\n",
    "    \n",
    "    def generate(self, idx, max_new_tokens):\n",
    "        for _ in range(max_new_tokens):\n",
    "            idx_crop = idx[:,-self.context_length:]\n",
    "            logits, _ = self(idx_crop)\n",
    "            logits = logits[:,-1,:] # all batches, last timestamp, all channels\n",
    "            probs = F.softmax(logits, dim=-1)\n",
    "            idx_next = torch.multinomial(probs, num_samples=1)\n",
    "            idx = torch.cat((idx, idx_next), dim=1)\n",
    "        return idx"
   ]
  },
  {
   "cell_type": "code",
   "execution_count": 21,
   "metadata": {},
   "outputs": [
    {
     "name": "stdout",
     "output_type": "stream",
     "text": [
      "step 1000: loss 2.8328890800476074\n",
      "step 2000: loss 2.599189043045044\n",
      "step 3000: loss 2.3424081802368164\n",
      "step 4000: loss 2.4199371337890625\n",
      "step 5000: loss 2.160048007965088\n",
      "step 6000: loss 2.2411930561065674\n",
      "step 7000: loss 2.425042152404785\n",
      "step 8000: loss 2.1413214206695557\n",
      "step 9000: loss 2.029710292816162\n",
      "step 10000: loss 2.3267059326171875\n"
     ]
    },
    {
     "data": {
      "image/png": "[encoded data removed]",
      "text/plain": [
       "<Figure size 640x480 with 1 Axes>"
      ]
     },
     "metadata": {},
     "output_type": "display_data"
    },
    {
     "name": "stdout",
     "output_type": "stream",
     "text": [
      "final loss (ema): 2.267203810767069\n",
      "\n",
      "C RION:\n",
      "IUSO\n",
      "Sstt? of a uraintiul,\n",
      "Tho of moves not. Coge the shewind notoour poou by won andave rem\n"
     ]
    }
   ],
   "source": [
    "context_length = 32\n",
    "batch_size = 32\n",
    "emb_size = 32\n",
    "multi_head_wff_model = MultiHeadwFFModel(vocab_size, emb_size, emb_size, context_length, num_multi_attn_heads=4).to(device)\n",
    "losses = train(multi_head_wff_model, 10000, batch_size, context_length)\n",
    "plot_ema(losses)\n",
    "generate_text(multi_head_wff_model)"
   ]
  },
  {
   "cell_type": "code",
   "execution_count": 22,
   "metadata": {},
   "outputs": [],
   "source": [
    "class ResidualTransformerBlock(nn.Module):\n",
    "    def __init__(self, emb_size, head_size, context_length, num_multi_attn_heads) -> None:\n",
    "        super().__init__()\n",
    "        self.attn = MultiHeadAttention(emb_size, head_size, context_length, num_multi_attn_heads)\n",
    "        self.ff = FeedForward(head_size, head_size)\n",
    "        self.norm1 = nn.LayerNorm(head_size)\n",
    "        self.norm2 = nn.LayerNorm(head_size)\n",
    "\n",
    "    def forward(self, x):\n",
    "        x = self.attn(self.norm1(x)) + x # residual\n",
    "        x = self.ff(self.norm2(x)) + x # residual\n",
    "        return x\n",
    "    \n",
    "\n",
    "class MultiBlockModel(nn.Module):\n",
    "    def __init__(self, vocab_size, emb_size, head_size, context_length, num_multi_attn_heads, num_blocks) -> None:\n",
    "        super().__init__()\n",
    "        assert head_size % num_multi_attn_heads == 0\n",
    "        self.token_embeddings = nn.Embedding(vocab_size, emb_size)\n",
    "        self.positional_embeddings = nn.Embedding(context_length, emb_size)\n",
    "        self.blocks = nn.Sequential(*[ResidualTransformerBlock(emb_size, head_size, context_length, num_multi_attn_heads) for _ in range(num_blocks)], nn.LayerNorm(head_size))\n",
    "        self.ff = FeedForward(head_size, head_size)\n",
    "        self.output_layer = nn.Linear(head_size, vocab_size)\n",
    "\n",
    "        self.context_length = context_length\n",
    "\n",
    "    def forward(self, idx, targets=None):\n",
    "        B, T = idx.shape\n",
    "\n",
    "        # get token and positional embeddings\n",
    "        t = self.token_embeddings(idx) # (B, T) -> (B, T, C)\n",
    "        p = self.positional_embeddings(torch.arange(T, device=idx.device)) # (T, C)\n",
    "        x = t + p # (B, T, C) (broadcasting)\n",
    "\n",
    "        # pass thru attention head\n",
    "        x = self.blocks(x) # (B, T, C) -> (B, T, H)\n",
    "        \n",
    "        # pass thru feed forward\n",
    "        x = self.ff(x) # (B, T, H) -> (B, T, H)\n",
    "\n",
    "        # pass thru output layer\n",
    "        logits = self.output_layer(x) # (B, T, H) -> (B, T, V)\n",
    "\n",
    "        \n",
    "        if targets is not None:\n",
    "            B, T, V = logits.shape\n",
    "            logits = logits.view(B*T, V)\n",
    "            targets = targets.view(B*T)\n",
    "            loss = F.cross_entropy(logits, targets)\n",
    "        else:\n",
    "            loss = None\n",
    "\n",
    "        return logits, loss\n",
    "    \n",
    "    def generate(self, idx, max_new_tokens):\n",
    "        for _ in range(max_new_tokens):\n",
    "            idx_crop = idx[:,-self.context_length:]\n",
    "            logits, _ = self(idx_crop)\n",
    "            logits = logits[:,-1,:] # all batches, last timestamp, all channels\n",
    "            probs = F.softmax(logits, dim=-1)\n",
    "            idx_next = torch.multinomial(probs, num_samples=1)\n",
    "            idx = torch.cat((idx, idx_next), dim=1)\n",
    "        return idx\n"
   ]
  },
  {
   "cell_type": "code",
   "execution_count": 23,
   "metadata": {},
   "outputs": [
    {
     "name": "stdout",
     "output_type": "stream",
     "text": [
      "step 1000: loss 2.2111988067626953\n",
      "step 2000: loss 2.5532026290893555\n",
      "step 3000: loss 2.6238555908203125\n",
      "step 4000: loss 2.4812164306640625\n",
      "step 5000: loss 2.0742383003234863\n",
      "step 6000: loss 1.9283158779144287\n",
      "step 7000: loss 2.5354878902435303\n",
      "step 8000: loss 1.8901686668395996\n",
      "step 9000: loss 1.9805142879486084\n",
      "step 10000: loss 2.0180678367614746\n"
     ]
    },
    {
     "data": {
      "image/png": "[encoded data removed]",
      "text/plain": [
       "<Figure size 640x480 with 1 Axes>"
      ]
     },
     "metadata": {},
     "output_type": "display_data"
    },
    {
     "name": "stdout",
     "output_type": "stream",
     "text": [
      "final loss (ema): 2.175392189319443\n",
      "\n",
      "Ver, on\n",
      "Vrumivome tour.\n",
      "\n",
      "RORK:\n",
      "Nof, ad that ot he Pich that woy liciked my shuearst, the Pelle mast \n"
     ]
    }
   ],
   "source": [
    "context_length = 32\n",
    "batch_size = 32\n",
    "emb_size = 32\n",
    "multi_block_model = MultiBlockModel(vocab_size, emb_size, emb_size, context_length, num_multi_attn_heads=4, num_blocks=4).to(device)\n",
    "losses = train(multi_block_model, 10000, batch_size, context_length)\n",
    "plot_ema(losses)\n",
    "generate_text(multi_block_model)"
   ]
  },
  {
   "attachments": {},
   "cell_type": "markdown",
   "metadata": {},
   "source": [
    "Next, we can try scaling up some of the parameters"
   ]
  },
  {
   "cell_type": "code",
   "execution_count": 25,
   "metadata": {},
   "outputs": [
    {
     "ename": "RuntimeError",
     "evalue": "The size of tensor a (32) must match the size of tensor b (128) at non-singleton dimension 2",
     "output_type": "error",
     "traceback": [
      "\u001b[0;31m---------------------------------------------------------------------------\u001b[0m",
      "\u001b[0;31mRuntimeError\u001b[0m                              Traceback (most recent call last)",
      "Cell \u001b[0;32mIn[25], line 2\u001b[0m\n\u001b[1;32m      1\u001b[0m multi_block_model \u001b[39m=\u001b[39m MultiBlockModel(vocab_size, emb_size\u001b[39m=\u001b[39m\u001b[39m128\u001b[39m, head_size\u001b[39m=\u001b[39m\u001b[39m128\u001b[39m, context_length\u001b[39m=\u001b[39mblock_size, num_multi_attn_heads\u001b[39m=\u001b[39m\u001b[39m4\u001b[39m, num_blocks\u001b[39m=\u001b[39m\u001b[39m8\u001b[39m)\u001b[39m.\u001b[39mto(device)\n\u001b[0;32m----> 2\u001b[0m losses \u001b[39m=\u001b[39m train(multi_block_model, \u001b[39m10000\u001b[39;49m)\n\u001b[1;32m      3\u001b[0m plot_ema(losses)\n\u001b[1;32m      4\u001b[0m generate_text(multi_block_model)\n",
      "Cell \u001b[0;32mIn[24], line 9\u001b[0m, in \u001b[0;36mtrain\u001b[0;34m(model, num_steps, learning_rate, optimizer, print_every)\u001b[0m\n\u001b[1;32m      7\u001b[0m optimizer\u001b[39m.\u001b[39mzero_grad()\n\u001b[1;32m      8\u001b[0m x, y \u001b[39m=\u001b[39m get_batch(\u001b[39m'\u001b[39m\u001b[39mtrain\u001b[39m\u001b[39m'\u001b[39m)\n\u001b[0;32m----> 9\u001b[0m logits, loss \u001b[39m=\u001b[39m model(x, y)\n\u001b[1;32m     10\u001b[0m loss\u001b[39m.\u001b[39mbackward()\n\u001b[1;32m     11\u001b[0m optimizer\u001b[39m.\u001b[39mstep()\n",
      "File \u001b[0;32m~/miniconda3/envs/python3/lib/python3.8/site-packages/torch/nn/modules/module.py:1130\u001b[0m, in \u001b[0;36mModule._call_impl\u001b[0;34m(self, *input, **kwargs)\u001b[0m\n\u001b[1;32m   1126\u001b[0m \u001b[39m# If we don't have any hooks, we want to skip the rest of the logic in\u001b[39;00m\n\u001b[1;32m   1127\u001b[0m \u001b[39m# this function, and just call forward.\u001b[39;00m\n\u001b[1;32m   1128\u001b[0m \u001b[39mif\u001b[39;00m \u001b[39mnot\u001b[39;00m (\u001b[39mself\u001b[39m\u001b[39m.\u001b[39m_backward_hooks \u001b[39mor\u001b[39;00m \u001b[39mself\u001b[39m\u001b[39m.\u001b[39m_forward_hooks \u001b[39mor\u001b[39;00m \u001b[39mself\u001b[39m\u001b[39m.\u001b[39m_forward_pre_hooks \u001b[39mor\u001b[39;00m _global_backward_hooks\n\u001b[1;32m   1129\u001b[0m         \u001b[39mor\u001b[39;00m _global_forward_hooks \u001b[39mor\u001b[39;00m _global_forward_pre_hooks):\n\u001b[0;32m-> 1130\u001b[0m     \u001b[39mreturn\u001b[39;00m forward_call(\u001b[39m*\u001b[39;49m\u001b[39minput\u001b[39;49m, \u001b[39m*\u001b[39;49m\u001b[39m*\u001b[39;49mkwargs)\n\u001b[1;32m   1131\u001b[0m \u001b[39m# Do not call functions when jit is used\u001b[39;00m\n\u001b[1;32m   1132\u001b[0m full_backward_hooks, non_full_backward_hooks \u001b[39m=\u001b[39m [], []\n",
      "Cell \u001b[0;32mIn[22], line 36\u001b[0m, in \u001b[0;36mMultiBlockModel.forward\u001b[0;34m(self, idx, targets)\u001b[0m\n\u001b[1;32m     33\u001b[0m x \u001b[39m=\u001b[39m t \u001b[39m+\u001b[39m p \u001b[39m# (B, T, C) (broadcasting)\u001b[39;00m\n\u001b[1;32m     35\u001b[0m \u001b[39m# pass thru attention head\u001b[39;00m\n\u001b[0;32m---> 36\u001b[0m x \u001b[39m=\u001b[39m \u001b[39mself\u001b[39;49m\u001b[39m.\u001b[39;49mblocks(x) \u001b[39m# (B, T, C) -> (B, T, H)\u001b[39;00m\n\u001b[1;32m     38\u001b[0m \u001b[39m# pass thru feed forward\u001b[39;00m\n\u001b[1;32m     39\u001b[0m x \u001b[39m=\u001b[39m \u001b[39mself\u001b[39m\u001b[39m.\u001b[39mff(x) \u001b[39m# (B, T, H) -> (B, T, H)\u001b[39;00m\n",
      "File \u001b[0;32m~/miniconda3/envs/python3/lib/python3.8/site-packages/torch/nn/modules/module.py:1130\u001b[0m, in \u001b[0;36mModule._call_impl\u001b[0;34m(self, *input, **kwargs)\u001b[0m\n\u001b[1;32m   1126\u001b[0m \u001b[39m# If we don't have any hooks, we want to skip the rest of the logic in\u001b[39;00m\n\u001b[1;32m   1127\u001b[0m \u001b[39m# this function, and just call forward.\u001b[39;00m\n\u001b[1;32m   1128\u001b[0m \u001b[39mif\u001b[39;00m \u001b[39mnot\u001b[39;00m (\u001b[39mself\u001b[39m\u001b[39m.\u001b[39m_backward_hooks \u001b[39mor\u001b[39;00m \u001b[39mself\u001b[39m\u001b[39m.\u001b[39m_forward_hooks \u001b[39mor\u001b[39;00m \u001b[39mself\u001b[39m\u001b[39m.\u001b[39m_forward_pre_hooks \u001b[39mor\u001b[39;00m _global_backward_hooks\n\u001b[1;32m   1129\u001b[0m         \u001b[39mor\u001b[39;00m _global_forward_hooks \u001b[39mor\u001b[39;00m _global_forward_pre_hooks):\n\u001b[0;32m-> 1130\u001b[0m     \u001b[39mreturn\u001b[39;00m forward_call(\u001b[39m*\u001b[39;49m\u001b[39minput\u001b[39;49m, \u001b[39m*\u001b[39;49m\u001b[39m*\u001b[39;49mkwargs)\n\u001b[1;32m   1131\u001b[0m \u001b[39m# Do not call functions when jit is used\u001b[39;00m\n\u001b[1;32m   1132\u001b[0m full_backward_hooks, non_full_backward_hooks \u001b[39m=\u001b[39m [], []\n",
      "File \u001b[0;32m~/miniconda3/envs/python3/lib/python3.8/site-packages/torch/nn/modules/container.py:139\u001b[0m, in \u001b[0;36mSequential.forward\u001b[0;34m(self, input)\u001b[0m\n\u001b[1;32m    137\u001b[0m \u001b[39mdef\u001b[39;00m \u001b[39mforward\u001b[39m(\u001b[39mself\u001b[39m, \u001b[39minput\u001b[39m):\n\u001b[1;32m    138\u001b[0m     \u001b[39mfor\u001b[39;00m module \u001b[39min\u001b[39;00m \u001b[39mself\u001b[39m:\n\u001b[0;32m--> 139\u001b[0m         \u001b[39minput\u001b[39m \u001b[39m=\u001b[39m module(\u001b[39minput\u001b[39;49m)\n\u001b[1;32m    140\u001b[0m     \u001b[39mreturn\u001b[39;00m \u001b[39minput\u001b[39m\n",
      "File \u001b[0;32m~/miniconda3/envs/python3/lib/python3.8/site-packages/torch/nn/modules/module.py:1130\u001b[0m, in \u001b[0;36mModule._call_impl\u001b[0;34m(self, *input, **kwargs)\u001b[0m\n\u001b[1;32m   1126\u001b[0m \u001b[39m# If we don't have any hooks, we want to skip the rest of the logic in\u001b[39;00m\n\u001b[1;32m   1127\u001b[0m \u001b[39m# this function, and just call forward.\u001b[39;00m\n\u001b[1;32m   1128\u001b[0m \u001b[39mif\u001b[39;00m \u001b[39mnot\u001b[39;00m (\u001b[39mself\u001b[39m\u001b[39m.\u001b[39m_backward_hooks \u001b[39mor\u001b[39;00m \u001b[39mself\u001b[39m\u001b[39m.\u001b[39m_forward_hooks \u001b[39mor\u001b[39;00m \u001b[39mself\u001b[39m\u001b[39m.\u001b[39m_forward_pre_hooks \u001b[39mor\u001b[39;00m _global_backward_hooks\n\u001b[1;32m   1129\u001b[0m         \u001b[39mor\u001b[39;00m _global_forward_hooks \u001b[39mor\u001b[39;00m _global_forward_pre_hooks):\n\u001b[0;32m-> 1130\u001b[0m     \u001b[39mreturn\u001b[39;00m forward_call(\u001b[39m*\u001b[39;49m\u001b[39minput\u001b[39;49m, \u001b[39m*\u001b[39;49m\u001b[39m*\u001b[39;49mkwargs)\n\u001b[1;32m   1131\u001b[0m \u001b[39m# Do not call functions when jit is used\u001b[39;00m\n\u001b[1;32m   1132\u001b[0m full_backward_hooks, non_full_backward_hooks \u001b[39m=\u001b[39m [], []\n",
      "Cell \u001b[0;32mIn[22], line 10\u001b[0m, in \u001b[0;36mResidualTransformerBlock.forward\u001b[0;34m(self, x)\u001b[0m\n\u001b[1;32m      9\u001b[0m \u001b[39mdef\u001b[39;00m \u001b[39mforward\u001b[39m(\u001b[39mself\u001b[39m, x):\n\u001b[0;32m---> 10\u001b[0m     x \u001b[39m=\u001b[39m \u001b[39mself\u001b[39;49m\u001b[39m.\u001b[39;49mattn(\u001b[39mself\u001b[39;49m\u001b[39m.\u001b[39;49mnorm1(x)) \u001b[39m+\u001b[39;49m x \u001b[39m# residual\u001b[39;00m\n\u001b[1;32m     11\u001b[0m     x \u001b[39m=\u001b[39m \u001b[39mself\u001b[39m\u001b[39m.\u001b[39mff(\u001b[39mself\u001b[39m\u001b[39m.\u001b[39mnorm2(x)) \u001b[39m+\u001b[39m x \u001b[39m# residual\u001b[39;00m\n\u001b[1;32m     12\u001b[0m     \u001b[39mreturn\u001b[39;00m x\n",
      "\u001b[0;31mRuntimeError\u001b[0m: The size of tensor a (32) must match the size of tensor b (128) at non-singleton dimension 2"
     ]
    }
   ],
   "source": [
    "context_length = 128\n",
    "batch_size = 32\n",
    "emb_size = 64\n",
    "multi_block_model = MultiBlockModel(vocab_size, emb_size, emb_size, context_length, num_multi_attn_heads=8, num_blocks=8).to(device)\n",
    "losses = train(multi_block_model, 10000, batch_size, context_length)\n",
    "plot_ema(losses)\n",
    "generate_text(multi_block_model)"
   ]
  }
 ],
 "metadata": {
  "kernelspec": {
   "display_name": "python3",
   "language": "python",
   "name": "python3"
  },
  "language_info": {
   "codemirror_mode": {
    "name": "ipython",
    "version": 3
   },
   "file_extension": ".py",
   "mimetype": "text/x-python",
   "name": "python",
   "nbconvert_exporter": "python",
   "pygments_lexer": "ipython3",
   "version": "3.8.16"
  },
  "orig_nbformat": 4
 },
 "nbformat": 4,
 "nbformat_minor": 2
}

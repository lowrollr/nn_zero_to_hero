{
 "cells": [
  {
   "cell_type": "code",
   "execution_count": 1,
   "metadata": {},
   "outputs": [
    {
     "name": "stdout",
     "output_type": "stream",
     "text": [
      "--2023-05-17 01:55:03--  https://raw.githubusercontent.com/karpathy/char-rnn/master/data/tinyshakespeare/input.txt\n",
      "Resolving raw.githubusercontent.com (raw.githubusercontent.com)... 185.199.108.133, 185.199.111.133, 185.199.110.133, ...\n",
      "Connecting to raw.githubusercontent.com (raw.githubusercontent.com)|185.199.108.133|:443... connected.\n",
      "HTTP request sent, awaiting response... 200 OK\n",
      "Length: 1115394 (1.1M) [text/plain]\n",
      "Saving to: ‘input.txt.4’\n",
      "\n",
      "input.txt.4         100%[===================>]   1.06M  --.-KB/s    in 0.004s  \n",
      "\n",
      "2023-05-17 01:55:03 (285 MB/s) - ‘input.txt.4’ saved [1115394/1115394]\n",
      "\n"
     ]
    }
   ],
   "source": [
    "import torch\n",
    "import numpy as np\n",
    "import matplotlib.pyplot as plt\n",
    "\n",
    "# We always start with a dataset to train on. Let's download the tiny shakespeare dataset\n",
    "!wget https://raw.githubusercontent.com/karpathy/char-rnn/master/data/tinyshakespeare/input.txt\n",
    "\n",
    "\n",
    "device = torch.device('cuda' if torch.cuda.is_available() else 'cpu')"
   ]
  },
  {
   "attachments": {},
   "cell_type": "markdown",
   "metadata": {},
   "source": [
    "In this lecture we will be building a miniature GPT (Generative Pretrained Transformer) model and using it to generate Shakespeare-like text! To train it we'll be using a text file with over 1 million characters worth of works of Shakespeare."
   ]
  },
  {
   "cell_type": "code",
   "execution_count": 2,
   "metadata": {},
   "outputs": [
    {
     "name": "stdout",
     "output_type": "stream",
     "text": [
      "length of dataset in characters:  1115394\n"
     ]
    }
   ],
   "source": [
    "# read it in to inspect it\n",
    "with open('input.txt', 'r', encoding='utf-8') as f:\n",
    "    text = f.read()\n",
    "print(\"length of dataset in characters: \", len(text))"
   ]
  },
  {
   "cell_type": "code",
   "execution_count": 3,
   "metadata": {},
   "outputs": [
    {
     "name": "stdout",
     "output_type": "stream",
     "text": [
      "First Citizen:\n",
      "Before we proceed any further, hear me speak.\n",
      "\n",
      "All:\n",
      "Speak, speak.\n",
      "\n",
      "First Citizen:\n",
      "You are all resolved rather to die than to famish?\n",
      "\n",
      "All:\n",
      "Resolved. resolved.\n",
      "\n",
      "First Citizen:\n",
      "First, you\n"
     ]
    }
   ],
   "source": [
    "print(text[:200])"
   ]
  },
  {
   "attachments": {},
   "cell_type": "markdown",
   "metadata": {},
   "source": [
    "As we've done in the past, we'll need to create a vocabulary with each of the tokens contained in our dataset. Since we are building a character-level language model this will just contain each character seen in the text. We can see that 65 different characters appear in the text."
   ]
  },
  {
   "cell_type": "code",
   "execution_count": 4,
   "metadata": {},
   "outputs": [
    {
     "name": "stdout",
     "output_type": "stream",
     "text": [
      "\n",
      " !$&',-.3:;?ABCDEFGHIJKLMNOPQRSTUVWXYZabcdefghijklmnopqrstuvwxyz\n",
      "65\n"
     ]
    }
   ],
   "source": [
    "# here are all the unique characters that occur in this text\n",
    "chars = sorted(list(set(text)))\n",
    "vocab_size = len(chars)\n",
    "print(''.join(chars))\n",
    "print(vocab_size)"
   ]
  },
  {
   "attachments": {},
   "cell_type": "markdown",
   "metadata": {},
   "source": [
    "In order to turn text into tokens, we need to create a numerical representation of each character. We can create functions that help us turn characters into tokens and back:"
   ]
  },
  {
   "cell_type": "code",
   "execution_count": 5,
   "metadata": {},
   "outputs": [
    {
     "name": "stdout",
     "output_type": "stream",
     "text": [
      "[46, 47, 47, 1, 58, 46, 43, 56, 43]\n",
      "hii there\n"
     ]
    }
   ],
   "source": [
    "# create a mapping from characters to integers\n",
    "stoi = { ch:i for i,ch in enumerate(chars) }\n",
    "itos = { i:ch for i,ch in enumerate(chars) }\n",
    "encode = lambda s: [stoi[c] for c in s] # encoder: take a string, output a list of integers\n",
    "decode = lambda l: ''.join([itos[i] for i in l]) # decoder: take a list of integers, output a string\n",
    "\n",
    "print(encode(\"hii there\"))\n",
    "print(decode(encode(\"hii there\")))"
   ]
  },
  {
   "attachments": {},
   "cell_type": "markdown",
   "metadata": {},
   "source": [
    "Then, we can encode the dataset and load it into a tensor:"
   ]
  },
  {
   "cell_type": "code",
   "execution_count": 6,
   "metadata": {},
   "outputs": [
    {
     "name": "stdout",
     "output_type": "stream",
     "text": [
      "torch.Size([1115394]) torch.int64\n",
      "tensor([18, 47, 56, 57, 58,  1, 15, 47, 58, 47, 64, 43, 52, 10,  0, 14, 43, 44,\n",
      "        53, 56, 43,  1, 61, 43,  1, 54, 56, 53, 41, 43, 43, 42,  1, 39, 52, 63,\n",
      "         1, 44, 59, 56, 58, 46, 43, 56,  6,  1, 46, 43, 39, 56,  1, 51, 43,  1,\n",
      "        57, 54, 43, 39, 49,  8,  0,  0, 13, 50, 50, 10,  0, 31, 54, 43, 39, 49,\n",
      "         6,  1, 57, 54, 43, 39, 49,  8,  0,  0, 18, 47, 56, 57, 58,  1, 15, 47,\n",
      "        58, 47, 64, 43, 52, 10,  0, 37, 53, 59], device='cuda:0')\n"
     ]
    }
   ],
   "source": [
    "# Now that we have an encoder, we can encode the entire dataset:\n",
    "data = torch.tensor(encode(text), dtype=torch.long, device=device)\n",
    "print(data.shape, data.dtype)\n",
    "print(data[:100])"
   ]
  },
  {
   "attachments": {},
   "cell_type": "markdown",
   "metadata": {},
   "source": [
    "Next we can split our dataset into training and validation datasets:\n"
   ]
  },
  {
   "cell_type": "code",
   "execution_count": 7,
   "metadata": {},
   "outputs": [],
   "source": [
    "spl = int(0.9 * len(data))\n",
    "\n",
    "train_data = data[:spl]\n",
    "\n",
    "val_data = data[spl:]"
   ]
  },
  {
   "attachments": {},
   "cell_type": "markdown",
   "metadata": {},
   "source": [
    "Our input data will contain mini-batches of blocks on tokens with block size = context length = 8. This essentially means our model will be able to query the previous seven characters to predict the eigth character."
   ]
  },
  {
   "cell_type": "code",
   "execution_count": 8,
   "metadata": {},
   "outputs": [
    {
     "name": "stdout",
     "output_type": "stream",
     "text": [
      "inputs:\n",
      "torch.Size([4, 8])\n",
      "tensor([[24, 43, 58,  5, 57,  1, 46, 43],\n",
      "        [44, 53, 56,  1, 58, 46, 39, 58],\n",
      "        [52, 58,  1, 58, 46, 39, 58,  1],\n",
      "        [25, 17, 27, 10,  0, 21,  1, 54]], device='cuda:0')\n",
      "torch.Size([4, 8])\n",
      "tensor([[43, 58,  5, 57,  1, 46, 43, 39],\n",
      "        [53, 56,  1, 58, 46, 39, 58,  1],\n",
      "        [58,  1, 58, 46, 39, 58,  1, 46],\n",
      "        [17, 27, 10,  0, 21,  1, 54, 39]], device='cuda:0')\n",
      "----\n",
      "when input is [24] the target: 43\n",
      "when input is [24, 43] the target: 58\n",
      "when input is [24, 43, 58] the target: 5\n",
      "when input is [24, 43, 58, 5] the target: 57\n",
      "when input is [24, 43, 58, 5, 57] the target: 1\n",
      "when input is [24, 43, 58, 5, 57, 1] the target: 46\n",
      "when input is [24, 43, 58, 5, 57, 1, 46] the target: 43\n",
      "when input is [24, 43, 58, 5, 57, 1, 46, 43] the target: 39\n",
      "when input is [44] the target: 53\n",
      "when input is [44, 53] the target: 56\n",
      "when input is [44, 53, 56] the target: 1\n",
      "when input is [44, 53, 56, 1] the target: 58\n",
      "when input is [44, 53, 56, 1, 58] the target: 46\n",
      "when input is [44, 53, 56, 1, 58, 46] the target: 39\n",
      "when input is [44, 53, 56, 1, 58, 46, 39] the target: 58\n",
      "when input is [44, 53, 56, 1, 58, 46, 39, 58] the target: 1\n",
      "when input is [52] the target: 58\n",
      "when input is [52, 58] the target: 1\n",
      "when input is [52, 58, 1] the target: 58\n",
      "when input is [52, 58, 1, 58] the target: 46\n",
      "when input is [52, 58, 1, 58, 46] the target: 39\n",
      "when input is [52, 58, 1, 58, 46, 39] the target: 58\n",
      "when input is [52, 58, 1, 58, 46, 39, 58] the target: 1\n",
      "when input is [52, 58, 1, 58, 46, 39, 58, 1] the target: 46\n",
      "when input is [25] the target: 17\n",
      "when input is [25, 17] the target: 27\n",
      "when input is [25, 17, 27] the target: 10\n",
      "when input is [25, 17, 27, 10] the target: 0\n",
      "when input is [25, 17, 27, 10, 0] the target: 21\n",
      "when input is [25, 17, 27, 10, 0, 21] the target: 1\n",
      "when input is [25, 17, 27, 10, 0, 21, 1] the target: 54\n",
      "when input is [25, 17, 27, 10, 0, 21, 1, 54] the target: 39\n"
     ]
    }
   ],
   "source": [
    "torch.manual_seed(1337)\n",
    "\n",
    "batch_size = 4\n",
    "context_length = 8\n",
    "\n",
    "def get_batch(split, batch_size, context_length):\n",
    "    data = train_data if split == 'train' else val_data\n",
    "    ix = torch.randint(len(data) - context_length, (batch_size,))\n",
    "    x = torch.stack([data[i:i+context_length] for i in ix])\n",
    "    y = torch.stack([data[i+1:i+context_length+1] for i in ix])\n",
    "    return x, y\n",
    "\n",
    "xb, yb = get_batch('train', batch_size, context_length)\n",
    "\n",
    "print('inputs:')\n",
    "print(xb.shape)\n",
    "print(xb)\n",
    "print(yb.shape)\n",
    "print(yb)\n",
    "print('----')\n",
    "\n",
    "for b in range(batch_size):\n",
    "    for t in range(context_length):\n",
    "        context = xb[b, :t+1]\n",
    "        target = yb[b, t]\n",
    "        print(f'when input is {context.tolist()} the target: {target}')\n",
    "\n"
   ]
  },
  {
   "attachments": {},
   "cell_type": "markdown",
   "metadata": {},
   "source": [
    "Now that we have our input/label generation sorted, we can start training a model. We can start with the BigramLanguageModel we've implemented in previous lectures as a baseline. We simply look up a probabilitiy distribution in the token embedding table and use that to predict the next character.\n",
    "\n",
    "First, we can define a few helper methods to assist with training, evaluating, and generating with our model."
   ]
  },
  {
   "cell_type": "code",
   "execution_count": 9,
   "metadata": {},
   "outputs": [],
   "source": [
    "\n",
    "def evaluate(model, batch_size, context_length, num_batches = 100):\n",
    "    model.eval()\n",
    "    x, y = get_batch('val', batch_size, context_length)\n",
    "    losses = []\n",
    "    for _ in range(num_batches):\n",
    "        _, loss = model(x, y)\n",
    "        losses.append(loss.item())\n",
    "    loss = np.mean(losses)\n",
    "    model.train()\n",
    "    return loss\n",
    "\n",
    "\n",
    "def train(model, num_steps, batch_size, context_length, learning_rate=1e-3, optimizer=None, print_every=1000, evaluate_every=1000):\n",
    "    if optimizer is None:\n",
    "        optimizer = torch.optim.AdamW(model.parameters(), lr=learning_rate)\n",
    "    model.train()\n",
    "    losses = []\n",
    "    eval_losses = []\n",
    "    for step in range(1, num_steps+1):\n",
    "        optimizer.zero_grad()\n",
    "        x, y = get_batch('train', batch_size, context_length)\n",
    "        logits, loss = model(x, y)\n",
    "        loss.backward()\n",
    "        optimizer.step()\n",
    "        if step % print_every == 0:\n",
    "            print(f'step {step}: loss {loss.item()}')\n",
    "\n",
    "        if step == 0 or step % evaluate_every == 0:\n",
    "            eval_loss = evaluate(model, batch_size, context_length)\n",
    "            eval_losses.append(eval_loss)\n",
    "        losses.append(loss.item())\n",
    "    \n",
    "\n",
    "    return losses, eval_losses\n",
    "\n",
    "def plot_ema(losses, eval_losses, gamma=0.99, title='ema'):\n",
    "    ema = losses[0]\n",
    "    ema_losses = []\n",
    "    eval_indices = np.linspace(0, len(losses), len(eval_losses), dtype=int)\n",
    "    for i, l in enumerate(losses):\n",
    "        ema = gamma * ema + (1-gamma) * l\n",
    "        ema_losses.append(ema)\n",
    "    plt.plot(ema_losses, label='train', color='red')\n",
    "    plt.plot(eval_indices, eval_losses, label='val', color='blue')\n",
    "    plt.legend()\n",
    "    plt.show()\n",
    "    print('final train loss (ema):', ema_losses[-1])\n",
    "    print('final validation loss:', eval_losses[-1])\n",
    "\n",
    "def generate_text(model, starting_text=None, max_new_tokens=1000):\n",
    "    if starting_text is None:\n",
    "        starting_text = ''\n",
    "        data = torch.zeros((1, 1), dtype=torch.long, device=device)\n",
    "    else:\n",
    "        data = torch.tensor(encode(starting_text), dtype=torch.long, device=device).reshape(-1, 1)\n",
    "    model.eval()\n",
    "    with torch.no_grad():\n",
    "        print(starting_text + decode(model.generate(data, max_new_tokens=max_new_tokens)[-1].tolist()))\n",
    "    model.train()"
   ]
  },
  {
   "attachments": {},
   "cell_type": "markdown",
   "metadata": {},
   "source": [
    "Now we are ready to define the bigram language model. We simply initialize an embedding that maps each token to a probability distribution for the next token."
   ]
  },
  {
   "cell_type": "code",
   "execution_count": 10,
   "metadata": {},
   "outputs": [
    {
     "name": "stdout",
     "output_type": "stream",
     "text": [
      "loss: tensor(5.0364, device='cuda:0', grad_fn=<NllLossBackward0>)\n",
      "torch.Size([32, 65])\n",
      "\n",
      "yq$;tfBfROkNdcuwdZZTkOMl;,ertK\n",
      "w:!PLCkMBbeA$3:XaSGJO-3p&M-c?KL3auhpFYVXJFhNNNuhq$OMxv.tbVFYdXlrFZaAeNuw:cPPyREFkHDEZaYJFzyWNuX\n",
      "Yo3&$LMtofBimzLB!!&V!Ox;Kl;l;ZcKe3 ixYeYEFngmi;;lxWvHFGEZEQG EsSXHB;kW3 J..Gh3;kNWjbH!selplj FGUVQS.H-hxD3pcncimVyLCbug;MniZ'X3QwkydOJlrBPUuIRnBf&ptIRlgvIg;V\n",
      "F\n",
      "tyqwJdqNMtS.klmoRW,Odo&$hdGCerzy3MQSTSt-&fE$HZLETxxxFhxJ$Fs:p-LK3gAY-xV-H\n",
      "QAtkNxmOvnruMW,fI'\n",
      ";;3QQDL!Lm:fvG,Cyy.alMUE$tptfJFEPWD?eXYIS?T.NrHK-NxWE!ar,Oyd&h&:\n",
      "aadUajW,T3pEDDFkYBhoihVKNIk?e.raAnyCRrxxtp-c&fn yE?!NMyM3QNEzyEPkELmKBy.l;HXA'WWt;ROyAm \n",
      ";GHB;E$WsZE-spKXjNbVqq$V-iY.rdq$RP;$$OxxVKihpZwY'vOMugybxWEDTg\n",
      "kMc-MyfvDm&tkSF-&$MDuu..J\n",
      "tEAkRm&JdlMcKXjTkjxsLuzXJPLAP$VeMlv3vL-ZEACa3McLRfJ:ssF'My-vbtKH.imO:RSJ\n",
      "ECAsWxVM-eRfKXALR:y,D$t'CCG!;scPkAYcKYUc-3fduMAtvn,eXrxmV\n",
      "FGhZcnhob.akw!O?\n",
      "w'wc-Ez\n",
      "N'w:H ..!x.BPCbTmlFYF'mCREQlc?ZlcKIROMGrIpBOdF'WLLIiGubACfxImMKk\n",
      "kHpZ\n",
      "&XnGM.uQzXCD?tFyrK?oeIYc?oYxxiuG\n",
      "l?KBEnIIZcKe y3bBGTxapQCtZF'SPsqqXA$ng;cPD$G$zkl;3EhBlmQlbkl;PoPUrPhMO\n",
      "Fw:;tvb..xjwajc-&LiuY$WYZtTgBWL;Hu;qy-Nkc-SGPSe\n"
     ]
    }
   ],
   "source": [
    "import torch.nn as nn\n",
    "from torch.nn import functional as F\n",
    "\n",
    "class BigramLangugageModel(nn.Module):\n",
    "    def __init__(self, vocab_size):\n",
    "        super().__init__()\n",
    "        self.token_embedding_table = nn.Embedding(vocab_size, vocab_size)\n",
    "    \n",
    "    def forward(self, idx, targets=None):\n",
    "        logits = self.token_embedding_table(idx) # batch, timestep, channel\n",
    "\n",
    "        if targets is not None:\n",
    "            B, T, C = logits.shape\n",
    "            logits = logits.view(B*T, C)\n",
    "            targets = targets.view(B*T)\n",
    "            loss = F.cross_entropy(logits, targets)\n",
    "        else:\n",
    "            loss = None\n",
    "\n",
    "        return logits, loss\n",
    "    \n",
    "    def generate(self, idx, max_new_tokens):\n",
    "        for _ in range(max_new_tokens):\n",
    "            logits, loss = self(idx)\n",
    "            logits = logits[:,-1,:] # all batches, last timestamp, all channels\n",
    "            probs = F.softmax(logits, dim=-1)\n",
    "            idx_next = torch.multinomial(probs, num_samples=1)\n",
    "            idx = torch.cat((idx, idx_next), dim=1)\n",
    "        return idx\n",
    "\n",
    "m = BigramLangugageModel(vocab_size).to(device)\n",
    "out, loss = m(xb, yb)\n",
    "print('loss:', loss)\n",
    "print(out.shape)\n",
    "\n",
    "generate_text(m)"
   ]
  },
  {
   "attachments": {},
   "cell_type": "markdown",
   "metadata": {},
   "source": [
    "In previous lectures we've implemented our own simple SGD optimizer -- this time we can just use one of PyTorch's built-in optimizers: AdamW, which is a bit more complex but serves the same purpose."
   ]
  },
  {
   "attachments": {},
   "cell_type": "markdown",
   "metadata": {},
   "source": [
    "We can use the optimizer to train the Bigram model."
   ]
  },
  {
   "cell_type": "code",
   "execution_count": 11,
   "metadata": {},
   "outputs": [
    {
     "name": "stdout",
     "output_type": "stream",
     "text": [
      "step 1000: loss 3.5911130905151367\n",
      "step 2000: loss 2.9266631603240967\n",
      "step 3000: loss 2.736260175704956\n",
      "step 4000: loss 2.548273801803589\n",
      "step 5000: loss 2.480334758758545\n",
      "step 6000: loss 2.5059969425201416\n",
      "step 7000: loss 2.402766227722168\n",
      "step 8000: loss 2.52601957321167\n",
      "step 9000: loss 2.4303627014160156\n",
      "step 10000: loss 2.4271392822265625\n"
     ]
    },
    {
     "data": {
      "image/png": "[encoded data removed]",
      "text/plain": [
       "<Figure size 432x288 with 1 Axes>"
      ]
     },
     "metadata": {
      "needs_background": "light"
     },
     "output_type": "display_data"
    },
    {
     "name": "stdout",
     "output_type": "stream",
     "text": [
      "final train loss (ema): 2.46007797115696\n",
      "final validation loss: 2.434309720993042\n"
     ]
    }
   ],
   "source": [
    "batch_size = 32\n",
    "context_length = 8\n",
    "losses, eval_losses = train(m, num_steps=10000, context_length=32, batch_size=32)\n",
    "plot_ema(losses, eval_losses)"
   ]
  },
  {
   "attachments": {},
   "cell_type": "markdown",
   "metadata": {},
   "source": [
    "We are able to bring loss down from its initial value, but the model fails to improve much past ~2.5.\n",
    "\n",
    "We can also try generating some tokens with our model, as you can see its still mostly giberish, but is closer to shakespearian engish than truly random characters would be (there are a few recognizable words, and words take on typical word lengths with punctuations interspersed)"
   ]
  },
  {
   "cell_type": "code",
   "execution_count": 12,
   "metadata": {},
   "outputs": [
    {
     "name": "stdout",
     "output_type": "stream",
     "text": [
      "\n",
      "MPrrtano iru forealoirorQUERDik;\n",
      "CKES:\n",
      "R tck is, d s, nd ftanofallon bay ho s, agallen, meseveminds s; te worimyoin ie--\n",
      "ARUSThe Whou wowhedichea blare aned hy senInirstha theint de mas, the an be ke imyol menatoulinor woeing brwimapise.QUSwe e wo IICis;tha d tho y'silH:\n",
      "FFertaperulllalop!\n",
      "Antheolirconourjura d f t wothr u th?\n",
      "Whaling mas, h n t il c; d j.\n",
      "Whtir Whth'dlll my ay meras be:\n",
      "HERGSo ndonzwel RIUCE:\n",
      "\n",
      "\n",
      "Anveaban; IOn hequ thitan nu tonm TESCorte y, d.\n",
      "Sl!\n",
      "HAUSTRoy IE:\n",
      "ARBu ar wholers e\n",
      "Thins; s ookesthouk bl,-mer, s, es s;\n",
      "RICld t olk ve, scee Clll!\n",
      "Y theee isheresed we h, st ar\n",
      "ENCELONTherveiryo derk ht kng\n",
      "NG thin.\n",
      "To'd!\n",
      "Wheseson rwshe. ar?\n",
      "EEY: s IA:\n",
      "Whthathe couf mhir, byoass ooung, hathese hawaye hernd en:\n",
      "BRI w flouthise ma ar h ccr:\n",
      "Wivof t, ofamongl,\n",
      "Youlateald weat r theat bef fowalo' I orrt bur IULENRerower lifl he pun'lf gur outo theayoourer:\n",
      "Anowitens y, t y po my,\n",
      "The,\n",
      "I LEseng,\n",
      "JUS: d bV:\n",
      "EDUStho,\n",
      "JUCUMy pat ingr brifo s men'ed.\n",
      "Whathee s his ote h henike o an we\n"
     ]
    }
   ],
   "source": [
    "generate_text(m)"
   ]
  },
  {
   "attachments": {},
   "cell_type": "markdown",
   "metadata": {},
   "source": [
    "Next, we can implement a slightly more sophisticated model:\n",
    "* we initialize a token and positional embedding table -- in addition to building embeddings for each token we also create embeddings for each relative position \n",
    "* we can then combine these embeddings into a single embedding using addition\n",
    "* we can also specify the size of these embeddings, and then use a linear layer to downsample back to the desired output size (vocab size)\n",
    "\n",
    "\n",
    "Note: Andrej really likes using global variables everywhere -- this gets too crazy for my liking!"
   ]
  },
  {
   "cell_type": "code",
   "execution_count": 13,
   "metadata": {},
   "outputs": [],
   "source": [
    "class CoolerBigramLanguageModel(nn.Module):\n",
    "    def __init__(self, vocab_size, emb_size, context_length) -> None:\n",
    "        super().__init__()\n",
    "        self.token_embedding_table = nn.Embedding(vocab_size, emb_size)\n",
    "        self.positional_embedding_table = nn.Embedding(context_length, emb_size)\n",
    "        self.output_layer = nn.Linear(emb_size, vocab_size)\n",
    "        self.context_length = context_length\n",
    "\n",
    "    def forward(self, idx, targets=None):\n",
    "        # get token embeddings from input indices\n",
    "        token_embeddings = self.token_embedding_table(idx)\n",
    "\n",
    "        # get positional embeddings for each timestep\n",
    "        B, T, C = token_embeddings.shape\n",
    "        positional_embeddings = self.positional_embedding_table(torch.arange(T, device=idx.device))\n",
    "\n",
    "        # add them together\n",
    "        embeddings = token_embeddings + positional_embeddings   \n",
    "\n",
    "        # pass thru linear layer\n",
    "        logits = self.output_layer(embeddings)\n",
    "\n",
    "        # everything else is the same as before\n",
    "        if targets is not None:\n",
    "            B, T, C = logits.shape\n",
    "            logits = logits.view(B*T, C)\n",
    "            targets = targets.view(B*T)\n",
    "            loss = F.cross_entropy(logits, targets)\n",
    "        else:\n",
    "            loss = None\n",
    "\n",
    "        return logits, loss\n",
    "    \n",
    "    # same as before\n",
    "    def generate(self, idx, max_new_tokens):\n",
    "        for _ in range(max_new_tokens):\n",
    "            idx_crop = idx[:,-self.context_length:]\n",
    "            logits, _ = self(idx_crop)\n",
    "            logits = logits[:,-1,:] # all batches, last timestamp, all channels\n",
    "            probs = F.softmax(logits, dim=-1)\n",
    "            idx_next = torch.multinomial(probs, num_samples=1)\n",
    "            idx = torch.cat((idx, idx_next), dim=1)\n",
    "        return idx"
   ]
  },
  {
   "attachments": {},
   "cell_type": "markdown",
   "metadata": {},
   "source": [
    "This implementation should allow for the model to capture more meaning -- but we still do not expect great performance."
   ]
  },
  {
   "cell_type": "code",
   "execution_count": 14,
   "metadata": {},
   "outputs": [
    {
     "data": {
      "text/plain": [
       "(tensor([[ 0.9707,  0.2157, -0.0835,  ..., -0.5180,  1.3999,  0.3424],\n",
       "         [ 0.2355, -0.9728, -1.3314,  ...,  0.5139, -0.9323, -0.0804],\n",
       "         [ 0.4796, -0.3009, -0.7701,  ...,  0.1819, -1.4477,  0.7303],\n",
       "         ...,\n",
       "         [-0.2608, -0.0386,  0.5090,  ...,  1.2979,  0.9185,  0.8161],\n",
       "         [ 1.6263,  0.7518,  1.3564,  ...,  0.1594,  0.4901,  0.6352],\n",
       "         [-0.5124,  0.5357,  0.0302,  ...,  1.4935, -1.1639,  0.3049]],\n",
       "        device='cuda:0', grad_fn=<ViewBackward0>),\n",
       " tensor(4.5215, device='cuda:0', grad_fn=<NllLossBackward0>))"
      ]
     },
     "execution_count": 14,
     "metadata": {},
     "output_type": "execute_result"
    }
   ],
   "source": [
    "context_length = 8\n",
    "batch_size = 32\n",
    "emb_size = 32\n",
    "cooler_model = CoolerBigramLanguageModel(vocab_size, emb_size=emb_size, context_length=context_length).to(device)\n",
    "cooler_model(xb, yb)"
   ]
  },
  {
   "cell_type": "code",
   "execution_count": 15,
   "metadata": {},
   "outputs": [
    {
     "name": "stdout",
     "output_type": "stream",
     "text": [
      "step 1000: loss 2.556856393814087\n",
      "step 2000: loss 2.4927334785461426\n",
      "step 3000: loss 2.4212543964385986\n",
      "step 4000: loss 2.5675387382507324\n",
      "step 5000: loss 2.5115902423858643\n",
      "step 6000: loss 2.5174593925476074\n",
      "step 7000: loss 2.4398653507232666\n",
      "step 8000: loss 2.4100186824798584\n",
      "step 9000: loss 2.510944366455078\n",
      "step 10000: loss 2.50274920463562\n"
     ]
    },
    {
     "data": {
      "image/png": "[encoded data removed]",
      "text/plain": [
       "<Figure size 432x288 with 1 Axes>"
      ]
     },
     "metadata": {
      "needs_background": "light"
     },
     "output_type": "display_data"
    },
    {
     "name": "stdout",
     "output_type": "stream",
     "text": [
      "final train loss (ema): 2.4696557665964733\n",
      "final validation loss: 2.476578712463379\n",
      "\n",
      "B; e lane.\n",
      "O t,\n",
      "MAnd thast ay bet citinorir.\n",
      "\n",
      "SGry, higo m fasstou s,--\n",
      "AMu t htereerd\n",
      "BE:\n",
      "TUR:\n",
      "NCAnd isenookie w I't O:\n",
      "S Se f m pondetowed amand w\n",
      "Sore ofouse sis is ith y de\n",
      "TERe hed COfad ym o thando yo owe th mand h lomed h t:\n",
      "3 ther tl mor, s\n",
      "\n",
      "\n",
      "\n",
      "PEdshenceadad, hore mma unest s y areaseds!\n",
      "Enco doley meawhe ainon maputou ourel had be.\n",
      "POld sloreveke ckst da my s,\n",
      "DWhad s o he dous.\n",
      "\n",
      "\n",
      "ERCRY:\n",
      "DChot f marerando s t I BAolllcig ht thimawoorowait ty,\n",
      "y:\n",
      "Jo he wek slld fofun\n",
      "Asthowinequt cemaner myoue.\n",
      "'lindwo.\n",
      "YAS:\n",
      "Ast f at st, he theighaig trvaimeloreatang.\n",
      "\n",
      "LINA:\n",
      "CENI we , ch\n",
      "ARWhe wind RI I htow'd th Bveatorth:\n",
      "\n",
      "WI tr my ak beror me m.\n",
      "\n",
      "\n",
      "AS:\n",
      "NI hanessloul fothere p dth me we weirg onecldil ivancut;\n",
      "D:\n",
      "Whiethier,\n",
      "\n",
      "And me y s roun kered wncende issse thid bickit s is,\n",
      "ALAre buto ghangr wapowht wod heBuclegunderm aiknd!\n",
      "KI he.\n",
      "And tishegun inde no\n",
      "\n",
      "Le: tom bllavey t.\n",
      "ASouy corimangich stourit stere;\n",
      "PUThorthe thad be crinos y, thaththes byou mig h, t htherde blliotstof hilfayondil ispt\n"
     ]
    }
   ],
   "source": [
    "losses, eval_losses = train(cooler_model, 10000, batch_size=batch_size, context_length=context_length)\n",
    "plot_ema(losses, eval_losses)\n",
    "generate_text(cooler_model)"
   ]
  },
  {
   "attachments": {},
   "cell_type": "markdown",
   "metadata": {},
   "source": [
    "Next, we can implement a self-attention head as we discussed in lecture, then create a model that propogates through a self-attention head prior to the output layer:"
   ]
  },
  {
   "cell_type": "code",
   "execution_count": 16,
   "metadata": {},
   "outputs": [],
   "source": [
    "class SelfAttentionHead(nn.Module):\n",
    "    def __init__(self, input_channels, output_channels, context_length, dropout=0.05) -> None:\n",
    "        super().__init__()\n",
    "        self.input_channels = input_channels\n",
    "        self.output_channels = output_channels\n",
    "        self.key = nn.Linear(input_channels, output_channels, bias=False)\n",
    "        self.query = nn.Linear(input_channels, output_channels, bias=False)\n",
    "        self.value = nn.Linear(input_channels, output_channels, bias=False)\n",
    "        self.register_buffer('tril', torch.tril(torch.ones((context_length, context_length))))\n",
    "\n",
    "        self.dropout = nn.Dropout(dropout)\n",
    "        \n",
    "    def forward(self, idx):\n",
    "        B, T, C = idx.shape\n",
    "        \n",
    "        # lookup query, key, and value vectors\n",
    "        # C == input_channels, H == output_channels == head_size\n",
    "        k = self.key(idx) # (B, T, C) -> (B, T, H)\n",
    "        q = self.query(idx) # (B, T, C) -> (B, T, H)\n",
    "        v = self.value(idx) # (B, T, C) -> (B, T, H)\n",
    "\n",
    "        # compute self attention by taking dot product of query and key\n",
    "        wei = q @ k.transpose(-2, -1) # (B, T, H) @ (B, H, T) -> (B, T, T)\n",
    "\n",
    "        wei *= self.output_channels ** -0.5 # scale by sqrt of head size\n",
    "        \n",
    "        # apply lower triangular mask to weights\n",
    "        wei = wei.masked_fill(self.tril[:T,:T]==0, float('-inf')) # (B, T, T)\n",
    "\n",
    "        # apply softmax to get attention weights\n",
    "        wei = F.softmax(wei, dim=-1) # (B, T, T)\n",
    "\n",
    "        wei = self.dropout(wei) # (B, T, T)\n",
    "\n",
    "        # apply attention weights to values\n",
    "        out = wei @ v # (B, T, T) @ (B, T, H) -> (B, T, H)\n",
    "\n",
    "        return out # (B, T, H)\n",
    "    \n",
    "    \n",
    "class SingleHeadModel(nn.Module):\n",
    "    def __init__(self, vocab_size, emb_size, head_size, context_length) -> None:\n",
    "        super().__init__()\n",
    "        self.token_embeddings = nn.Embedding(vocab_size, emb_size)\n",
    "        self.positional_embeddings = nn.Embedding(context_length, emb_size)\n",
    "        self.attention_head = SelfAttentionHead(emb_size, head_size, context_length)\n",
    "        self.output_layer = nn.Linear(head_size, vocab_size)\n",
    "\n",
    "        self.context_length = context_length\n",
    "        \n",
    "\n",
    "    def forward(self, idx, targets=None):\n",
    "        B, T = idx.shape\n",
    "\n",
    "        # get token and positional embeddings\n",
    "        t = self.token_embeddings(idx) # (B, T) -> (B, T, C)\n",
    "        p = self.positional_embeddings(torch.arange(T, device=idx.device)) # (T, C)\n",
    "        x = t + p # (B, T, C) (broadcasting)\n",
    "\n",
    "        # pass thru attention head\n",
    "        x = self.attention_head(x) # (B, T, C) -> (B, T, H)\n",
    "        \n",
    "        # pass thru output layer\n",
    "        logits = self.output_layer(x) # (B, T, H) -> (B, T, V)\n",
    "\n",
    "        \n",
    "        if targets is not None:\n",
    "            B, T, V = logits.shape\n",
    "            logits = logits.view(B*T, V)\n",
    "            targets = targets.view(B*T)\n",
    "            loss = F.cross_entropy(logits, targets)\n",
    "        else:\n",
    "            loss = None\n",
    "\n",
    "        return logits, loss\n",
    "    \n",
    "    def generate(self, idx, max_new_tokens):\n",
    "        for _ in range(max_new_tokens):\n",
    "            idx_crop = idx[:,-self.context_length:]\n",
    "            logits, _ = self(idx_crop)\n",
    "            logits = logits[:,-1,:] # all batches, last timestamp, all channels\n",
    "            probs = F.softmax(logits, dim=-1)\n",
    "            idx_next = torch.multinomial(probs, num_samples=1)\n",
    "            idx = torch.cat((idx, idx_next), dim=1)\n",
    "        return idx"
   ]
  },
  {
   "cell_type": "code",
   "execution_count": 17,
   "metadata": {},
   "outputs": [
    {
     "name": "stdout",
     "output_type": "stream",
     "text": [
      "step 1000: loss 2.5903148651123047\n",
      "step 2000: loss 2.5035862922668457\n",
      "step 3000: loss 2.5473358631134033\n",
      "step 4000: loss 2.470447301864624\n",
      "step 5000: loss 2.404531478881836\n",
      "step 6000: loss 2.4041213989257812\n",
      "step 7000: loss 2.371730327606201\n",
      "step 8000: loss 2.3962583541870117\n",
      "step 9000: loss 2.3624744415283203\n",
      "step 10000: loss 2.2857131958007812\n"
     ]
    },
    {
     "data": {
      "image/png": "[encoded data removed]",
      "text/plain": [
       "<Figure size 432x288 with 1 Axes>"
      ]
     },
     "metadata": {
      "needs_background": "light"
     },
     "output_type": "display_data"
    },
    {
     "name": "stdout",
     "output_type": "stream",
     "text": [
      "final train loss (ema): 2.37080101897375\n",
      "final validation loss: 2.3541877269744873\n",
      "\n",
      "ACUCOMANy to fo ted aly;\n",
      "Whe:\n",
      "Caplave:sor,\n",
      "I\n",
      "FUS:\n",
      "Tpre ound ifr Goursemn.Foug fere couxrig, thon andsein to LO cet lf owy woulle arl nos soult bale.\n",
      "\n",
      "IIGNof fay marm;\n",
      "JUTLAUMLAULENLUK:\n",
      "Thas I for poby asto kendewe he athat thar mollotr, isw heicche mersacak.\n",
      "\n",
      "Frof ato boud they himous ullosh int get eve tthon rn!\n",
      "This trant Me me,ito, berlve vimeaize thee, ter thit bura; ugs:\n",
      "In hit hize, thr jadty, oro to osidenalmask, burt, fat wimom\n",
      "Becn\n",
      "AMy llash no we ancly;\n",
      "HAR houloud thigoy giger\n",
      "An.\n",
      "\n",
      "SENor dstho lly fooleat meal and to fo arnet fo nd: fo mmary my messe hy thebes brthar king the? NI to ky theas Toute, tasn, de calirs! feade, outet me on esehe fromein.\n",
      "\n",
      "Win gshotim. Sth; prok whan wese shiulen, oprapll oriexerodes le sacow\n",
      "KIlere trenssen, been;\n",
      "O se os wicemre thirgmand my mauil ghan asrey, fo nir id whato, bereme nd buble do: yout usis the?\n",
      "\n",
      "ARRK:\n",
      "A ISCAng chacth wourd!\n",
      "F's df Meriesf ther\n",
      "Feou nsmervan?\n",
      "\n",
      "Bouris,-f\n",
      "F oto 'ser. 'sut him, hyoust wouspoutemani tesm sars, che osth\n"
     ]
    }
   ],
   "source": [
    "context_length = 32\n",
    "batch_size = 32\n",
    "emb_size = 32\n",
    "single_head_model = SingleHeadModel(vocab_size, emb_size=emb_size, head_size=emb_size, context_length=context_length).to(device)\n",
    "losses, eval_losses = train(single_head_model, 10000, batch_size, context_length)\n",
    "plot_ema(losses, eval_losses)\n",
    "generate_text(single_head_model)"
   ]
  },
  {
   "attachments": {},
   "cell_type": "markdown",
   "metadata": {},
   "source": [
    "We can see that our loss has begun to imrpove a bit, and our text now feature words that despite not being real, are at least normally-sized.\n",
    "\n",
    "Next, instead of using a single attention head, we can try implementing Multi-Head Attention, which concatenates the results of multiple attention heads running in parallel.\n",
    "\n",
    "The below implementation is not really parallel/vectorized, but this is a task left for the exercises (I build a vectorized implementation there)."
   ]
  },
  {
   "cell_type": "code",
   "execution_count": 18,
   "metadata": {},
   "outputs": [],
   "source": [
    "class MultiHeadAttention(nn.Module):\n",
    "    def __init__(self, emb_size, context_length, head_size, num_heads) -> None:\n",
    "        super().__init__()\n",
    "\n",
    "        self.heads = nn.ModuleList([\n",
    "            SelfAttentionHead(emb_size, head_size, context_length) for _ in range(num_heads)\n",
    "        ])\n",
    "\n",
    "    def forward(self, x):\n",
    "        return torch.cat([head(x) for head in self.heads], dim=-1)\n",
    "    \n",
    "\n",
    "class MultiHeadModel(nn.Module):\n",
    "    def __init__(self, vocab_size, emb_size, head_size, context_length, num_multi_attn_heads) -> None:\n",
    "        super().__init__()\n",
    "        assert head_size % num_multi_attn_heads == 0\n",
    "        self.token_embeddings = nn.Embedding(vocab_size, emb_size)\n",
    "        self.positional_embeddings = nn.Embedding(context_length, emb_size)\n",
    "        self.attention_heads = MultiHeadAttention(emb_size, context_length, head_size//num_multi_attn_heads, num_heads=num_multi_attn_heads)\n",
    "        self.output_layer = nn.Linear(head_size, vocab_size)\n",
    "\n",
    "        self.context_length = context_length\n",
    "\n",
    "    def forward(self, idx, targets=None):\n",
    "        B, T = idx.shape\n",
    "\n",
    "        # get token and positional embeddings\n",
    "        t = self.token_embeddings(idx) # (B, T) -> (B, T, C)\n",
    "        p = self.positional_embeddings(torch.arange(T, device=idx.device)) # (T, C)\n",
    "        x = t + p # (B, T, C) (broadcasting)\n",
    "\n",
    "        # pass thru attention head\n",
    "        x = self.attention_heads(x) # (B, T, C) -> (B, T, H)\n",
    "        \n",
    "        # pass thru output layer\n",
    "        logits = self.output_layer(x) # (B, T, H) -> (B, T, V)\n",
    "\n",
    "        \n",
    "        if targets is not None:\n",
    "            B, T, V = logits.shape\n",
    "            logits = logits.view(B*T, V)\n",
    "            targets = targets.view(B*T)\n",
    "            loss = F.cross_entropy(logits, targets)\n",
    "        else:\n",
    "            loss = None\n",
    "\n",
    "        return logits, loss\n",
    "    \n",
    "    def generate(self, idx, max_new_tokens):\n",
    "        for _ in range(max_new_tokens):\n",
    "            idx_crop = idx[:,-self.context_length:]\n",
    "            logits, _ = self(idx_crop)\n",
    "            logits = logits[:,-1,:] # all batches, last timestamp, all channels\n",
    "            probs = F.softmax(logits, dim=-1)\n",
    "            idx_next = torch.multinomial(probs, num_samples=1)\n",
    "            idx = torch.cat((idx, idx_next), dim=1)\n",
    "        return idx"
   ]
  },
  {
   "cell_type": "code",
   "execution_count": 19,
   "metadata": {},
   "outputs": [
    {
     "name": "stdout",
     "output_type": "stream",
     "text": [
      "step 1000: loss 2.6322150230407715\n",
      "step 2000: loss 2.461132049560547\n",
      "step 3000: loss 2.4668664932250977\n",
      "step 4000: loss 2.252810478210449\n",
      "step 5000: loss 2.236999750137329\n",
      "step 6000: loss 2.156142473220825\n",
      "step 7000: loss 2.2341504096984863\n",
      "step 8000: loss 2.294933795928955\n",
      "step 9000: loss 2.2074332237243652\n",
      "step 10000: loss 2.172811985015869\n"
     ]
    },
    {
     "data": {
      "image/png": "[encoded data removed]",
      "text/plain": [
       "<Figure size 432x288 with 1 Axes>"
      ]
     },
     "metadata": {
      "needs_background": "light"
     },
     "output_type": "display_data"
    },
    {
     "name": "stdout",
     "output_type": "stream",
     "text": [
      "final train loss (ema): 2.1854195549095032\n",
      "final validation loss: 2.2549054622650146\n",
      "\n",
      "Bont ofs rrt mare; the Olthe the adt,\n",
      "ISZY:\n",
      "AnLy then, thou, wor bont, I ound ful,\n",
      "Mrmm a worbirees.\n",
      "Bonde\n",
      "PLeclas:\n",
      "KINE:\n",
      "Fornt quroce, wilik imp, allil tand shouls,\n",
      "Ma seredy me Polath wors:\n",
      "He wames: I'rs im, kise.\n",
      "\n",
      "For bshat, hou gan'e,\n",
      "Aur yecavegay, yeineds opsey cerd cant,\n",
      "I foruce rould mare exmbter, whakee,\n",
      "Whit, that thal's me prouss lest, hat sfrmy thory.\n",
      "DABENGE:\n",
      "Sanst o'end ndan.\n",
      "KINGGREO:\n",
      "ILome ro his meach you; the his batens prondmy,\n",
      "An, ware prof; you toy\n",
      "Tof erearst bar to int bondet hand the he is for'd dee at mite,\n",
      "Bulive?\n",
      "\n",
      "This whais?\n",
      "\n",
      "Finins ind sheiend,\n",
      "Bucelald, sou theis hamulin he sa froman\n",
      "weave, thre be, sirsh ster' opeat tyou.\n",
      "Theang ad of wer press heat wa four cor ave f\n",
      "Lad ponjotendees:\n",
      "Whe me hy\n",
      "AtThat nove had neis your tin wiinfaul finothflle heng, hacot at ber ons to sone,'\n",
      "ghacess ig!\n",
      "FLELY ANINO:\n",
      "Ak qurive fors,\n",
      "I wevinkss ing; hate whe wor shy,\n",
      "Band ndoprsuc, wom hellyoultredediding,\n",
      "Y'd Thard foul\n",
      "RIy itreaust:\n",
      "\n",
      "Whor, yimphancy. be Whend, bee's ii\n"
     ]
    }
   ],
   "source": [
    "context_length = 32\n",
    "batch_size = 32\n",
    "emb_size = 32\n",
    "multi_head_model = MultiHeadModel(vocab_size, emb_size, emb_size, context_length, num_multi_attn_heads=4).to(device)\n",
    "losses, eval_losses = train(multi_head_model, 10000, batch_size, context_length)\n",
    "plot_ema(losses, eval_losses)\n",
    "generate_text(multi_head_model)"
   ]
  },
  {
   "attachments": {},
   "cell_type": "markdown",
   "metadata": {},
   "source": [
    "We can see that this improves our loss considerably, and we begin to see our text take on more of a structure."
   ]
  },
  {
   "cell_type": "code",
   "execution_count": 20,
   "metadata": {},
   "outputs": [],
   "source": [
    "class FeedForward(nn.Module):\n",
    "    def __init__(self, input_channels, output_channels) -> None:\n",
    "        super().__init__()\n",
    "\n",
    "        self.ff = nn.Sequential(\n",
    "            nn.Linear(input_channels, output_channels),\n",
    "            nn.ReLU(),\n",
    "        )\n",
    "\n",
    "    def forward(self, x):\n",
    "        return self.ff(x)\n",
    "    \n",
    "\n",
    "class MultiHeadwFFModel(nn.Module):\n",
    "    def __init__(self, vocab_size, emb_size, head_size, context_length, num_multi_attn_heads,) -> None:\n",
    "        super().__init__()\n",
    "        assert head_size % num_multi_attn_heads == 0\n",
    "        self.token_embeddings = nn.Embedding(vocab_size, emb_size)\n",
    "        self.positional_embeddings = nn.Embedding(context_length, emb_size)\n",
    "        self.attention_heads = MultiHeadAttention(emb_size, context_length, head_size//num_multi_attn_heads, num_heads=num_multi_attn_heads)\n",
    "        self.ff = FeedForward(head_size, head_size)\n",
    "        self.output_layer = nn.Linear(head_size, vocab_size)\n",
    "\n",
    "        self.context_length = context_length\n",
    "\n",
    "    def forward(self, idx, targets=None):\n",
    "        B, T = idx.shape\n",
    "\n",
    "        # get token and positional embeddings\n",
    "        t = self.token_embeddings(idx) # (B, T) -> (B, T, C)\n",
    "        p = self.positional_embeddings(torch.arange(T, device=idx.device)) # (T, C)\n",
    "        x = t + p # (B, T, C) (broadcasting)\n",
    "\n",
    "        # pass thru attention head\n",
    "        x = self.attention_heads(x) # (B, T, C) -> (B, T, H)\n",
    "        \n",
    "        # pass thru feed forward\n",
    "        x = self.ff(x) # (B, T, H) -> (B, T, H)\n",
    "\n",
    "        # pass thru output layer\n",
    "        logits = self.output_layer(x) # (B, T, H) -> (B, T, V)\n",
    "\n",
    "        \n",
    "        if targets is not None:\n",
    "            B, T, V = logits.shape\n",
    "            logits = logits.view(B*T, V)\n",
    "            targets = targets.view(B*T)\n",
    "            loss = F.cross_entropy(logits, targets)\n",
    "        else:\n",
    "            loss = None\n",
    "\n",
    "        return logits, loss\n",
    "    \n",
    "    def generate(self, idx, max_new_tokens):\n",
    "        for _ in range(max_new_tokens):\n",
    "            idx_crop = idx[:,-self.context_length:]\n",
    "            logits, _ = self(idx_crop)\n",
    "            logits = logits[:,-1,:] # all batches, last timestamp, all channels\n",
    "            probs = F.softmax(logits, dim=-1)\n",
    "            idx_next = torch.multinomial(probs, num_samples=1)\n",
    "            idx = torch.cat((idx, idx_next), dim=1)\n",
    "        return idx"
   ]
  },
  {
   "cell_type": "code",
   "execution_count": 21,
   "metadata": {},
   "outputs": [
    {
     "name": "stdout",
     "output_type": "stream",
     "text": [
      "step 1000: loss 2.535432815551758\n",
      "step 2000: loss 2.3507606983184814\n",
      "step 3000: loss 2.3093183040618896\n",
      "step 4000: loss 2.226003408432007\n",
      "step 5000: loss 2.11472487449646\n",
      "step 6000: loss 2.171994686126709\n",
      "step 7000: loss 2.1874945163726807\n",
      "step 8000: loss 2.2079269886016846\n",
      "step 9000: loss 2.1513922214508057\n",
      "step 10000: loss 2.154435157775879\n"
     ]
    },
    {
     "data": {
      "image/png": "[encoded data removed]",
      "text/plain": [
       "<Figure size 432x288 with 1 Axes>"
      ]
     },
     "metadata": {
      "needs_background": "light"
     },
     "output_type": "display_data"
    },
    {
     "name": "stdout",
     "output_type": "stream",
     "text": [
      "final train loss (ema): 2.127228050795009\n",
      "final validation loss: 2.1988744735717773\n",
      "\n",
      "Agr up thow; not.\n",
      "OMESICIONGorkincth, to as trard Cito befe bing tho.\n",
      "Tlown.\n",
      "\n",
      "Wenour idheeat bend my it giflall. Browiy, Shust ince! wol\n",
      "ar whing ther to thers chist; ther thou plepll-cen you the with ting the shey er hee, airt,\n",
      "Not weazul. Grins\n",
      "Ford, thingss sacpon, upown the the o belfoon:\n",
      "Youlds:\n",
      "Doy hore comnenciur hold wited as thous sond sprull adito! Gonill been asto to ie dams\n",
      "Thingen, wrld\n",
      "Then\n",
      "Nust not this prot law thave and;\n",
      "Whild?\n",
      "\n",
      "LARIO:\n",
      "Ree-parce\n",
      "Aving fordourn, same, I I tract'\n",
      "Afir musiy ord of slanson speear, ing;\n",
      "giflent.\n",
      "\n",
      "BKIZIO:\n",
      "I can mave m overgeve istandroneys fole\n",
      "Sear thely toh love gonte,\n",
      "Haccused hemeng athe\n",
      "coord oftlook, the is to thy this I clan hat whine-andwse: uper I touslous,\n",
      "Ant amee, a dy I ot:\n",
      "die for yous to at keingoht tland.\n",
      "\n",
      "BOLo binenn, your\n",
      "will westo uzer, seness Deaking, heer.\n",
      "\n",
      "RORICINCER:\n",
      "O ard tuve and told se thas myorquee fenthereave' youts umking you con: wer.\n",
      "Hour bremes, chant will bate beatats hat them'siststencle of ill weey ser,\n",
      "\n"
     ]
    }
   ],
   "source": [
    "context_length = 32\n",
    "batch_size = 32\n",
    "emb_size = 32\n",
    "multi_head_wff_model = MultiHeadwFFModel(vocab_size, emb_size, emb_size, context_length, num_multi_attn_heads=4).to(device)\n",
    "losses, eval_losses = train(multi_head_wff_model, 10000, batch_size, context_length)\n",
    "plot_ema(losses, eval_losses)\n",
    "generate_text(multi_head_wff_model)"
   ]
  },
  {
   "attachments": {},
   "cell_type": "markdown",
   "metadata": {},
   "source": [
    "Another key feature in transformers is residual connections. This allows the model to essentially read/write to/from a tape as data propagates through many self-attention blocks. Now we can scale up our model by including multiple residual blocks, and achieve much better performance."
   ]
  },
  {
   "cell_type": "code",
   "execution_count": 22,
   "metadata": {},
   "outputs": [],
   "source": [
    "class ResidualTransformerBlock(nn.Module):\n",
    "    def __init__(self, emb_size, head_size, context_length, num_multi_attn_heads) -> None:\n",
    "        super().__init__()\n",
    "        self.attn = MultiHeadAttention(emb_size, context_length, head_size//num_multi_attn_heads, num_heads=num_multi_attn_heads)\n",
    "        self.ff = FeedForward(head_size, head_size)\n",
    "        self.norm1 = nn.LayerNorm(head_size)\n",
    "        self.norm2 = nn.LayerNorm(head_size)\n",
    "\n",
    "    def forward(self, x):\n",
    "        x = self.attn(self.norm1(x)) + x # residual\n",
    "        x = self.ff(self.norm2(x)) + x # residual\n",
    "        return x\n",
    "    \n",
    "\n",
    "class MultiBlockModel(nn.Module):\n",
    "    def __init__(self, vocab_size, emb_size, head_size, context_length, num_multi_attn_heads, num_blocks) -> None:\n",
    "        super().__init__()\n",
    "        assert head_size % num_multi_attn_heads == 0\n",
    "        self.token_embeddings = nn.Embedding(vocab_size, emb_size)\n",
    "        self.positional_embeddings = nn.Embedding(context_length, emb_size)\n",
    "        self.blocks = nn.Sequential(*[ResidualTransformerBlock(emb_size, head_size, context_length, num_multi_attn_heads) for _ in range(num_blocks)], nn.LayerNorm(head_size))\n",
    "        self.ff = FeedForward(head_size, head_size)\n",
    "        self.output_layer = nn.Linear(head_size, vocab_size)\n",
    "\n",
    "        self.context_length = context_length\n",
    "\n",
    "    def forward(self, idx, targets=None):\n",
    "        B, T = idx.shape\n",
    "\n",
    "        # get token and positional embeddings\n",
    "        t = self.token_embeddings(idx) # (B, T) -> (B, T, C)\n",
    "        p = self.positional_embeddings(torch.arange(T, device=idx.device)) # (T, C)\n",
    "        x = t + p # (B, T, C) (broadcasting)\n",
    "\n",
    "        # pass thru attention head\n",
    "        x = self.blocks(x) # (B, T, C) -> (B, T, H)\n",
    "        \n",
    "        # pass thru feed forward\n",
    "        x = self.ff(x) # (B, T, H) -> (B, T, H)\n",
    "\n",
    "        # pass thru output layer\n",
    "        logits = self.output_layer(x) # (B, T, H) -> (B, T, V)\n",
    "\n",
    "        \n",
    "        if targets is not None:\n",
    "            B, T, V = logits.shape\n",
    "            logits = logits.view(B*T, V)\n",
    "            targets = targets.view(B*T)\n",
    "            loss = F.cross_entropy(logits, targets)\n",
    "        else:\n",
    "            loss = None\n",
    "\n",
    "        return logits, loss\n",
    "    \n",
    "    def generate(self, idx, max_new_tokens):\n",
    "        for _ in range(max_new_tokens):\n",
    "            idx_crop = idx[:,-self.context_length:]\n",
    "            logits, _ = self(idx_crop)\n",
    "            logits = logits[:,-1,:] # all batches, last timestamp, all channels\n",
    "            probs = F.softmax(logits, dim=-1)\n",
    "            idx_next = torch.multinomial(probs, num_samples=1)\n",
    "            idx = torch.cat((idx, idx_next), dim=1)\n",
    "        return idx\n"
   ]
  },
  {
   "cell_type": "code",
   "execution_count": 23,
   "metadata": {},
   "outputs": [
    {
     "name": "stdout",
     "output_type": "stream",
     "text": [
      "step 1000: loss 2.386462450027466\n",
      "step 2000: loss 2.210996150970459\n",
      "step 3000: loss 2.1828184127807617\n",
      "step 4000: loss 2.0228922367095947\n",
      "step 5000: loss 2.0592827796936035\n",
      "step 6000: loss 1.9703054428100586\n",
      "step 7000: loss 1.994368553161621\n",
      "step 8000: loss 1.895581841468811\n",
      "step 9000: loss 2.0101773738861084\n",
      "step 10000: loss 1.8981406688690186\n"
     ]
    },
    {
     "data": {
      "image/png": "[encoded data removed]",
      "text/plain": [
       "<Figure size 432x288 with 1 Axes>"
      ]
     },
     "metadata": {
      "needs_background": "light"
     },
     "output_type": "display_data"
    },
    {
     "name": "stdout",
     "output_type": "stream",
     "text": [
      "final train loss (ema): 1.910309395577402\n",
      "final validation loss: 1.9129148721694946\n",
      "\n",
      "DUth, and bletforent, in there tubch,\n",
      "Und coore-but a a cesul at blistideds.\n",
      "Mone beptale\n",
      "Take, you\n",
      "And what loly ame kantenter, and his is he ssord holive, sest you urband have vituy onguel:\n",
      "You think bogabent you upuce shill do contend,\n",
      "Why worst thy truth chear emaked\n",
      "Mak\n",
      "A were lis forter? We:\n",
      "\n",
      "Banth will dromcey better for hath be Cinglike\n",
      "This will Edy rences trrely crown.\n",
      "Fiviantench news aust fracusss.\n",
      "\n",
      "ROFY LUTIS:\n",
      "How ying be prowsey plen that verencensiow\n",
      "Whuch th his spoul, then is the mistger young-\n",
      "Somen,\n",
      "Fird they ligh event not ap.\n",
      "\n",
      "PRICLIAnO.\n",
      "\n",
      "HENGORS:\n",
      "Sow! OF COPY:\n",
      "If my heir me ke situng sonemer with dother\n",
      "Revass,\n",
      "Mold hisself, more to would king of counnes go me the us lomon,\n",
      "lareng it on and man; yenfrers paje;\n",
      "But swack all dood:\n",
      "What dinew:\n",
      "Benttient, day; ipore go, is dencle segrot.\n",
      "\n",
      "CAR BETH:\n",
      "To their prangely or\n",
      "Ascith ceectarent thrrlon agar; thexnou for he gangh pack, me sult of make-houng yet, scull,\n",
      "Thee asber ke't depised them.\n",
      "\n",
      "POLARD:\n",
      "I mailud her rasfo\n"
     ]
    }
   ],
   "source": [
    "context_length = 32\n",
    "batch_size = 32\n",
    "emb_size = 32\n",
    "multi_block_model = MultiBlockModel(vocab_size, emb_size, emb_size, context_length, num_multi_attn_heads=4, num_blocks=4).to(device)\n",
    "losses, eval_losses = train(multi_block_model, 10000, batch_size, context_length)\n",
    "plot_ema(losses, eval_losses)\n",
    "generate_text(multi_block_model)"
   ]
  },
  {
   "attachments": {},
   "cell_type": "markdown",
   "metadata": {},
   "source": [
    "Our performance has improved dramatically, and our output text is really starting to look much more like shakespeare. Now, we can scale up the size of our model to hopefully acheive even better performance!"
   ]
  },
  {
   "cell_type": "code",
   "execution_count": 24,
   "metadata": {},
   "outputs": [
    {
     "name": "stdout",
     "output_type": "stream",
     "text": [
      "step 1000: loss 2.089928150177002\n",
      "step 2000: loss 1.888620376586914\n",
      "step 3000: loss 1.7092015743255615\n",
      "step 4000: loss 1.7138113975524902\n",
      "step 5000: loss 1.6130561828613281\n",
      "step 6000: loss 1.6445904970169067\n",
      "step 7000: loss 1.618385672569275\n",
      "step 8000: loss 1.6010478734970093\n",
      "step 9000: loss 1.5213872194290161\n",
      "step 10000: loss 1.5830111503601074\n"
     ]
    },
    {
     "data": {
      "image/png": "[encoded data removed]",
      "text/plain": [
       "<Figure size 432x288 with 1 Axes>"
      ]
     },
     "metadata": {
      "needs_background": "light"
     },
     "output_type": "display_data"
    },
    {
     "name": "stdout",
     "output_type": "stream",
     "text": [
      "final train loss (ema): 1.553168526808115\n",
      "final validation loss: 1.648468017578125\n",
      "\n",
      "And the gaught young of\n",
      "Advengerurage mook the where squickly of o't with.\n",
      "Neest I cocklin cashes uppose us smatify,\n",
      "As sings' grifty.\n",
      "\n",
      "KING LENRY:\n",
      "Wilt have is stands elces? for my a love,\n",
      "For Lord, see with with my paintuon think,\n",
      "But the sein, curchtleds be Godger's the gafter.\n",
      "\n",
      "Lurdow them and the that brumpretice,\n",
      "And secrubitatio, seconds son know,\n",
      "Ins that so-that Rome, that he hour\n",
      "Thank ruttone be was toth honer'd Thou To':\n",
      "My lord doned your till muts exect him;\n",
      "Steep with him. And shown, hast on: do constage lemn\n",
      "Hast the there It England bacties to hank for she;\n",
      "Sould whichder have will chiene! the have concient\n",
      "Let playe: trave 'tis leave may elsh, constroath, them?\n",
      "\n",
      "BUCKINGHAM:\n",
      "By for and to maind think true. Beave they look\n",
      "So your for Whence, noble gappeted his deep\n",
      "Thall slim like grie'ly naming o's love greet\n",
      "Plosse shorth, nor thaning becity one and suall's,\n",
      "Ooth my deir of suppick'd, Pluching, hoin should of\n",
      "Freeparous herm?\n",
      "\n",
      "HOMERSTUMEREN:\n",
      "Where terse.\n",
      "\n",
      "LEONTES:\n",
      "An\n"
     ]
    }
   ],
   "source": [
    "context_length = 128\n",
    "batch_size = 32\n",
    "emb_size = 64\n",
    "multi_block_model = MultiBlockModel(vocab_size, emb_size, emb_size, context_length, num_multi_attn_heads=8, num_blocks=8).to(device)\n",
    "losses, eval_losses = train(multi_block_model, 10000, batch_size, context_length)\n",
    "plot_ema(losses, eval_losses)\n",
    "generate_text(multi_block_model)"
   ]
  },
  {
   "attachments": {},
   "cell_type": "markdown",
   "metadata": {},
   "source": [
    "Our output looks great! Of course when you read it it makes little sense, but it's composed of mostly English words and takes on a form consistent with text we see in the training set. One thing to notice is that the gap between our training loss and validation loss had begun to grow noticable -- if we continue to scale up our model without introducing regularization we could see this gap continue to grow as we overfit. "
   ]
  }
 ],
 "metadata": {
  "kernelspec": {
   "display_name": "Python 3",
   "language": "python",
   "name": "python3"
  },
  "language_info": {
   "codemirror_mode": {
    "name": "ipython",
    "version": 3
   },
   "file_extension": ".py",
   "mimetype": "text/x-python",
   "name": "python",
   "nbconvert_exporter": "python",
   "pygments_lexer": "ipython3",
   "version": "3.8.16"
  }
 },
 "nbformat": 4,
 "nbformat_minor": 2
}

{
 "cells": [
  {
   "cell_type": "code",
   "execution_count": 1,
   "metadata": {},
   "outputs": [],
   "source": [
    "import torch\n",
    "import matplotlib.pyplot as plt\n",
    "import random\n"
   ]
  },
  {
   "attachments": {},
   "cell_type": "markdown",
   "metadata": {},
   "source": [
    "First, we load the words dataset and create char to id and id to char mappings. "
   ]
  },
  {
   "cell_type": "code",
   "execution_count": 2,
   "metadata": {},
   "outputs": [],
   "source": [
    "words = open('../l2_makemore/names.txt').read().splitlines()\n",
    "chars = ['.'] + sorted(list(set(''.join(words))))\n",
    "stoi = {c:i for i,c in enumerate(chars)}\n",
    "itos = {i:c for i,c in enumerate(chars)}"
   ]
  },
  {
   "attachments": {},
   "cell_type": "markdown",
   "metadata": {},
   "source": [
    "For this model we will consider the 3 previous characters to predict the next character in a name. As we did in the previous lecture, we can use the '.' character to denote start and end of sequence.\n",
    "\n",
    "We can print a few examples to see that it works:"
   ]
  },
  {
   "cell_type": "code",
   "execution_count": 3,
   "metadata": {},
   "outputs": [
    {
     "name": "stdout",
     "output_type": "stream",
     "text": [
      "... -----> e\n",
      "..e -----> m\n",
      ".em -----> m\n",
      "emm -----> a\n",
      "mma -----> .\n",
      "... -----> o\n",
      "..o -----> l\n",
      ".ol -----> i\n",
      "oli -----> v\n",
      "liv -----> i\n",
      "ivi -----> a\n",
      "via -----> .\n",
      "... -----> a\n",
      "..a -----> v\n",
      ".av -----> a\n",
      "ava -----> .\n",
      "... -----> i\n",
      "..i -----> s\n",
      ".is -----> a\n",
      "isa -----> b\n",
      "sab -----> e\n",
      "abe -----> l\n",
      "bel -----> l\n",
      "ell -----> a\n",
      "lla -----> .\n",
      "... -----> s\n",
      "..s -----> o\n",
      ".so -----> p\n",
      "sop -----> h\n",
      "oph -----> i\n",
      "phi -----> a\n",
      "hia -----> .\n"
     ]
    }
   ],
   "source": [
    "block_size = 3\n",
    "\n",
    "X, Y = [], []\n",
    "\n",
    "for w in words[:5]:\n",
    "    context = [0] * block_size\n",
    "    for c in w + '.':\n",
    "        ix = stoi[c]\n",
    "        X.append(context)\n",
    "        Y.append(ix)\n",
    "        print(''.join(itos[i] for i in context), '----->', itos[ix])\n",
    "        context = context[1:] + [ix]\n",
    "\n",
    "X = torch.tensor(X)\n",
    "Y = torch.tensor(Y)\n"
   ]
  },
  {
   "attachments": {},
   "cell_type": "markdown",
   "metadata": {},
   "source": [
    "Next let's create the embedding vectors. We can first experiment with a smaller size -- I chose 3."
   ]
  },
  {
   "cell_type": "code",
   "execution_count": 4,
   "metadata": {},
   "outputs": [
    {
     "data": {
      "text/plain": [
       "torch.Size([32, 3, 3])"
      ]
     },
     "execution_count": 4,
     "metadata": {},
     "output_type": "execute_result"
    }
   ],
   "source": [
    "C = torch.randn((27, 3), requires_grad=True)\n",
    "emb = C[X]\n",
    "emb.shape"
   ]
  },
  {
   "attachments": {},
   "cell_type": "markdown",
   "metadata": {},
   "source": [
    "The hidden layer will connect the embeddings to a linear layer, we choose a size of 100 neurons. \n",
    "\n",
    "The input size will be the block_size (3) multiplied by the embedding size (also 3) = 9:"
   ]
  },
  {
   "cell_type": "code",
   "execution_count": 5,
   "metadata": {},
   "outputs": [],
   "source": [
    "W1 = torch.randn((9, 100), requires_grad=True)\n",
    "b1 = torch.randn(100, requires_grad=True)"
   ]
  },
  {
   "attachments": {},
   "cell_type": "markdown",
   "metadata": {},
   "source": [
    "In order to feed the embeddings into the hidden layer, we will need to squash the dimensions such that they are of the shape (X, 9) instead of (X, 3, 3) which we can accomplish with the *view* method:"
   ]
  },
  {
   "cell_type": "code",
   "execution_count": 6,
   "metadata": {},
   "outputs": [
    {
     "data": {
      "text/plain": [
       "tensor([[ 1.2684,  0.8108, -1.9514,  ..., -6.0133,  4.7472, -6.3218],\n",
       "        [ 0.8325, -0.0911, -2.8809,  ..., -6.3895,  2.3085, -5.3702],\n",
       "        [-0.6168,  5.4683, -1.9259,  ..., -4.0562,  2.4511, -3.2630],\n",
       "        ...,\n",
       "        [-4.1155,  1.6355, -4.7648,  ..., -2.9742, -2.8320, -3.8669],\n",
       "        [-2.2059,  2.6049, -2.5793,  ...,  2.9790,  0.6621,  1.7337],\n",
       "        [-4.2592,  1.9306, -1.2945,  ...,  6.2807, -0.7707,  4.9068]],\n",
       "       grad_fn=<AddBackward0>)"
      ]
     },
     "execution_count": 6,
     "metadata": {},
     "output_type": "execute_result"
    }
   ],
   "source": [
    "(emb.view(-1, 9) @ W1) + b1"
   ]
  },
  {
   "attachments": {},
   "cell_type": "markdown",
   "metadata": {},
   "source": [
    "Finally, the output layer will map the 100 activations from the hidden layer to 27 activations that we will use to represent the probability distribution for each of the 27 possible characters.\n",
    "\n",
    "In total, the parameters in our network include:\n",
    " * embedding weights (C)\n",
    " * hidden layer weights (W1)\n",
    " * hidden layer biases (b1)\n",
    " * output layer weights (W2)\n",
    " * output layer biases (b2)"
   ]
  },
  {
   "cell_type": "code",
   "execution_count": 7,
   "metadata": {},
   "outputs": [],
   "source": [
    "W2 = torch.randn((100, 27), requires_grad=True)\n",
    "b2 = torch.randn(27, requires_grad=True)\n",
    "\n",
    "parameters = [C, W1, b1, W2, b2]"
   ]
  },
  {
   "attachments": {},
   "cell_type": "markdown",
   "metadata": {},
   "source": [
    "We can write a forward propogation function to propogate data through the network. Note that we do not apply an activation to the output layer yet (because we are going to use Cross Entropy Loss! which assumes the values are still logits)."
   ]
  },
  {
   "cell_type": "code",
   "execution_count": 8,
   "metadata": {},
   "outputs": [],
   "source": [
    "def forward(x, parameters):\n",
    "    C, W1, b1, W2, b2 = parameters\n",
    "    emb = C[x]\n",
    "    h = (emb.view(-1, emb.shape[1] * emb.shape[2]) @ W1) + b1\n",
    "    h = h.tanh()\n",
    "    h = (h @ W2) + b2\n",
    "    return h # returns logits"
   ]
  },
  {
   "cell_type": "code",
   "execution_count": 9,
   "metadata": {},
   "outputs": [
    {
     "data": {
      "text/plain": [
       "(torch.Size([32, 27]), torch.Size([32, 3]))"
      ]
     },
     "execution_count": 9,
     "metadata": {},
     "output_type": "execute_result"
    }
   ],
   "source": [
    "forward(X, parameters).shape, X.shape"
   ]
  },
  {
   "attachments": {},
   "cell_type": "markdown",
   "metadata": {},
   "source": [
    "Next we can write a function the performs one step of optimization. It feeds some input through the network, computes the cross entropy loss on the output logits, then performs a gradient descent step on all the paramter weights and resets the gradients to 0."
   ]
  },
  {
   "cell_type": "code",
   "execution_count": 10,
   "metadata": {},
   "outputs": [],
   "source": [
    "def optimize_step(x, y, parameters, lr=0.1):\n",
    "    logits = forward(x, parameters)\n",
    "    loss = torch.nn.functional.cross_entropy(logits, y)\n",
    "    loss.backward()\n",
    "    for p in parameters:\n",
    "        p.data -= p.grad * 0.1\n",
    "        p.grad = None\n",
    "    return loss.item()"
   ]
  },
  {
   "attachments": {},
   "cell_type": "markdown",
   "metadata": {},
   "source": [
    "We can see that running 2 optimization steps decreases the loss!"
   ]
  },
  {
   "cell_type": "code",
   "execution_count": 11,
   "metadata": {},
   "outputs": [
    {
     "data": {
      "text/plain": [
       "16.689239501953125"
      ]
     },
     "execution_count": 11,
     "metadata": {},
     "output_type": "execute_result"
    }
   ],
   "source": [
    "optimize_step(X, Y, parameters)"
   ]
  },
  {
   "cell_type": "code",
   "execution_count": 12,
   "metadata": {},
   "outputs": [
    {
     "data": {
      "text/plain": [
       "12.849098205566406"
      ]
     },
     "execution_count": 12,
     "metadata": {},
     "output_type": "execute_result"
    }
   ],
   "source": [
    "optimize_step(X, Y, parameters)"
   ]
  },
  {
   "attachments": {},
   "cell_type": "markdown",
   "metadata": {},
   "source": [
    "Another useful function would be a way to instantiate a network with different layer hyperparamters so that we can easily experiment with different configurations. We can wrap the instantiation of each of the layers in *init_parameters*."
   ]
  },
  {
   "cell_type": "code",
   "execution_count": 13,
   "metadata": {},
   "outputs": [],
   "source": [
    "def init_parameters(num_chars, block_size, embedding_size, hidden_layer_size):\n",
    "    C = torch.randn((num_chars, embedding_size), requires_grad=True)\n",
    "    W1 = torch.randn((embedding_size * block_size, hidden_layer_size), requires_grad=True)\n",
    "    b1 = torch.randn(hidden_layer_size, requires_grad=True)\n",
    "    W2 = torch.randn((hidden_layer_size, num_chars), requires_grad=True)\n",
    "    b2 = torch.randn(num_chars, requires_grad=True)\n",
    "\n",
    "    return [C, W1, b1, W2, b2]\n"
   ]
  },
  {
   "cell_type": "code",
   "execution_count": 14,
   "metadata": {},
   "outputs": [],
   "source": [
    "parameters = init_parameters(27, 3, 3, 100)"
   ]
  },
  {
   "attachments": {},
   "cell_type": "markdown",
   "metadata": {},
   "source": [
    "We might want to mess around with changing the block size, so we can create a function that creates input data with a given block size:"
   ]
  },
  {
   "cell_type": "code",
   "execution_count": 15,
   "metadata": {},
   "outputs": [],
   "source": [
    "def build_inputs_and_labels(words, block_size):\n",
    "    X, Y = [], []\n",
    "\n",
    "    for w in words:\n",
    "        context = [0] * block_size\n",
    "        for c in w + '.':\n",
    "            ix = stoi[c]\n",
    "            X.append(context)\n",
    "            Y.append(ix)\n",
    "            context = context[1:] + [ix]\n",
    "\n",
    "    X = torch.tensor(X)\n",
    "    Y = torch.tensor(Y)\n",
    "    return X, Y"
   ]
  },
  {
   "attachments": {},
   "cell_type": "markdown",
   "metadata": {},
   "source": [
    "Additionally, now that we are using a much larger number of paramters, we need to make sure that we don't accidentally overfit to the data we train on. To combat this, we will split the data into a training set, a validation set, and a test set wtih this function:"
   ]
  },
  {
   "cell_type": "code",
   "execution_count": 16,
   "metadata": {},
   "outputs": [],
   "source": [
    "def train_dev_test_split(words, train_size=0.8, dev_size=0.1):\n",
    "    random.shuffle(words)\n",
    "    assert train_size + dev_size < 1\n",
    "    num_words = len(words)\n",
    "    train_split = int(num_words * train_size)\n",
    "    dev_split = int(num_words * (train_size + dev_size))\n",
    "    train_words = words[:train_split]\n",
    "    dev_words = words[train_split:dev_split]\n",
    "    test_words = words[dev_split:]\n",
    "    return train_words, dev_words, test_words"
   ]
  },
  {
   "attachments": {},
   "cell_type": "markdown",
   "metadata": {},
   "source": [
    "Now we can split the data and create input tensors for each of the datasets:"
   ]
  },
  {
   "cell_type": "code",
   "execution_count": 17,
   "metadata": {},
   "outputs": [],
   "source": [
    "train_words, dev_words, test_words = train_dev_test_split(words)"
   ]
  },
  {
   "cell_type": "code",
   "execution_count": 18,
   "metadata": {},
   "outputs": [],
   "source": [
    "X_train, Y_train = build_inputs_and_labels(train_words, block_size)\n",
    "X_dev, Y_dev = build_inputs_and_labels(dev_words, block_size)\n",
    "X_test, Y_test = build_inputs_and_labels(test_words, block_size)"
   ]
  },
  {
   "attachments": {},
   "cell_type": "markdown",
   "metadata": {},
   "source": [
    "Putting it all together, we can write a gradient descent algorithm. The features include:\n",
    "* Minibatches: It's very slow to perform a gradient descent step on the entire dataset. Instead, we can samples a subset of the data and perform a gradient descent step on the sample, which should allow us to converge more quickly.\n",
    "* lr_deacy: Modern optimizers use all sorts of techniques to fine-tune the learning rate during training. For our purposes, we can just apply a decay factor over time s.t. (new lr) = (1 - decay_rate) * old_lr\n",
    "* Regularization: We can also include a regularization term in the loss function, which will normalize the model's output (by punishing large weights) and help prevent against overfitting. My implementation is very janky but does the job.\n"
   ]
  },
  {
   "cell_type": "code",
   "execution_count": 19,
   "metadata": {},
   "outputs": [],
   "source": [
    "def gradient_descent(x, y, parameters, iterations=100, minibatch_size=100, lr=0.1, lr_decay=0.001, regularization=0.01, print_every=10):\n",
    "    losses = []\n",
    "    for i in range(iterations):\n",
    "        batch_indices = torch.randint(0, x.shape[0], (minibatch_size,))\n",
    "        xi = x[batch_indices]\n",
    "        yi = y[batch_indices]\n",
    "        reg_term = torch.sum(torch.stack([(p**2).sum() for p in parameters])).divide(torch.sum(torch.tensor([p.numel() for p in parameters]))) * regularization\n",
    "        loss = optimize_step(xi, yi, parameters, lr) + reg_term\n",
    "        losses.append(loss)\n",
    "        if i % print_every == 0:\n",
    "            print(f'Iteration {i} loss: {loss}')\n",
    "        lr = lr * (1 - lr_decay)\n",
    "    return losses\n",
    "    "
   ]
  },
  {
   "attachments": {},
   "cell_type": "markdown",
   "metadata": {},
   "source": [
    "On the topic of learning rate decay, we can play around with a learning rate and a decay rate to see how the learning rate changes over time:"
   ]
  },
  {
   "cell_type": "code",
   "execution_count": 20,
   "metadata": {},
   "outputs": [
    {
     "data": {
      "text/plain": [
       "[<matplotlib.lines.Line2D at 0x12accf490>]"
      ]
     },
     "execution_count": 20,
     "metadata": {},
     "output_type": "execute_result"
    },
    {
     "data": {
      "image/png": "[encoded data removed]",
      "text/plain": [
       "<Figure size 640x480 with 1 Axes>"
      ]
     },
     "metadata": {},
     "output_type": "display_data"
    }
   ],
   "source": [
    "import numpy as np\n",
    "timesteps=300000\n",
    "init_lr = 0.2\n",
    "decay_rate = 0.00002\n",
    "plt.plot(np.arange(timesteps), [init_lr * ((1 - decay_rate) ** i)for i in range(1, timesteps + 1)])"
   ]
  },
  {
   "attachments": {},
   "cell_type": "markdown",
   "metadata": {},
   "source": [
    "### E01: \n",
    "#### *Tune the hyperparameters of the training to beat my best validation loss of 2.2*"
   ]
  },
  {
   "attachments": {},
   "cell_type": "markdown",
   "metadata": {},
   "source": [
    "After running many different experiments, I was able to improve upon the results in lecture by increasing the minibatch size, and using learning rate decay to gradually reduce the learning rate over the course of training. I think that using a larger minibatch size resulted in smoother convergence than the size 32 batches we used in lecture, which helped us reach a lower loss value. A smooth learning rate decay curve also likely helped with this:"
   ]
  },
  {
   "cell_type": "code",
   "execution_count": 21,
   "metadata": {},
   "outputs": [
    {
     "name": "stdout",
     "output_type": "stream",
     "text": [
      "Iteration 0 loss: 22.539005279541016\n",
      "Iteration 500 loss: 4.827736854553223\n",
      "Iteration 1000 loss: 3.2072134017944336\n",
      "Iteration 1500 loss: 2.9704630374908447\n",
      "Iteration 2000 loss: 2.3785486221313477\n",
      "Iteration 2500 loss: 2.5785391330718994\n",
      "Iteration 3000 loss: 2.7617363929748535\n",
      "Iteration 3500 loss: 2.5517711639404297\n",
      "Iteration 4000 loss: 2.4682247638702393\n",
      "Iteration 4500 loss: 2.4683382511138916\n",
      "Iteration 5000 loss: 2.4201836585998535\n",
      "Iteration 5500 loss: 2.4366612434387207\n",
      "Iteration 6000 loss: 2.4743969440460205\n",
      "Iteration 6500 loss: 2.5311696529388428\n",
      "Iteration 7000 loss: 2.255258083343506\n",
      "Iteration 7500 loss: 2.360548734664917\n",
      "Iteration 8000 loss: 2.2804486751556396\n",
      "Iteration 8500 loss: 2.407033681869507\n",
      "Iteration 9000 loss: 2.24334454536438\n",
      "Iteration 9500 loss: 2.4069130420684814\n",
      "Iteration 10000 loss: 2.451526641845703\n",
      "Iteration 10500 loss: 2.357257604598999\n",
      "Iteration 11000 loss: 2.318587064743042\n",
      "Iteration 11500 loss: 2.4463751316070557\n",
      "Iteration 12000 loss: 2.4933009147644043\n",
      "Iteration 12500 loss: 2.434859037399292\n",
      "Iteration 13000 loss: 2.2950360774993896\n",
      "Iteration 13500 loss: 2.2058091163635254\n",
      "Iteration 14000 loss: 2.2254536151885986\n",
      "Iteration 14500 loss: 2.413851737976074\n",
      "Iteration 15000 loss: 2.2997210025787354\n",
      "Iteration 15500 loss: 2.465181589126587\n",
      "Iteration 16000 loss: 2.2097606658935547\n",
      "Iteration 16500 loss: 2.4168288707733154\n",
      "Iteration 17000 loss: 2.143246650695801\n",
      "Iteration 17500 loss: 2.434915781021118\n",
      "Iteration 18000 loss: 2.40531063079834\n",
      "Iteration 18500 loss: 2.2545132637023926\n",
      "Iteration 19000 loss: 2.4309966564178467\n",
      "Iteration 19500 loss: 2.4677209854125977\n",
      "Iteration 20000 loss: 2.2597861289978027\n",
      "Iteration 20500 loss: 2.2503204345703125\n",
      "Iteration 21000 loss: 2.5247819423675537\n",
      "Iteration 21500 loss: 2.272705078125\n",
      "Iteration 22000 loss: 2.2565531730651855\n",
      "Iteration 22500 loss: 2.332432508468628\n",
      "Iteration 23000 loss: 2.2856976985931396\n",
      "Iteration 23500 loss: 2.4984564781188965\n",
      "Iteration 24000 loss: 2.1186397075653076\n",
      "Iteration 24500 loss: 2.1803693771362305\n",
      "Iteration 25000 loss: 2.324176788330078\n",
      "Iteration 25500 loss: 2.2463173866271973\n",
      "Iteration 26000 loss: 2.350081205368042\n",
      "Iteration 26500 loss: 2.180905818939209\n",
      "Iteration 27000 loss: 2.199403762817383\n",
      "Iteration 27500 loss: 2.3567755222320557\n",
      "Iteration 28000 loss: 2.374753713607788\n",
      "Iteration 28500 loss: 2.3238015174865723\n",
      "Iteration 29000 loss: 2.1219537258148193\n",
      "Iteration 29500 loss: 2.5602850914001465\n",
      "Iteration 30000 loss: 2.396378517150879\n",
      "Iteration 30500 loss: 2.2422432899475098\n",
      "Iteration 31000 loss: 2.326529026031494\n",
      "Iteration 31500 loss: 2.484975576400757\n",
      "Iteration 32000 loss: 2.1836891174316406\n",
      "Iteration 32500 loss: 2.426175594329834\n",
      "Iteration 33000 loss: 2.3337647914886475\n",
      "Iteration 33500 loss: 2.2103452682495117\n",
      "Iteration 34000 loss: 2.3001301288604736\n",
      "Iteration 34500 loss: 2.2612714767456055\n",
      "Iteration 35000 loss: 2.13535213470459\n",
      "Iteration 35500 loss: 2.2413928508758545\n",
      "Iteration 36000 loss: 2.1335465908050537\n",
      "Iteration 36500 loss: 2.5038630962371826\n",
      "Iteration 37000 loss: 2.2340505123138428\n",
      "Iteration 37500 loss: 2.079974889755249\n",
      "Iteration 38000 loss: 2.210651397705078\n",
      "Iteration 38500 loss: 2.3014233112335205\n",
      "Iteration 39000 loss: 2.258178472518921\n",
      "Iteration 39500 loss: 2.379469871520996\n",
      "Iteration 40000 loss: 2.2895326614379883\n",
      "Iteration 40500 loss: 2.49318528175354\n",
      "Iteration 41000 loss: 2.1617493629455566\n",
      "Iteration 41500 loss: 2.088062286376953\n",
      "Iteration 42000 loss: 2.3187825679779053\n",
      "Iteration 42500 loss: 2.2744836807250977\n",
      "Iteration 43000 loss: 2.2054667472839355\n",
      "Iteration 43500 loss: 2.343312978744507\n",
      "Iteration 44000 loss: 2.4565162658691406\n",
      "Iteration 44500 loss: 2.4584994316101074\n",
      "Iteration 45000 loss: 2.2675492763519287\n",
      "Iteration 45500 loss: 2.3382763862609863\n",
      "Iteration 46000 loss: 2.2376129627227783\n",
      "Iteration 46500 loss: 2.0744810104370117\n",
      "Iteration 47000 loss: 2.243518352508545\n",
      "Iteration 47500 loss: 1.9508153200149536\n",
      "Iteration 48000 loss: 2.295790672302246\n",
      "Iteration 48500 loss: 2.1902856826782227\n",
      "Iteration 49000 loss: 2.1982243061065674\n",
      "Iteration 49500 loss: 2.34628963470459\n",
      "Iteration 50000 loss: 2.3441247940063477\n",
      "Iteration 50500 loss: 2.174492835998535\n",
      "Iteration 51000 loss: 2.2419116497039795\n",
      "Iteration 51500 loss: 2.3288733959198\n",
      "Iteration 52000 loss: 2.0253450870513916\n",
      "Iteration 52500 loss: 2.102247714996338\n",
      "Iteration 53000 loss: 2.1704318523406982\n",
      "Iteration 53500 loss: 2.1221542358398438\n",
      "Iteration 54000 loss: 2.1842780113220215\n",
      "Iteration 54500 loss: 2.465559720993042\n",
      "Iteration 55000 loss: 2.1653475761413574\n",
      "Iteration 55500 loss: 2.2797348499298096\n",
      "Iteration 56000 loss: 2.3032045364379883\n",
      "Iteration 56500 loss: 2.3079445362091064\n",
      "Iteration 57000 loss: 2.4033889770507812\n",
      "Iteration 57500 loss: 2.4174656867980957\n",
      "Iteration 58000 loss: 2.3240928649902344\n",
      "Iteration 58500 loss: 2.2923667430877686\n",
      "Iteration 59000 loss: 2.339630126953125\n",
      "Iteration 59500 loss: 2.1749935150146484\n",
      "Iteration 60000 loss: 2.3543944358825684\n",
      "Iteration 60500 loss: 2.2019431591033936\n",
      "Iteration 61000 loss: 2.2312724590301514\n",
      "Iteration 61500 loss: 2.2926814556121826\n",
      "Iteration 62000 loss: 2.221372365951538\n",
      "Iteration 62500 loss: 2.198446035385132\n",
      "Iteration 63000 loss: 2.426948070526123\n",
      "Iteration 63500 loss: 2.02071213722229\n",
      "Iteration 64000 loss: 2.198903799057007\n",
      "Iteration 64500 loss: 2.313185453414917\n",
      "Iteration 65000 loss: 2.1973764896392822\n",
      "Iteration 65500 loss: 2.12615966796875\n",
      "Iteration 66000 loss: 2.3719804286956787\n",
      "Iteration 66500 loss: 2.2248783111572266\n",
      "Iteration 67000 loss: 2.157883644104004\n",
      "Iteration 67500 loss: 2.295893669128418\n",
      "Iteration 68000 loss: 2.1351816654205322\n",
      "Iteration 68500 loss: 2.183220148086548\n",
      "Iteration 69000 loss: 2.512535333633423\n",
      "Iteration 69500 loss: 2.1950762271881104\n",
      "Iteration 70000 loss: 2.125037431716919\n",
      "Iteration 70500 loss: 2.1306402683258057\n",
      "Iteration 71000 loss: 2.070779800415039\n",
      "Iteration 71500 loss: 2.0754549503326416\n",
      "Iteration 72000 loss: 2.3062968254089355\n",
      "Iteration 72500 loss: 2.1416401863098145\n",
      "Iteration 73000 loss: 2.2823288440704346\n",
      "Iteration 73500 loss: 2.359069347381592\n",
      "Iteration 74000 loss: 2.166738271713257\n",
      "Iteration 74500 loss: 2.2350354194641113\n",
      "Iteration 75000 loss: 2.1918344497680664\n",
      "Iteration 75500 loss: 2.294562578201294\n",
      "Iteration 76000 loss: 2.268582820892334\n",
      "Iteration 76500 loss: 2.2404751777648926\n",
      "Iteration 77000 loss: 2.2517197132110596\n",
      "Iteration 77500 loss: 2.2526040077209473\n",
      "Iteration 78000 loss: 2.169281244277954\n",
      "Iteration 78500 loss: 2.108996629714966\n",
      "Iteration 79000 loss: 2.0434107780456543\n",
      "Iteration 79500 loss: 2.0793564319610596\n",
      "Iteration 80000 loss: 2.159911632537842\n",
      "Iteration 80500 loss: 2.2302358150482178\n",
      "Iteration 81000 loss: 2.32505464553833\n",
      "Iteration 81500 loss: 2.156981945037842\n",
      "Iteration 82000 loss: 2.2099549770355225\n",
      "Iteration 82500 loss: 2.233222007751465\n",
      "Iteration 83000 loss: 2.204918146133423\n",
      "Iteration 83500 loss: 2.3314216136932373\n",
      "Iteration 84000 loss: 2.230173110961914\n",
      "Iteration 84500 loss: 2.2357444763183594\n",
      "Iteration 85000 loss: 2.207864761352539\n",
      "Iteration 85500 loss: 2.4993274211883545\n",
      "Iteration 86000 loss: 2.1691901683807373\n",
      "Iteration 86500 loss: 2.1567940711975098\n",
      "Iteration 87000 loss: 2.312750816345215\n",
      "Iteration 87500 loss: 2.343155860900879\n",
      "Iteration 88000 loss: 2.1599342823028564\n",
      "Iteration 88500 loss: 2.0879528522491455\n",
      "Iteration 89000 loss: 2.182724952697754\n",
      "Iteration 89500 loss: 2.1890575885772705\n",
      "Iteration 90000 loss: 2.266772747039795\n",
      "Iteration 90500 loss: 2.183854103088379\n",
      "Iteration 91000 loss: 2.345515727996826\n",
      "Iteration 91500 loss: 2.461789846420288\n",
      "Iteration 92000 loss: 2.3067474365234375\n",
      "Iteration 92500 loss: 2.3707258701324463\n",
      "Iteration 93000 loss: 2.3207788467407227\n",
      "Iteration 93500 loss: 2.006160020828247\n",
      "Iteration 94000 loss: 2.040390968322754\n",
      "Iteration 94500 loss: 2.1914889812469482\n",
      "Iteration 95000 loss: 2.3215041160583496\n",
      "Iteration 95500 loss: 2.138383626937866\n",
      "Iteration 96000 loss: 2.383587121963501\n",
      "Iteration 96500 loss: 2.271860122680664\n",
      "Iteration 97000 loss: 2.168748140335083\n",
      "Iteration 97500 loss: 2.121680498123169\n",
      "Iteration 98000 loss: 2.351668119430542\n",
      "Iteration 98500 loss: 1.9771345853805542\n",
      "Iteration 99000 loss: 2.1260108947753906\n",
      "Iteration 99500 loss: 2.104724168777466\n",
      "Iteration 100000 loss: 2.2495615482330322\n",
      "Iteration 100500 loss: 2.2436394691467285\n",
      "Iteration 101000 loss: 2.2324488162994385\n",
      "Iteration 101500 loss: 1.9613960981369019\n",
      "Iteration 102000 loss: 2.1861157417297363\n",
      "Iteration 102500 loss: 2.4153213500976562\n",
      "Iteration 103000 loss: 2.2406227588653564\n",
      "Iteration 103500 loss: 2.0140252113342285\n",
      "Iteration 104000 loss: 2.2142505645751953\n",
      "Iteration 104500 loss: 2.1661689281463623\n",
      "Iteration 105000 loss: 2.097116231918335\n",
      "Iteration 105500 loss: 2.1572318077087402\n",
      "Iteration 106000 loss: 2.4609079360961914\n",
      "Iteration 106500 loss: 2.2970523834228516\n",
      "Iteration 107000 loss: 2.253087043762207\n",
      "Iteration 107500 loss: 2.1312384605407715\n",
      "Iteration 108000 loss: 2.0331974029541016\n",
      "Iteration 108500 loss: 2.2988059520721436\n",
      "Iteration 109000 loss: 2.2755250930786133\n",
      "Iteration 109500 loss: 2.1820621490478516\n",
      "Iteration 110000 loss: 2.1273152828216553\n",
      "Iteration 110500 loss: 2.152806520462036\n",
      "Iteration 111000 loss: 2.2126922607421875\n",
      "Iteration 111500 loss: 2.1406447887420654\n",
      "Iteration 112000 loss: 2.2093188762664795\n",
      "Iteration 112500 loss: 2.2531638145446777\n",
      "Iteration 113000 loss: 2.1977412700653076\n",
      "Iteration 113500 loss: 2.275120735168457\n",
      "Iteration 114000 loss: 2.3284482955932617\n",
      "Iteration 114500 loss: 2.2569310665130615\n",
      "Iteration 115000 loss: 2.042789936065674\n",
      "Iteration 115500 loss: 1.9961344003677368\n",
      "Iteration 116000 loss: 2.177781581878662\n",
      "Iteration 116500 loss: 2.31984281539917\n",
      "Iteration 117000 loss: 1.890288233757019\n",
      "Iteration 117500 loss: 2.0643208026885986\n",
      "Iteration 118000 loss: 2.14654541015625\n",
      "Iteration 118500 loss: 1.9873474836349487\n",
      "Iteration 119000 loss: 2.034851312637329\n",
      "Iteration 119500 loss: 1.9257193803787231\n",
      "Iteration 120000 loss: 2.3114354610443115\n",
      "Iteration 120500 loss: 2.170027494430542\n",
      "Iteration 121000 loss: 2.0252416133880615\n",
      "Iteration 121500 loss: 2.256129503250122\n",
      "Iteration 122000 loss: 2.143101215362549\n",
      "Iteration 122500 loss: 2.214212656021118\n",
      "Iteration 123000 loss: 2.391173839569092\n",
      "Iteration 123500 loss: 2.3470618724823\n",
      "Iteration 124000 loss: 2.153949022293091\n",
      "Iteration 124500 loss: 2.0453357696533203\n",
      "Iteration 125000 loss: 2.2180333137512207\n",
      "Iteration 125500 loss: 1.9552687406539917\n",
      "Iteration 126000 loss: 2.0931379795074463\n",
      "Iteration 126500 loss: 2.1832497119903564\n",
      "Iteration 127000 loss: 2.110863447189331\n",
      "Iteration 127500 loss: 2.256988286972046\n",
      "Iteration 128000 loss: 2.1780214309692383\n",
      "Iteration 128500 loss: 2.026754379272461\n",
      "Iteration 129000 loss: 1.980138897895813\n",
      "Iteration 129500 loss: 2.117365598678589\n",
      "Iteration 130000 loss: 2.240783452987671\n",
      "Iteration 130500 loss: 2.1279869079589844\n",
      "Iteration 131000 loss: 2.346846342086792\n",
      "Iteration 131500 loss: 2.2363851070404053\n",
      "Iteration 132000 loss: 2.0303468704223633\n",
      "Iteration 132500 loss: 2.3179593086242676\n",
      "Iteration 133000 loss: 2.068464756011963\n",
      "Iteration 133500 loss: 2.1582398414611816\n",
      "Iteration 134000 loss: 2.0397281646728516\n",
      "Iteration 134500 loss: 2.1695597171783447\n",
      "Iteration 135000 loss: 2.1153347492218018\n",
      "Iteration 135500 loss: 1.99118971824646\n",
      "Iteration 136000 loss: 2.182185173034668\n",
      "Iteration 136500 loss: 2.068639039993286\n",
      "Iteration 137000 loss: 2.1136293411254883\n",
      "Iteration 137500 loss: 2.197291612625122\n",
      "Iteration 138000 loss: 2.207775354385376\n",
      "Iteration 138500 loss: 2.314929246902466\n",
      "Iteration 139000 loss: 2.2152483463287354\n",
      "Iteration 139500 loss: 2.152637243270874\n",
      "Iteration 140000 loss: 2.120748281478882\n",
      "Iteration 140500 loss: 2.1494224071502686\n",
      "Iteration 141000 loss: 2.208296298980713\n",
      "Iteration 141500 loss: 1.961326241493225\n",
      "Iteration 142000 loss: 2.319178819656372\n",
      "Iteration 142500 loss: 2.276939630508423\n",
      "Iteration 143000 loss: 2.112713575363159\n",
      "Iteration 143500 loss: 2.2644758224487305\n",
      "Iteration 144000 loss: 2.2519376277923584\n",
      "Iteration 144500 loss: 2.0701732635498047\n",
      "Iteration 145000 loss: 2.0675227642059326\n",
      "Iteration 145500 loss: 2.1666107177734375\n",
      "Iteration 146000 loss: 2.3777267932891846\n",
      "Iteration 146500 loss: 2.0939455032348633\n",
      "Iteration 147000 loss: 2.162451982498169\n",
      "Iteration 147500 loss: 2.160923719406128\n",
      "Iteration 148000 loss: 2.1054863929748535\n",
      "Iteration 148500 loss: 1.969830870628357\n",
      "Iteration 149000 loss: 2.2575714588165283\n",
      "Iteration 149500 loss: 2.0983519554138184\n",
      "Iteration 150000 loss: 2.169172525405884\n",
      "Iteration 150500 loss: 2.028376340866089\n",
      "Iteration 151000 loss: 2.1779656410217285\n",
      "Iteration 151500 loss: 2.212742328643799\n",
      "Iteration 152000 loss: 1.9218353033065796\n",
      "Iteration 152500 loss: 2.028245449066162\n",
      "Iteration 153000 loss: 2.1713433265686035\n",
      "Iteration 153500 loss: 2.300654649734497\n",
      "Iteration 154000 loss: 2.088925838470459\n",
      "Iteration 154500 loss: 2.2095112800598145\n",
      "Iteration 155000 loss: 2.297197103500366\n",
      "Iteration 155500 loss: 2.0358331203460693\n",
      "Iteration 156000 loss: 2.1435019969940186\n",
      "Iteration 156500 loss: 2.053814649581909\n",
      "Iteration 157000 loss: 2.150230646133423\n",
      "Iteration 157500 loss: 2.068887710571289\n",
      "Iteration 158000 loss: 2.0439839363098145\n",
      "Iteration 158500 loss: 1.9771924018859863\n",
      "Iteration 159000 loss: 2.219975471496582\n",
      "Iteration 159500 loss: 2.320910930633545\n",
      "Iteration 160000 loss: 2.208954095840454\n",
      "Iteration 160500 loss: 2.2862708568573\n",
      "Iteration 161000 loss: 2.0611965656280518\n",
      "Iteration 161500 loss: 2.149893283843994\n",
      "Iteration 162000 loss: 2.4279351234436035\n",
      "Iteration 162500 loss: 2.1806297302246094\n",
      "Iteration 163000 loss: 2.143240451812744\n",
      "Iteration 163500 loss: 1.9945892095565796\n",
      "Iteration 164000 loss: 2.2819736003875732\n",
      "Iteration 164500 loss: 2.005053758621216\n",
      "Iteration 165000 loss: 2.205047130584717\n",
      "Iteration 165500 loss: 2.225414514541626\n",
      "Iteration 166000 loss: 2.2775797843933105\n",
      "Iteration 166500 loss: 1.942983627319336\n",
      "Iteration 167000 loss: 2.065274953842163\n",
      "Iteration 167500 loss: 2.220710515975952\n",
      "Iteration 168000 loss: 2.171377182006836\n",
      "Iteration 168500 loss: 2.0607399940490723\n",
      "Iteration 169000 loss: 2.2340073585510254\n",
      "Iteration 169500 loss: 2.3037784099578857\n",
      "Iteration 170000 loss: 2.097363233566284\n",
      "Iteration 170500 loss: 2.1323788166046143\n",
      "Iteration 171000 loss: 2.0576553344726562\n",
      "Iteration 171500 loss: 2.1472854614257812\n",
      "Iteration 172000 loss: 2.186274290084839\n",
      "Iteration 172500 loss: 2.253378391265869\n",
      "Iteration 173000 loss: 2.1513547897338867\n",
      "Iteration 173500 loss: 2.0691254138946533\n",
      "Iteration 174000 loss: 2.2948763370513916\n",
      "Iteration 174500 loss: 1.8845528364181519\n",
      "Iteration 175000 loss: 2.1576919555664062\n",
      "Iteration 175500 loss: 2.246805429458618\n",
      "Iteration 176000 loss: 2.3361830711364746\n",
      "Iteration 176500 loss: 2.1999435424804688\n",
      "Iteration 177000 loss: 2.0580127239227295\n",
      "Iteration 177500 loss: 2.187177896499634\n",
      "Iteration 178000 loss: 1.9294483661651611\n",
      "Iteration 178500 loss: 2.160395622253418\n",
      "Iteration 179000 loss: 2.1650917530059814\n",
      "Iteration 179500 loss: 2.052562952041626\n",
      "Iteration 180000 loss: 1.9259130954742432\n",
      "Iteration 180500 loss: 2.1713435649871826\n",
      "Iteration 181000 loss: 2.316922903060913\n",
      "Iteration 181500 loss: 2.073237657546997\n",
      "Iteration 182000 loss: 2.254499673843384\n",
      "Iteration 182500 loss: 2.302839756011963\n",
      "Iteration 183000 loss: 2.1298704147338867\n",
      "Iteration 183500 loss: 2.1358280181884766\n",
      "Iteration 184000 loss: 2.37931227684021\n",
      "Iteration 184500 loss: 2.065093755722046\n",
      "Iteration 185000 loss: 2.335987091064453\n",
      "Iteration 185500 loss: 2.0608410835266113\n",
      "Iteration 186000 loss: 2.2262282371520996\n",
      "Iteration 186500 loss: 2.1032447814941406\n",
      "Iteration 187000 loss: 2.1337499618530273\n",
      "Iteration 187500 loss: 2.0998260974884033\n",
      "Iteration 188000 loss: 2.1148014068603516\n",
      "Iteration 188500 loss: 2.140376091003418\n",
      "Iteration 189000 loss: 2.161487579345703\n",
      "Iteration 189500 loss: 2.184448003768921\n",
      "Iteration 190000 loss: 2.1526310443878174\n",
      "Iteration 190500 loss: 2.186669111251831\n",
      "Iteration 191000 loss: 1.9351372718811035\n",
      "Iteration 191500 loss: 2.2723124027252197\n",
      "Iteration 192000 loss: 2.0756001472473145\n",
      "Iteration 192500 loss: 2.1779274940490723\n",
      "Iteration 193000 loss: 2.1393353939056396\n",
      "Iteration 193500 loss: 2.0890250205993652\n",
      "Iteration 194000 loss: 1.9949159622192383\n",
      "Iteration 194500 loss: 2.0081515312194824\n",
      "Iteration 195000 loss: 1.9645252227783203\n",
      "Iteration 195500 loss: 2.1554055213928223\n",
      "Iteration 196000 loss: 2.1886961460113525\n",
      "Iteration 196500 loss: 2.3625545501708984\n",
      "Iteration 197000 loss: 2.273028612136841\n",
      "Iteration 197500 loss: 2.257282018661499\n",
      "Iteration 198000 loss: 2.266911029815674\n",
      "Iteration 198500 loss: 2.107286214828491\n",
      "Iteration 199000 loss: 2.2129135131835938\n",
      "Iteration 199500 loss: 2.2542240619659424\n",
      "Iteration 200000 loss: 2.209364175796509\n",
      "Iteration 200500 loss: 2.100525140762329\n",
      "Iteration 201000 loss: 2.1630234718322754\n",
      "Iteration 201500 loss: 2.0104522705078125\n",
      "Iteration 202000 loss: 2.0870325565338135\n",
      "Iteration 202500 loss: 2.0763416290283203\n",
      "Iteration 203000 loss: 1.9766464233398438\n",
      "Iteration 203500 loss: 2.1006715297698975\n",
      "Iteration 204000 loss: 2.2053258419036865\n",
      "Iteration 204500 loss: 2.1306519508361816\n",
      "Iteration 205000 loss: 2.0527679920196533\n",
      "Iteration 205500 loss: 2.2562358379364014\n",
      "Iteration 206000 loss: 2.1579201221466064\n",
      "Iteration 206500 loss: 2.151311159133911\n",
      "Iteration 207000 loss: 2.368647336959839\n",
      "Iteration 207500 loss: 2.060140371322632\n",
      "Iteration 208000 loss: 2.2356505393981934\n",
      "Iteration 208500 loss: 2.152808666229248\n",
      "Iteration 209000 loss: 2.09952449798584\n",
      "Iteration 209500 loss: 2.1345090866088867\n",
      "Iteration 210000 loss: 2.224167585372925\n",
      "Iteration 210500 loss: 2.190847396850586\n",
      "Iteration 211000 loss: 2.0480799674987793\n",
      "Iteration 211500 loss: 2.1154096126556396\n",
      "Iteration 212000 loss: 2.115194797515869\n",
      "Iteration 212500 loss: 2.0702261924743652\n",
      "Iteration 213000 loss: 2.259993553161621\n",
      "Iteration 213500 loss: 1.9967013597488403\n",
      "Iteration 214000 loss: 2.1393816471099854\n",
      "Iteration 214500 loss: 2.537489652633667\n",
      "Iteration 215000 loss: 2.222583293914795\n",
      "Iteration 215500 loss: 2.347355604171753\n",
      "Iteration 216000 loss: 2.243558883666992\n",
      "Iteration 216500 loss: 2.0630109310150146\n",
      "Iteration 217000 loss: 2.1650314331054688\n",
      "Iteration 217500 loss: 2.059767723083496\n",
      "Iteration 218000 loss: 2.2324554920196533\n",
      "Iteration 218500 loss: 2.1669533252716064\n",
      "Iteration 219000 loss: 2.107417583465576\n",
      "Iteration 219500 loss: 2.110403060913086\n",
      "Iteration 220000 loss: 1.9219497442245483\n",
      "Iteration 220500 loss: 2.103492021560669\n",
      "Iteration 221000 loss: 2.181593418121338\n",
      "Iteration 221500 loss: 2.105658769607544\n",
      "Iteration 222000 loss: 2.2116825580596924\n",
      "Iteration 222500 loss: 2.2583141326904297\n",
      "Iteration 223000 loss: 2.1079251766204834\n",
      "Iteration 223500 loss: 2.0968570709228516\n",
      "Iteration 224000 loss: 2.0045313835144043\n",
      "Iteration 224500 loss: 2.1686134338378906\n",
      "Iteration 225000 loss: 1.9287930727005005\n",
      "Iteration 225500 loss: 2.0686614513397217\n",
      "Iteration 226000 loss: 2.1355366706848145\n",
      "Iteration 226500 loss: 2.1366233825683594\n",
      "Iteration 227000 loss: 2.06130313873291\n",
      "Iteration 227500 loss: 2.3343346118927\n",
      "Iteration 228000 loss: 2.1862967014312744\n",
      "Iteration 228500 loss: 2.0846786499023438\n",
      "Iteration 229000 loss: 2.1633081436157227\n",
      "Iteration 229500 loss: 2.154271364212036\n",
      "Iteration 230000 loss: 2.1375749111175537\n",
      "Iteration 230500 loss: 2.082512617111206\n",
      "Iteration 231000 loss: 2.0528647899627686\n",
      "Iteration 231500 loss: 2.0169920921325684\n",
      "Iteration 232000 loss: 2.0731406211853027\n",
      "Iteration 232500 loss: 2.1815967559814453\n",
      "Iteration 233000 loss: 2.1960878372192383\n",
      "Iteration 233500 loss: 1.9793457984924316\n",
      "Iteration 234000 loss: 1.9549709558486938\n",
      "Iteration 234500 loss: 2.2818217277526855\n",
      "Iteration 235000 loss: 2.2025158405303955\n",
      "Iteration 235500 loss: 2.0238215923309326\n",
      "Iteration 236000 loss: 2.2033305168151855\n",
      "Iteration 236500 loss: 2.00718092918396\n",
      "Iteration 237000 loss: 2.1323297023773193\n",
      "Iteration 237500 loss: 2.117457628250122\n",
      "Iteration 238000 loss: 2.07936429977417\n",
      "Iteration 238500 loss: 2.0124318599700928\n",
      "Iteration 239000 loss: 2.0684726238250732\n",
      "Iteration 239500 loss: 2.2340400218963623\n",
      "Iteration 240000 loss: 1.9952150583267212\n",
      "Iteration 240500 loss: 2.254016399383545\n",
      "Iteration 241000 loss: 2.218045234680176\n",
      "Iteration 241500 loss: 2.106915235519409\n",
      "Iteration 242000 loss: 1.946947693824768\n",
      "Iteration 242500 loss: 2.23935604095459\n",
      "Iteration 243000 loss: 1.945277214050293\n",
      "Iteration 243500 loss: 1.8773317337036133\n",
      "Iteration 244000 loss: 2.3324222564697266\n",
      "Iteration 244500 loss: 1.9969173669815063\n",
      "Iteration 245000 loss: 2.0832338333129883\n",
      "Iteration 245500 loss: 2.3095452785491943\n",
      "Iteration 246000 loss: 2.1340291500091553\n",
      "Iteration 246500 loss: 2.2325127124786377\n",
      "Iteration 247000 loss: 1.958138108253479\n",
      "Iteration 247500 loss: 1.9149184226989746\n",
      "Iteration 248000 loss: 2.2298409938812256\n",
      "Iteration 248500 loss: 2.008747100830078\n",
      "Iteration 249000 loss: 2.0101611614227295\n",
      "Iteration 249500 loss: 2.105668544769287\n",
      "Iteration 250000 loss: 2.0828287601470947\n",
      "Iteration 250500 loss: 2.094987154006958\n",
      "Iteration 251000 loss: 2.158484935760498\n",
      "Iteration 251500 loss: 2.0500545501708984\n",
      "Iteration 252000 loss: 2.0993545055389404\n",
      "Iteration 252500 loss: 2.0925066471099854\n",
      "Iteration 253000 loss: 2.005927562713623\n",
      "Iteration 253500 loss: 2.0572121143341064\n",
      "Iteration 254000 loss: 2.071420907974243\n",
      "Iteration 254500 loss: 2.045822858810425\n",
      "Iteration 255000 loss: 2.1560254096984863\n",
      "Iteration 255500 loss: 1.9505770206451416\n",
      "Iteration 256000 loss: 2.1092634201049805\n",
      "Iteration 256500 loss: 2.225377082824707\n",
      "Iteration 257000 loss: 1.955283284187317\n",
      "Iteration 257500 loss: 2.11645245552063\n",
      "Iteration 258000 loss: 1.983045220375061\n",
      "Iteration 258500 loss: 2.189059019088745\n",
      "Iteration 259000 loss: 2.316774606704712\n",
      "Iteration 259500 loss: 2.080925226211548\n",
      "Iteration 260000 loss: 2.1383979320526123\n",
      "Iteration 260500 loss: 2.127979278564453\n",
      "Iteration 261000 loss: 2.138810396194458\n",
      "Iteration 261500 loss: 2.381382703781128\n",
      "Iteration 262000 loss: 2.1919572353363037\n",
      "Iteration 262500 loss: 2.068915605545044\n",
      "Iteration 263000 loss: 2.237429618835449\n",
      "Iteration 263500 loss: 2.044379949569702\n",
      "Iteration 264000 loss: 2.0681607723236084\n",
      "Iteration 264500 loss: 2.1345667839050293\n",
      "Iteration 265000 loss: 2.221015214920044\n",
      "Iteration 265500 loss: 1.8638067245483398\n",
      "Iteration 266000 loss: 2.2361299991607666\n",
      "Iteration 266500 loss: 2.2363882064819336\n",
      "Iteration 267000 loss: 2.126781940460205\n",
      "Iteration 267500 loss: 2.0764029026031494\n",
      "Iteration 268000 loss: 2.293544292449951\n",
      "Iteration 268500 loss: 2.23130202293396\n",
      "Iteration 269000 loss: 2.2581663131713867\n",
      "Iteration 269500 loss: 1.9594768285751343\n",
      "Iteration 270000 loss: 2.0362095832824707\n",
      "Iteration 270500 loss: 2.036972999572754\n",
      "Iteration 271000 loss: 2.1108245849609375\n",
      "Iteration 271500 loss: 2.1947686672210693\n",
      "Iteration 272000 loss: 2.1225054264068604\n",
      "Iteration 272500 loss: 1.9898922443389893\n",
      "Iteration 273000 loss: 2.062192440032959\n",
      "Iteration 273500 loss: 2.2322840690612793\n",
      "Iteration 274000 loss: 1.9920436143875122\n",
      "Iteration 274500 loss: 2.2274208068847656\n",
      "Iteration 275000 loss: 2.1775999069213867\n",
      "Iteration 275500 loss: 2.031067371368408\n",
      "Iteration 276000 loss: 2.12015438079834\n",
      "Iteration 276500 loss: 2.060481548309326\n",
      "Iteration 277000 loss: 1.9058129787445068\n",
      "Iteration 277500 loss: 2.0971429347991943\n",
      "Iteration 278000 loss: 2.1302614212036133\n",
      "Iteration 278500 loss: 2.1194775104522705\n",
      "Iteration 279000 loss: 2.074612617492676\n",
      "Iteration 279500 loss: 2.1038260459899902\n",
      "Iteration 280000 loss: 2.1954355239868164\n",
      "Iteration 280500 loss: 2.129286289215088\n",
      "Iteration 281000 loss: 2.067018508911133\n",
      "Iteration 281500 loss: 2.3365700244903564\n",
      "Iteration 282000 loss: 1.9450198411941528\n",
      "Iteration 282500 loss: 2.115884780883789\n",
      "Iteration 283000 loss: 2.1476359367370605\n",
      "Iteration 283500 loss: 2.2141318321228027\n",
      "Iteration 284000 loss: 1.9536504745483398\n",
      "Iteration 284500 loss: 1.9415574073791504\n",
      "Iteration 285000 loss: 1.9512373208999634\n",
      "Iteration 285500 loss: 2.138531446456909\n",
      "Iteration 286000 loss: 2.1958608627319336\n",
      "Iteration 286500 loss: 2.2554116249084473\n",
      "Iteration 287000 loss: 2.268617868423462\n",
      "Iteration 287500 loss: 1.9707450866699219\n",
      "Iteration 288000 loss: 2.08307147026062\n",
      "Iteration 288500 loss: 2.00809383392334\n",
      "Iteration 289000 loss: 2.0656306743621826\n",
      "Iteration 289500 loss: 1.8638277053833008\n",
      "Iteration 290000 loss: 2.030254602432251\n",
      "Iteration 290500 loss: 2.08402156829834\n",
      "Iteration 291000 loss: 1.9659465551376343\n",
      "Iteration 291500 loss: 2.039182662963867\n",
      "Iteration 292000 loss: 2.11439847946167\n",
      "Iteration 292500 loss: 2.357861042022705\n",
      "Iteration 293000 loss: 1.8823833465576172\n",
      "Iteration 293500 loss: 2.1960880756378174\n",
      "Iteration 294000 loss: 2.0951099395751953\n",
      "Iteration 294500 loss: 2.218456745147705\n",
      "Iteration 295000 loss: 2.159963846206665\n",
      "Iteration 295500 loss: 1.8492419719696045\n",
      "Iteration 296000 loss: 2.0807552337646484\n",
      "Iteration 296500 loss: 2.056274890899658\n",
      "Iteration 297000 loss: 1.9612882137298584\n",
      "Iteration 297500 loss: 2.1335928440093994\n",
      "Iteration 298000 loss: 2.12247633934021\n",
      "Iteration 298500 loss: 2.068012237548828\n",
      "Iteration 299000 loss: 2.143763303756714\n",
      "Iteration 299500 loss: 2.048414468765259\n"
     ]
    }
   ],
   "source": [
    "emb_size = 10\n",
    "block_size = 3\n",
    "num_chars = len(chars)\n",
    "hidden_layer_size = 200\n",
    "X, Y = build_inputs_and_labels(words, block_size)\n",
    "parameters = init_parameters(num_chars, block_size, emb_size, hidden_layer_size)\n",
    "losses = gradient_descent(X_train, Y_train, parameters, iterations=300000, minibatch_size=128, lr=0.2, lr_decay=0.00002, regularization=0.01, print_every=500)"
   ]
  },
  {
   "cell_type": "code",
   "execution_count": 22,
   "metadata": {},
   "outputs": [
    {
     "data": {
      "text/plain": [
       "[<matplotlib.lines.Line2D at 0x374e181f0>]"
      ]
     },
     "execution_count": 22,
     "metadata": {},
     "output_type": "execute_result"
    },
    {
     "data": {
      "image/png": "[encoded data removed]",
      "text/plain": [
       "<Figure size 640x480 with 1 Axes>"
      ]
     },
     "metadata": {},
     "output_type": "display_data"
    }
   ],
   "source": [
    "plt.plot(torch.tensor(losses).log10())"
   ]
  },
  {
   "attachments": {},
   "cell_type": "markdown",
   "metadata": {},
   "source": [
    "We can see that the train and validation losses are both improvements over our results in lecture:"
   ]
  },
  {
   "cell_type": "code",
   "execution_count": 23,
   "metadata": {},
   "outputs": [],
   "source": [
    "def evaluate(x, y, parameters):\n",
    "    logits = forward(x, parameters)\n",
    "    loss = torch.nn.functional.cross_entropy(logits, y)\n",
    "    return loss.item()"
   ]
  },
  {
   "cell_type": "code",
   "execution_count": 24,
   "metadata": {},
   "outputs": [
    {
     "data": {
      "text/plain": [
       "2.111666679382324"
      ]
     },
     "execution_count": 24,
     "metadata": {},
     "output_type": "execute_result"
    }
   ],
   "source": [
    "evaluate(X_train, Y_train, parameters)"
   ]
  },
  {
   "cell_type": "code",
   "execution_count": 25,
   "metadata": {},
   "outputs": [
    {
     "data": {
      "text/plain": [
       "2.1701574325561523"
      ]
     },
     "execution_count": 25,
     "metadata": {},
     "output_type": "execute_result"
    }
   ],
   "source": [
    "evaluate(X_dev, Y_dev, parameters)"
   ]
  },
  {
   "attachments": {},
   "cell_type": "markdown",
   "metadata": {},
   "source": [
    "Finally, when we try the data on the test set, we acheive a similar result to validation. (If we hadn't we may have accidentally overfit to the validation set via tuning hyperparameters.)"
   ]
  },
  {
   "cell_type": "code",
   "execution_count": 26,
   "metadata": {},
   "outputs": [
    {
     "data": {
      "text/plain": [
       "2.168839693069458"
      ]
     },
     "execution_count": 26,
     "metadata": {},
     "output_type": "execute_result"
    }
   ],
   "source": [
    "evaluate(X_test, Y_test, parameters)"
   ]
  },
  {
   "attachments": {},
   "cell_type": "markdown",
   "metadata": {},
   "source": [
    "We can generate some names with the trained model to verify the model works well:\n",
    "\n",
    "I added some features to the generate function that allows the user to specify a minimum and maximum length!"
   ]
  },
  {
   "cell_type": "code",
   "execution_count": 27,
   "metadata": {},
   "outputs": [],
   "source": [
    "def generate(parameters, block_size, min_chars=3, max_chars=20):\n",
    "    C, W1, b1, W2, b2 = parameters\n",
    "    context = [0] * block_size\n",
    "    out = []\n",
    "    for i in range(max_chars):\n",
    "        logits = forward(torch.tensor([context]), parameters)\n",
    "        probs = torch.nn.functional.softmax(logits, dim=1)\n",
    "        if i < min_chars:\n",
    "            probs[0, 0] = 0\n",
    "        ix = torch.multinomial(probs, 1).item()\n",
    "        if ix == 0:\n",
    "            break\n",
    "        out.append(itos[ix])\n",
    "        context = context[1:] + [ix]\n",
    "\n",
    "    return ''.join(out)"
   ]
  },
  {
   "cell_type": "code",
   "execution_count": 28,
   "metadata": {},
   "outputs": [
    {
     "name": "stdout",
     "output_type": "stream",
     "text": [
      "novann\n",
      "amarksan\n",
      "sten\n",
      "ishar\n",
      "jaycen\n",
      "kiplon\n",
      "angie\n",
      "giyton\n",
      "maritton\n",
      "zajay\n",
      "jzo\n",
      "zavan\n",
      "enio\n",
      "carah\n",
      "nan\n",
      "audy\n",
      "maebriyah\n",
      "nia\n",
      "man\n",
      "joshal\n"
     ]
    }
   ],
   "source": [
    "for i in range(20):\n",
    "    print(generate(parameters, 3))"
   ]
  },
  {
   "attachments": {},
   "cell_type": "markdown",
   "metadata": {},
   "source": [
    "For fun, we can try to generate some really long names:\n"
   ]
  },
  {
   "cell_type": "code",
   "execution_count": 29,
   "metadata": {},
   "outputs": [
    {
     "name": "stdout",
     "output_type": "stream",
     "text": [
      "fiurallinnylenn\n",
      "urmanielayus\n",
      "marionnaheal\n",
      "jaciuluanalind\n",
      "nafedencerem\n",
      "kayannanellissaitana\n",
      "praclynnedhana\n",
      "aknilanonilah\n",
      "aljahmanielle\n",
      "harlettonnah\n",
      "colostlinahna\n",
      "aadhitonterryx\n",
      "yairandreidia\n",
      "caylandrarsen\n",
      "coriannahica\n",
      "abdalyndoneh\n",
      "maxandrousuf\n",
      "baseontavieren\n",
      "breliianellah\n",
      "abdulvynceie\n"
     ]
    }
   ],
   "source": [
    "for i in range(20):\n",
    "    print(generate(parameters, 3, min_chars=12, max_chars=40))"
   ]
  },
  {
   "attachments": {},
   "cell_type": "markdown",
   "metadata": {},
   "source": [
    "### E02: \n",
    "#### *I was not careful with the intialization of the network in this video. (1) What is the loss you'd get if the predicted probabilities at initialization were perfectly uniform? What loss do we achieve? (2) Can you tune the initialization to get a starting loss that is much more similar to (1)?*"
   ]
  },
  {
   "attachments": {},
   "cell_type": "markdown",
   "metadata": {},
   "source": [
    "If the predicted probabilities were perfectly uniform, per the log-likelihood formula the loss would be -log(1/27), given a dataset with 27 characters."
   ]
  },
  {
   "attachments": {},
   "cell_type": "markdown",
   "metadata": {},
   "source": [
    "We can verify that this is the case:"
   ]
  },
  {
   "cell_type": "code",
   "execution_count": 30,
   "metadata": {},
   "outputs": [
    {
     "data": {
      "text/plain": [
       "tensor(20)"
      ]
     },
     "execution_count": 30,
     "metadata": {},
     "output_type": "execute_result"
    }
   ],
   "source": [
    "y_actual = Y_train[0]\n",
    "y_actual"
   ]
  },
  {
   "cell_type": "code",
   "execution_count": 31,
   "metadata": {},
   "outputs": [
    {
     "data": {
      "text/plain": [
       "tensor([0.0370, 0.0370, 0.0370, 0.0370, 0.0370, 0.0370, 0.0370, 0.0370, 0.0370,\n",
       "        0.0370, 0.0370, 0.0370, 0.0370, 0.0370, 0.0370, 0.0370, 0.0370, 0.0370,\n",
       "        0.0370, 0.0370, 0.0370, 0.0370, 0.0370, 0.0370, 0.0370, 0.0370, 0.0370])"
      ]
     },
     "execution_count": 31,
     "metadata": {},
     "output_type": "execute_result"
    }
   ],
   "source": [
    "logits = torch.ones(27).divide(27)\n",
    "logits"
   ]
  },
  {
   "attachments": {},
   "cell_type": "markdown",
   "metadata": {},
   "source": [
    "We'd also apply a softmax activation, but it results in the exact same logits if the logits are all the same."
   ]
  },
  {
   "cell_type": "code",
   "execution_count": 32,
   "metadata": {},
   "outputs": [
    {
     "data": {
      "text/plain": [
       "tensor([0.0370, 0.0370, 0.0370, 0.0370, 0.0370, 0.0370, 0.0370, 0.0370, 0.0370,\n",
       "        0.0370, 0.0370, 0.0370, 0.0370, 0.0370, 0.0370, 0.0370, 0.0370, 0.0370,\n",
       "        0.0370, 0.0370, 0.0370, 0.0370, 0.0370, 0.0370, 0.0370, 0.0370, 0.0370])"
      ]
     },
     "execution_count": 32,
     "metadata": {},
     "output_type": "execute_result"
    }
   ],
   "source": [
    "torch.nn.functional.softmax(logits, dim=0)"
   ]
  },
  {
   "attachments": {},
   "cell_type": "markdown",
   "metadata": {},
   "source": [
    "So it really doesn't matter what value the weights hold. However, the tanh activation is more informative when values are close to zero, so we should strive to keep the weights closer to zero (rather than say, initialize them all to 10000000)."
   ]
  },
  {
   "cell_type": "code",
   "execution_count": 33,
   "metadata": {},
   "outputs": [
    {
     "data": {
      "text/plain": [
       "tensor(3.2958)"
      ]
     },
     "execution_count": 33,
     "metadata": {},
     "output_type": "execute_result"
    }
   ],
   "source": [
    "torch.nn.functional.cross_entropy(logits, y_actual)"
   ]
  },
  {
   "cell_type": "code",
   "execution_count": 34,
   "metadata": {},
   "outputs": [
    {
     "data": {
      "text/plain": [
       "3.295836866004329"
      ]
     },
     "execution_count": 34,
     "metadata": {},
     "output_type": "execute_result"
    }
   ],
   "source": [
    "import math\n",
    "-math.log(1/27)"
   ]
  },
  {
   "attachments": {},
   "cell_type": "markdown",
   "metadata": {},
   "source": [
    "Our starting loss is much higher (~23!). To acheive a similar loss, we could make every weight and bias uniform across layers throughout the network. Before, we sampled weights between 0 and 1. To acheive a starting loss of -log(1/27), we can initialize them all to the same value, 0.5 sounds appropriate given that it's in the center of our previous distribution.\n"
   ]
  },
  {
   "cell_type": "code",
   "execution_count": 35,
   "metadata": {},
   "outputs": [],
   "source": [
    "def init_parameters(num_chars, block_size, embedding_size, hidden_layer_size):\n",
    "    C = torch.full((num_chars, embedding_size), 0.5, requires_grad=True)\n",
    "    W1 = torch.full((embedding_size * block_size, hidden_layer_size), 0.5, requires_grad=True)\n",
    "    b1 = torch.full((hidden_layer_size,), 0.5, requires_grad=True)\n",
    "    W2 = torch.full((hidden_layer_size, num_chars), 0.5, requires_grad=True)\n",
    "    b2 = torch.full((num_chars,), 0.5, requires_grad=True)\n",
    "\n",
    "    return [C, W1, b1, W2, b2]"
   ]
  },
  {
   "cell_type": "code",
   "execution_count": 36,
   "metadata": {},
   "outputs": [],
   "source": [
    "new_parameters = init_parameters(num_chars, block_size, emb_size, hidden_layer_size)"
   ]
  },
  {
   "cell_type": "code",
   "execution_count": 37,
   "metadata": {},
   "outputs": [
    {
     "data": {
      "text/plain": [
       "tensor([[0.5000, 0.5000, 0.5000, 0.5000, 0.5000, 0.5000, 0.5000, 0.5000, 0.5000,\n",
       "         0.5000],\n",
       "        [0.5000, 0.5000, 0.5000, 0.5000, 0.5000, 0.5000, 0.5000, 0.5000, 0.5000,\n",
       "         0.5000],\n",
       "        [0.5000, 0.5000, 0.5000, 0.5000, 0.5000, 0.5000, 0.5000, 0.5000, 0.5000,\n",
       "         0.5000]], grad_fn=<SliceBackward0>)"
      ]
     },
     "execution_count": 37,
     "metadata": {},
     "output_type": "execute_result"
    }
   ],
   "source": [
    "new_parameters[0][:3]"
   ]
  },
  {
   "attachments": {},
   "cell_type": "markdown",
   "metadata": {},
   "source": [
    "And we can verify that we acheive the desired starting loss:"
   ]
  },
  {
   "cell_type": "code",
   "execution_count": 38,
   "metadata": {},
   "outputs": [
    {
     "data": {
      "text/plain": [
       "3.295837163925171"
      ]
     },
     "execution_count": 38,
     "metadata": {},
     "output_type": "execute_result"
    }
   ],
   "source": [
    "evaluate(X_train, Y_train, new_parameters)"
   ]
  },
  {
   "attachments": {},
   "cell_type": "markdown",
   "metadata": {},
   "source": [
    "### E03: \n",
    "#### *Read the Bengio et al 2003 paper (link above), implement and try any idea from the paper. Did it work?*"
   ]
  },
  {
   "attachments": {},
   "cell_type": "markdown",
   "metadata": {},
   "source": [
    "One idea we could try from the paper is mixing n-gram (in this case, trigram) probabilities with the neural network probabilities to get a final probability, s.t. with each probability having a weight of 0.5. In their results, the network consistently performed better with this technique. The authors suggested that this suggests that the trigram and neural network models tend to make errors in different places.\n",
    "\n",
    "To acheive this, we can first instantiate and populate a trigram matrix. It's probably prudent just to compute this on the training dataset rather than the entire dataset."
   ]
  },
  {
   "cell_type": "code",
   "execution_count": 39,
   "metadata": {},
   "outputs": [],
   "source": [
    "trigrams = torch.zeros((27 * 27), 27)\n",
    "\n",
    "for word in train_words:\n",
    "    ids = ([0] * (block_size - 1)) + [stoi[c] for c in word] + [0]\n",
    "    for i in range(len(ids) - 2):\n",
    "        trigrams[(ids[i] * 27) + ids[i + 1], ids[i + 2]] += 1\n",
    "\n",
    "trigrams = (trigrams / trigrams.sum(dim=1, keepdim=True)).nan_to_num(nan=0.0)"
   ]
  },
  {
   "attachments": {},
   "cell_type": "markdown",
   "metadata": {},
   "source": [
    "Next, we can update the evaluation function to average the network output and the trigram output."
   ]
  },
  {
   "cell_type": "code",
   "execution_count": 45,
   "metadata": {},
   "outputs": [],
   "source": [
    "def evaluate(x, y, parameters, trigrams):\n",
    "    logits = forward(x, parameters) \n",
    "    preds = (torch.softmax(logits, dim=1) * 0.5) + (torch.softmax(trigrams[x[:, 1] * 27 + x[:, 2]], dim=1) * 0.5)\n",
    "    loss = -preds[torch.arange(y.shape[0]), y].log().mean()\n",
    "    \n",
    "    return loss.item()"
   ]
  },
  {
   "cell_type": "code",
   "execution_count": 46,
   "metadata": {},
   "outputs": [
    {
     "data": {
      "text/plain": [
       "2.363494396209717"
      ]
     },
     "execution_count": 46,
     "metadata": {},
     "output_type": "execute_result"
    }
   ],
   "source": [
    "evaluate(X_train, Y_train, parameters, trigrams)"
   ]
  },
  {
   "cell_type": "code",
   "execution_count": 47,
   "metadata": {},
   "outputs": [
    {
     "data": {
      "text/plain": [
       "2.3897221088409424"
      ]
     },
     "execution_count": 47,
     "metadata": {},
     "output_type": "execute_result"
    }
   ],
   "source": [
    "evaluate(X_dev, Y_dev, parameters, trigrams)"
   ]
  },
  {
   "attachments": {},
   "cell_type": "markdown",
   "metadata": {},
   "source": [
    "This technique does not improve our model's performance but does help the model generalize a bit better, as the train and dev losses are much closer. Perhaps this technique tends to work better on word-level models like in the paper rather than character-level models -- perhaps because the embeddings needed to properly represent a letter are much simpler than those for a word, meaning that ensambling our neural network with the trigram model does not compensate for any of the neural network's error."
   ]
  },
  {
   "attachments": {},
   "cell_type": "markdown",
   "metadata": {},
   "source": [
    "We could also try introducing the trigram mixing into our training loop, but I am skeptical:"
   ]
  },
  {
   "cell_type": "code",
   "execution_count": 48,
   "metadata": {},
   "outputs": [],
   "source": [
    "def optimize_step(x, y, parameters, trigrams, lr=0.1):\n",
    "    logits = forward(x, parameters)\n",
    "    preds = (torch.softmax(logits, dim=1) * 0.5) + (torch.softmax(trigrams[x[:, 1] * 27 + x[:, 2]], dim=1) * 0.5)\n",
    "    loss = -preds[torch.arange(y.shape[0]), y].log().mean()\n",
    "    loss.backward()\n",
    "    for p in parameters:\n",
    "        p.data -= p.grad * 0.1\n",
    "        p.grad = None\n",
    "    return loss.item()\n",
    "\n",
    "def gradient_descent(x, y, parameters, trigrams, iterations=100, minibatch_size=100, lr=0.1, lr_decay=0.001, regularization=0.01, print_every=10):\n",
    "    losses = []\n",
    "    for i in range(iterations):\n",
    "        batch_indices = torch.randint(0, x.shape[0], (minibatch_size,))\n",
    "        xi = x[batch_indices]\n",
    "        yi = y[batch_indices]\n",
    "        reg_term = torch.sum(torch.stack([(p**2).sum() for p in parameters])).divide(torch.sum(torch.tensor([p.numel() for p in parameters]))) * regularization\n",
    "        loss = optimize_step(xi, yi, parameters, trigrams, lr) + reg_term\n",
    "        losses.append(loss)\n",
    "        if i % print_every == 0:\n",
    "            print(f'Iteration {i} loss: {loss}')\n",
    "        lr = lr * (1 - lr_decay)\n",
    "    return losses\n",
    "    "
   ]
  },
  {
   "cell_type": "code",
   "execution_count": 49,
   "metadata": {},
   "outputs": [
    {
     "name": "stdout",
     "output_type": "stream",
     "text": [
      "Iteration 0 loss: 3.2184016704559326\n",
      "Iteration 500 loss: 2.877875328063965\n",
      "Iteration 1000 loss: 2.956172466278076\n",
      "Iteration 1500 loss: 2.78188157081604\n",
      "Iteration 2000 loss: 2.8619027137756348\n",
      "Iteration 2500 loss: 2.9384779930114746\n",
      "Iteration 3000 loss: 2.9826409816741943\n",
      "Iteration 3500 loss: 2.864387273788452\n",
      "Iteration 4000 loss: 3.1087021827697754\n",
      "Iteration 4500 loss: 2.7980666160583496\n",
      "Iteration 5000 loss: 2.8054986000061035\n",
      "Iteration 5500 loss: 2.9512250423431396\n",
      "Iteration 6000 loss: 2.847517251968384\n",
      "Iteration 6500 loss: 2.872109889984131\n",
      "Iteration 7000 loss: 3.022531747817993\n",
      "Iteration 7500 loss: 2.933150291442871\n",
      "Iteration 8000 loss: 2.857933282852173\n",
      "Iteration 8500 loss: 2.795549154281616\n",
      "Iteration 9000 loss: 2.9603750705718994\n",
      "Iteration 9500 loss: 2.9267566204071045\n",
      "Iteration 10000 loss: 2.8576321601867676\n",
      "Iteration 10500 loss: 2.9645564556121826\n",
      "Iteration 11000 loss: 2.9305906295776367\n",
      "Iteration 11500 loss: 2.934227228164673\n",
      "Iteration 12000 loss: 2.982835292816162\n",
      "Iteration 12500 loss: 2.9476053714752197\n",
      "Iteration 13000 loss: 2.994748830795288\n",
      "Iteration 13500 loss: 2.9265904426574707\n",
      "Iteration 14000 loss: 2.8131308555603027\n",
      "Iteration 14500 loss: 2.89304518699646\n"
     ]
    },
    {
     "ename": "KeyboardInterrupt",
     "evalue": "",
     "output_type": "error",
     "traceback": [
      "\u001b[0;31m---------------------------------------------------------------------------\u001b[0m",
      "\u001b[0;31mKeyboardInterrupt\u001b[0m                         Traceback (most recent call last)",
      "Cell \u001b[0;32mIn[49], line 2\u001b[0m\n\u001b[1;32m      1\u001b[0m new_parameters \u001b[39m=\u001b[39m init_parameters(num_chars, block_size, emb_size, hidden_layer_size)\n\u001b[0;32m----> 2\u001b[0m losses \u001b[39m=\u001b[39m gradient_descent(X_train, Y_train, new_parameters, trigrams, iterations\u001b[39m=\u001b[39;49m\u001b[39m300000\u001b[39;49m, minibatch_size\u001b[39m=\u001b[39;49m\u001b[39m128\u001b[39;49m, lr\u001b[39m=\u001b[39;49m\u001b[39m0.2\u001b[39;49m, lr_decay\u001b[39m=\u001b[39;49m\u001b[39m0.00002\u001b[39;49m, regularization\u001b[39m=\u001b[39;49m\u001b[39m0.01\u001b[39;49m, print_every\u001b[39m=\u001b[39;49m\u001b[39m500\u001b[39;49m)\n",
      "Cell \u001b[0;32mIn[48], line 18\u001b[0m, in \u001b[0;36mgradient_descent\u001b[0;34m(x, y, parameters, trigrams, iterations, minibatch_size, lr, lr_decay, regularization, print_every)\u001b[0m\n\u001b[1;32m     16\u001b[0m yi \u001b[39m=\u001b[39m y[batch_indices]\n\u001b[1;32m     17\u001b[0m reg_term \u001b[39m=\u001b[39m torch\u001b[39m.\u001b[39msum(torch\u001b[39m.\u001b[39mstack([(p\u001b[39m*\u001b[39m\u001b[39m*\u001b[39m\u001b[39m2\u001b[39m)\u001b[39m.\u001b[39msum() \u001b[39mfor\u001b[39;00m p \u001b[39min\u001b[39;00m parameters]))\u001b[39m.\u001b[39mdivide(torch\u001b[39m.\u001b[39msum(torch\u001b[39m.\u001b[39mtensor([p\u001b[39m.\u001b[39mnumel() \u001b[39mfor\u001b[39;00m p \u001b[39min\u001b[39;00m parameters]))) \u001b[39m*\u001b[39m regularization\n\u001b[0;32m---> 18\u001b[0m loss \u001b[39m=\u001b[39m optimize_step(xi, yi, parameters, trigrams, lr) \u001b[39m+\u001b[39m reg_term\n\u001b[1;32m     19\u001b[0m losses\u001b[39m.\u001b[39mappend(loss)\n\u001b[1;32m     20\u001b[0m \u001b[39mif\u001b[39;00m i \u001b[39m%\u001b[39m print_every \u001b[39m==\u001b[39m \u001b[39m0\u001b[39m:\n",
      "Cell \u001b[0;32mIn[48], line 2\u001b[0m, in \u001b[0;36moptimize_step\u001b[0;34m(x, y, parameters, trigrams, lr)\u001b[0m\n\u001b[1;32m      1\u001b[0m \u001b[39mdef\u001b[39;00m \u001b[39moptimize_step\u001b[39m(x, y, parameters, trigrams, lr\u001b[39m=\u001b[39m\u001b[39m0.1\u001b[39m):\n\u001b[0;32m----> 2\u001b[0m     logits \u001b[39m=\u001b[39m forward(x, parameters)\n\u001b[1;32m      3\u001b[0m     preds \u001b[39m=\u001b[39m (torch\u001b[39m.\u001b[39msoftmax(logits, dim\u001b[39m=\u001b[39m\u001b[39m1\u001b[39m) \u001b[39m*\u001b[39m \u001b[39m0.5\u001b[39m) \u001b[39m+\u001b[39m (torch\u001b[39m.\u001b[39msoftmax(trigrams[x[:, \u001b[39m1\u001b[39m] \u001b[39m*\u001b[39m \u001b[39m27\u001b[39m \u001b[39m+\u001b[39m x[:, \u001b[39m2\u001b[39m]], dim\u001b[39m=\u001b[39m\u001b[39m1\u001b[39m) \u001b[39m*\u001b[39m \u001b[39m0.5\u001b[39m)\n\u001b[1;32m      4\u001b[0m     loss \u001b[39m=\u001b[39m \u001b[39m-\u001b[39mpreds[torch\u001b[39m.\u001b[39marange(y\u001b[39m.\u001b[39mshape[\u001b[39m0\u001b[39m]), y]\u001b[39m.\u001b[39mlog()\u001b[39m.\u001b[39mmean()\n",
      "Cell \u001b[0;32mIn[8], line 5\u001b[0m, in \u001b[0;36mforward\u001b[0;34m(x, parameters)\u001b[0m\n\u001b[1;32m      3\u001b[0m emb \u001b[39m=\u001b[39m C[x]\n\u001b[1;32m      4\u001b[0m h \u001b[39m=\u001b[39m (emb\u001b[39m.\u001b[39mview(\u001b[39m-\u001b[39m\u001b[39m1\u001b[39m, emb\u001b[39m.\u001b[39mshape[\u001b[39m1\u001b[39m] \u001b[39m*\u001b[39m emb\u001b[39m.\u001b[39mshape[\u001b[39m2\u001b[39m]) \u001b[39m@\u001b[39m W1) \u001b[39m+\u001b[39m b1\n\u001b[0;32m----> 5\u001b[0m h \u001b[39m=\u001b[39m h\u001b[39m.\u001b[39;49mtanh()\n\u001b[1;32m      6\u001b[0m h \u001b[39m=\u001b[39m (h \u001b[39m@\u001b[39m W2) \u001b[39m+\u001b[39m b2\n\u001b[1;32m      7\u001b[0m \u001b[39mreturn\u001b[39;00m h\n",
      "\u001b[0;31mKeyboardInterrupt\u001b[0m: "
     ]
    }
   ],
   "source": [
    "new_parameters = init_parameters(num_chars, block_size, emb_size, hidden_layer_size)\n",
    "losses = gradient_descent(X_train, Y_train, new_parameters, trigrams, iterations=300000, minibatch_size=128, lr=0.2, lr_decay=0.00002, regularization=0.01, print_every=500)"
   ]
  },
  {
   "attachments": {},
   "cell_type": "markdown",
   "metadata": {},
   "source": [
    "After many iterations with no signs of life, I decided to stop training early."
   ]
  }
 ],
 "metadata": {
  "kernelspec": {
   "display_name": "python3",
   "language": "python",
   "name": "python3"
  },
  "language_info": {
   "codemirror_mode": {
    "name": "ipython",
    "version": 3
   },
   "file_extension": ".py",
   "mimetype": "text/x-python",
   "name": "python",
   "nbconvert_exporter": "python",
   "pygments_lexer": "ipython3",
   "version": "3.8.16"
  },
  "orig_nbformat": 4
 },
 "nbformat": 4,
 "nbformat_minor": 2
}

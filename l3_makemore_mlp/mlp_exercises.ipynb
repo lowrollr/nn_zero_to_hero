{
 "cells": [
  {
   "cell_type": "code",
   "execution_count": 1,
   "metadata": {},
   "outputs": [],
   "source": [
    "import torch\n",
    "import matplotlib.pyplot as plt\n",
    "import random\n"
   ]
  },
  {
   "attachments": {},
   "cell_type": "markdown",
   "metadata": {},
   "source": [
    "First, we load the words dataset and create char to id and id to char mappings. "
   ]
  },
  {
   "cell_type": "code",
   "execution_count": 2,
   "metadata": {},
   "outputs": [],
   "source": [
    "words = open('../l2_makemore/names.txt').read().splitlines()\n",
    "chars = ['.'] + sorted(list(set(''.join(words))))\n",
    "stoi = {c:i for i,c in enumerate(chars)}\n",
    "itos = {i:c for i,c in enumerate(chars)}"
   ]
  },
  {
   "attachments": {},
   "cell_type": "markdown",
   "metadata": {},
   "source": [
    "For this model we will consider the 3 previous characters to predict the next character in a name. As we did in the previous lecture, we can use the '.' character to denote start and end of sequence.\n",
    "\n",
    "We can print a few examples to see that it works:"
   ]
  },
  {
   "cell_type": "code",
   "execution_count": 3,
   "metadata": {},
   "outputs": [
    {
     "name": "stdout",
     "output_type": "stream",
     "text": [
      "... -----> e\n",
      "..e -----> m\n",
      ".em -----> m\n",
      "emm -----> a\n",
      "mma -----> .\n",
      "... -----> o\n",
      "..o -----> l\n",
      ".ol -----> i\n",
      "oli -----> v\n",
      "liv -----> i\n",
      "ivi -----> a\n",
      "via -----> .\n",
      "... -----> a\n",
      "..a -----> v\n",
      ".av -----> a\n",
      "ava -----> .\n",
      "... -----> i\n",
      "..i -----> s\n",
      ".is -----> a\n",
      "isa -----> b\n",
      "sab -----> e\n",
      "abe -----> l\n",
      "bel -----> l\n",
      "ell -----> a\n",
      "lla -----> .\n",
      "... -----> s\n",
      "..s -----> o\n",
      ".so -----> p\n",
      "sop -----> h\n",
      "oph -----> i\n",
      "phi -----> a\n",
      "hia -----> .\n"
     ]
    }
   ],
   "source": [
    "block_size = 3\n",
    "\n",
    "X, Y = [], []\n",
    "\n",
    "for w in words[:5]:\n",
    "    context = [0] * block_size\n",
    "    for c in w + '.':\n",
    "        ix = stoi[c]\n",
    "        X.append(context)\n",
    "        Y.append(ix)\n",
    "        print(''.join(itos[i] for i in context), '----->', itos[ix])\n",
    "        context = context[1:] + [ix]\n",
    "\n",
    "X = torch.tensor(X)\n",
    "Y = torch.tensor(Y)\n"
   ]
  },
  {
   "attachments": {},
   "cell_type": "markdown",
   "metadata": {},
   "source": [
    "Next let's create the embedding vectors. We can first experiment with a smaller size -- I chose 3."
   ]
  },
  {
   "cell_type": "code",
   "execution_count": 4,
   "metadata": {},
   "outputs": [
    {
     "data": {
      "text/plain": [
       "torch.Size([32, 3, 3])"
      ]
     },
     "execution_count": 4,
     "metadata": {},
     "output_type": "execute_result"
    }
   ],
   "source": [
    "C = torch.randn((27, 3), requires_grad=True)\n",
    "emb = C[X]\n",
    "emb.shape"
   ]
  },
  {
   "attachments": {},
   "cell_type": "markdown",
   "metadata": {},
   "source": [
    "The hidden layer will connect the embeddings to a linear layer, we choose a size of 100 neurons. \n",
    "\n",
    "The input size will be the block_size (3) multiplied by the embedding size (also 3) = 9:"
   ]
  },
  {
   "cell_type": "code",
   "execution_count": 5,
   "metadata": {},
   "outputs": [],
   "source": [
    "W1 = torch.randn((9, 100), requires_grad=True)\n",
    "b1 = torch.randn(100, requires_grad=True)"
   ]
  },
  {
   "attachments": {},
   "cell_type": "markdown",
   "metadata": {},
   "source": [
    "In order to feed the embeddings into the hidden layer, we will need to squash the dimensions such that they are of the shape (X, 9) instead of (X, 3, 3) which we can accomplish with the *view* method:"
   ]
  },
  {
   "cell_type": "code",
   "execution_count": 6,
   "metadata": {},
   "outputs": [
    {
     "data": {
      "text/plain": [
       "tensor([[-4.0524, -2.8991, -0.4801,  ..., -3.7221,  5.8062, -4.7162],\n",
       "        [-3.2314, -4.0210,  1.8129,  ..., -2.9598,  3.2823, -5.3950],\n",
       "        [ 0.3004,  3.0419,  0.9281,  ...,  3.4617,  7.6725, -3.5616],\n",
       "        ...,\n",
       "        [-1.5714, -2.8640,  4.8486,  ...,  3.9265,  5.8829,  3.0628],\n",
       "        [ 2.0637,  2.6813, -1.5872,  ...,  8.1014,  3.7056, -2.3246],\n",
       "        [-5.3088, -1.4802, -3.5599,  ..., -6.9162, -0.5940, -9.6791]],\n",
       "       grad_fn=<AddBackward0>)"
      ]
     },
     "execution_count": 6,
     "metadata": {},
     "output_type": "execute_result"
    }
   ],
   "source": [
    "(emb.view(-1, 9) @ W1) + b1"
   ]
  },
  {
   "attachments": {},
   "cell_type": "markdown",
   "metadata": {},
   "source": [
    "Finally, the output layer will map the 100 activations from the hidden layer to 27 activations that we will use to represent the probability distribution for each of the 27 possible characters.\n",
    "\n",
    "In total, the parameters in our network include:\n",
    " * embedding weights (C)\n",
    " * hidden layer weights (W1)\n",
    " * hidden layer biases (b1)\n",
    " * output layer weights (W2)\n",
    " * output layer biases (b2)"
   ]
  },
  {
   "cell_type": "code",
   "execution_count": 7,
   "metadata": {},
   "outputs": [],
   "source": [
    "W2 = torch.randn((100, 27), requires_grad=True)\n",
    "b2 = torch.randn(27, requires_grad=True)\n",
    "\n",
    "parameters = [C, W1, b1, W2, b2]"
   ]
  },
  {
   "attachments": {},
   "cell_type": "markdown",
   "metadata": {},
   "source": [
    "We can write a forward propogation function to propogate data through the network. Note that we do not apply an activation to the output layer yet (because we are going to use Cross Entropy Loss! which assumes the values are still logits)."
   ]
  },
  {
   "cell_type": "code",
   "execution_count": 8,
   "metadata": {},
   "outputs": [],
   "source": [
    "def forward(x, parameters):\n",
    "    C, W1, b1, W2, b2 = parameters\n",
    "    emb = C[x]\n",
    "    h = (emb.view(-1, emb.shape[1] * emb.shape[2]) @ W1) + b1\n",
    "    h = h.tanh()\n",
    "    h = (h @ W2) + b2\n",
    "    return h # returns logits"
   ]
  },
  {
   "cell_type": "code",
   "execution_count": 9,
   "metadata": {},
   "outputs": [
    {
     "data": {
      "text/plain": [
       "(torch.Size([32, 27]), torch.Size([32, 3]))"
      ]
     },
     "execution_count": 9,
     "metadata": {},
     "output_type": "execute_result"
    }
   ],
   "source": [
    "forward(X, parameters).shape, X.shape"
   ]
  },
  {
   "attachments": {},
   "cell_type": "markdown",
   "metadata": {},
   "source": [
    "Next we can write a function the performs one step of optimization. It feeds some input through the network, computes the cross entropy loss on the output logits, then performs a gradient descent step on all the paramter weights and resets the gradients to 0."
   ]
  },
  {
   "cell_type": "code",
   "execution_count": 10,
   "metadata": {},
   "outputs": [],
   "source": [
    "def optimize_step(x, y, parameters, lr=0.1):\n",
    "    logits = forward(x, parameters)\n",
    "    loss = torch.nn.functional.cross_entropy(logits, y)\n",
    "    loss.backward()\n",
    "    for p in parameters:\n",
    "        p.data -= p.grad * lr\n",
    "        p.grad = None\n",
    "    return loss.item()"
   ]
  },
  {
   "attachments": {},
   "cell_type": "markdown",
   "metadata": {},
   "source": [
    "We can see that running 2 optimization steps decreases the loss!"
   ]
  },
  {
   "cell_type": "code",
   "execution_count": 11,
   "metadata": {},
   "outputs": [
    {
     "data": {
      "text/plain": [
       "13.095874786376953"
      ]
     },
     "execution_count": 11,
     "metadata": {},
     "output_type": "execute_result"
    }
   ],
   "source": [
    "optimize_step(X, Y, parameters)"
   ]
  },
  {
   "cell_type": "code",
   "execution_count": 12,
   "metadata": {},
   "outputs": [
    {
     "data": {
      "text/plain": [
       "9.901688575744629"
      ]
     },
     "execution_count": 12,
     "metadata": {},
     "output_type": "execute_result"
    }
   ],
   "source": [
    "optimize_step(X, Y, parameters)"
   ]
  },
  {
   "attachments": {},
   "cell_type": "markdown",
   "metadata": {},
   "source": [
    "Another useful function would be a way to instantiate a network with different layer hyperparamters so that we can easily experiment with different configurations. We can wrap the instantiation of each of the layers in *init_parameters*."
   ]
  },
  {
   "cell_type": "code",
   "execution_count": 13,
   "metadata": {},
   "outputs": [],
   "source": [
    "def init_parameters(num_chars, block_size, embedding_size, hidden_layer_size):\n",
    "    C = torch.randn((num_chars, embedding_size), requires_grad=True)\n",
    "    W1 = torch.randn((embedding_size * block_size, hidden_layer_size), requires_grad=True)\n",
    "    b1 = torch.randn(hidden_layer_size, requires_grad=True)\n",
    "    W2 = torch.randn((hidden_layer_size, num_chars), requires_grad=True)\n",
    "    b2 = torch.randn(num_chars, requires_grad=True)\n",
    "\n",
    "    return [C, W1, b1, W2, b2]\n"
   ]
  },
  {
   "cell_type": "code",
   "execution_count": 14,
   "metadata": {},
   "outputs": [],
   "source": [
    "parameters = init_parameters(27, 3, 3, 100)"
   ]
  },
  {
   "attachments": {},
   "cell_type": "markdown",
   "metadata": {},
   "source": [
    "We might want to mess around with changing the block size, so we can create a function that creates input data with a given block size:"
   ]
  },
  {
   "cell_type": "code",
   "execution_count": 15,
   "metadata": {},
   "outputs": [],
   "source": [
    "def build_inputs_and_labels(words, block_size):\n",
    "    X, Y = [], []\n",
    "\n",
    "    for w in words:\n",
    "        context = [0] * block_size\n",
    "        for c in w + '.':\n",
    "            ix = stoi[c]\n",
    "            X.append(context)\n",
    "            Y.append(ix)\n",
    "            context = context[1:] + [ix]\n",
    "\n",
    "    X = torch.tensor(X)\n",
    "    Y = torch.tensor(Y)\n",
    "    return X, Y"
   ]
  },
  {
   "attachments": {},
   "cell_type": "markdown",
   "metadata": {},
   "source": [
    "Additionally, now that we are using a much larger number of paramters, we need to make sure that we don't accidentally overfit to the data we train on. To combat this, we will split the data into a training set, a validation set, and a test set wtih this function:"
   ]
  },
  {
   "cell_type": "code",
   "execution_count": 16,
   "metadata": {},
   "outputs": [],
   "source": [
    "def train_dev_test_split(words, train_size=0.8, dev_size=0.1):\n",
    "    random.shuffle(words)\n",
    "    assert train_size + dev_size < 1\n",
    "    num_words = len(words)\n",
    "    train_split = int(num_words * train_size)\n",
    "    dev_split = int(num_words * (train_size + dev_size))\n",
    "    train_words = words[:train_split]\n",
    "    dev_words = words[train_split:dev_split]\n",
    "    test_words = words[dev_split:]\n",
    "    return train_words, dev_words, test_words"
   ]
  },
  {
   "attachments": {},
   "cell_type": "markdown",
   "metadata": {},
   "source": [
    "Now we can split the data and create input tensors for each of the datasets:"
   ]
  },
  {
   "cell_type": "code",
   "execution_count": 17,
   "metadata": {},
   "outputs": [],
   "source": [
    "train_words, dev_words, test_words = train_dev_test_split(words)"
   ]
  },
  {
   "cell_type": "code",
   "execution_count": 18,
   "metadata": {},
   "outputs": [],
   "source": [
    "X_train, Y_train = build_inputs_and_labels(train_words, block_size)\n",
    "X_dev, Y_dev = build_inputs_and_labels(dev_words, block_size)\n",
    "X_test, Y_test = build_inputs_and_labels(test_words, block_size)"
   ]
  },
  {
   "attachments": {},
   "cell_type": "markdown",
   "metadata": {},
   "source": [
    "Putting it all together, we can write a gradient descent algorithm. The features include:\n",
    "* Minibatches: It's very slow to perform a gradient descent step on the entire dataset. Instead, we can samples a subset of the data and perform a gradient descent step on the sample, which should allow us to converge more quickly.\n",
    "* lr_deacy: Modern optimizers use all sorts of techniques to fine-tune the learning rate during training. For our purposes, we can just apply a decay factor over time s.t. (new lr) = (1 - decay_rate) * old_lr\n",
    "* Regularization: We can also include a regularization term in the loss function, which will normalize the model's output (by punishing large weights) and help prevent against overfitting. My implementation is very janky but does the job.\n"
   ]
  },
  {
   "cell_type": "code",
   "execution_count": 19,
   "metadata": {},
   "outputs": [],
   "source": [
    "def gradient_descent(x, y, parameters, iterations=100, minibatch_size=100, lr=0.1, lr_decay=0.001, regularization=0.01, print_every=10):\n",
    "    losses = []\n",
    "    for i in range(iterations):\n",
    "        batch_indices = torch.randint(0, x.shape[0], (minibatch_size,))\n",
    "        xi = x[batch_indices]\n",
    "        yi = y[batch_indices]\n",
    "        reg_term = torch.sum(torch.stack([(p**2).sum() for p in parameters])).divide(torch.sum(torch.tensor([p.numel() for p in parameters]))) * regularization\n",
    "        loss = optimize_step(xi, yi, parameters, lr) + reg_term\n",
    "        losses.append(loss)\n",
    "        if i % print_every == 0:\n",
    "            print(f'Iteration {i} loss: {loss}')\n",
    "        lr = lr * (1 - lr_decay)\n",
    "    return losses\n",
    "    "
   ]
  },
  {
   "attachments": {},
   "cell_type": "markdown",
   "metadata": {},
   "source": [
    "On the topic of learning rate decay, we can play around with a learning rate and a decay rate to see how the learning rate changes over time:"
   ]
  },
  {
   "cell_type": "code",
   "execution_count": 20,
   "metadata": {},
   "outputs": [
    {
     "data": {
      "text/plain": [
       "[<matplotlib.lines.Line2D at 0x11a582910>]"
      ]
     },
     "execution_count": 20,
     "metadata": {},
     "output_type": "execute_result"
    },
    {
     "data": {
      "image/png": "[encoded data removed]",
      "text/plain": [
       "<Figure size 640x480 with 1 Axes>"
      ]
     },
     "metadata": {},
     "output_type": "display_data"
    }
   ],
   "source": [
    "import numpy as np\n",
    "timesteps=300000\n",
    "init_lr = 0.2\n",
    "decay_rate = 0.00002\n",
    "plt.plot(np.arange(timesteps), [init_lr * ((1 - decay_rate) ** i)for i in range(1, timesteps + 1)])"
   ]
  },
  {
   "attachments": {},
   "cell_type": "markdown",
   "metadata": {},
   "source": [
    "### E01: \n",
    "#### *Tune the hyperparameters of the training to beat my best validation loss of 2.2*"
   ]
  },
  {
   "attachments": {},
   "cell_type": "markdown",
   "metadata": {},
   "source": [
    "After running many different experiments, I was able to improve upon the results in lecture by increasing the minibatch size, and using learning rate decay to gradually reduce the learning rate over the course of training. I think that using a larger minibatch size resulted in smoother convergence than the size 32 batches we used in lecture, which helped us reach a lower loss value. A smooth learning rate decay curve also likely helped with this:"
   ]
  },
  {
   "cell_type": "code",
   "execution_count": 21,
   "metadata": {},
   "outputs": [
    {
     "name": "stdout",
     "output_type": "stream",
     "text": [
      "Iteration 0 loss: 23.31816291809082\n",
      "Iteration 10000 loss: 2.2284233570098877\n",
      "Iteration 20000 loss: 2.2406561374664307\n",
      "Iteration 30000 loss: 2.1608595848083496\n",
      "Iteration 40000 loss: 2.304851531982422\n",
      "Iteration 50000 loss: 2.424760341644287\n",
      "Iteration 60000 loss: 2.4278080463409424\n",
      "Iteration 70000 loss: 2.20918607711792\n",
      "Iteration 80000 loss: 2.1471633911132812\n",
      "Iteration 90000 loss: 2.117159366607666\n",
      "Iteration 100000 loss: 2.3369579315185547\n",
      "Iteration 110000 loss: 2.033106803894043\n",
      "Iteration 120000 loss: 2.0824880599975586\n",
      "Iteration 130000 loss: 2.192506790161133\n",
      "Iteration 140000 loss: 2.126777410507202\n",
      "Iteration 150000 loss: 1.9903192520141602\n",
      "Iteration 160000 loss: 2.099057674407959\n",
      "Iteration 170000 loss: 2.306813955307007\n",
      "Iteration 180000 loss: 2.1502556800842285\n",
      "Iteration 190000 loss: 2.390268325805664\n",
      "Iteration 200000 loss: 2.414684772491455\n",
      "Iteration 210000 loss: 2.091949939727783\n",
      "Iteration 220000 loss: 1.9811478853225708\n",
      "Iteration 230000 loss: 2.1161515712738037\n",
      "Iteration 240000 loss: 2.1991453170776367\n",
      "Iteration 250000 loss: 2.077228546142578\n",
      "Iteration 260000 loss: 2.1640939712524414\n",
      "Iteration 270000 loss: 2.0658717155456543\n",
      "Iteration 280000 loss: 2.2298574447631836\n",
      "Iteration 290000 loss: 2.120208501815796\n"
     ]
    }
   ],
   "source": [
    "emb_size = 10\n",
    "block_size = 3\n",
    "num_chars = len(chars)\n",
    "hidden_layer_size = 200\n",
    "X, Y = build_inputs_and_labels(words, block_size)\n",
    "parameters = init_parameters(num_chars, block_size, emb_size, hidden_layer_size)\n",
    "losses = gradient_descent(X_train, Y_train, parameters, iterations=300000, minibatch_size=128, lr=0.2, lr_decay=0.00002, regularization=0.01, print_every=10000)"
   ]
  },
  {
   "cell_type": "code",
   "execution_count": 22,
   "metadata": {},
   "outputs": [
    {
     "data": {
      "text/plain": [
       "[<matplotlib.lines.Line2D at 0x3778114c0>]"
      ]
     },
     "execution_count": 22,
     "metadata": {},
     "output_type": "execute_result"
    },
    {
     "data": {
      "image/png": "[encoded data removed]",
      "text/plain": [
       "<Figure size 640x480 with 1 Axes>"
      ]
     },
     "metadata": {},
     "output_type": "display_data"
    }
   ],
   "source": [
    "plt.plot(torch.tensor(losses).log10())"
   ]
  },
  {
   "attachments": {},
   "cell_type": "markdown",
   "metadata": {},
   "source": [
    "We can see that the train and validation losses are both improvements over our results in lecture:"
   ]
  },
  {
   "cell_type": "code",
   "execution_count": 23,
   "metadata": {},
   "outputs": [],
   "source": [
    "def evaluate(x, y, parameters):\n",
    "    logits = forward(x, parameters)\n",
    "    loss = torch.nn.functional.cross_entropy(logits, y)\n",
    "    return loss.item()"
   ]
  },
  {
   "cell_type": "code",
   "execution_count": 24,
   "metadata": {},
   "outputs": [
    {
     "data": {
      "text/plain": [
       "2.1127407550811768"
      ]
     },
     "execution_count": 24,
     "metadata": {},
     "output_type": "execute_result"
    }
   ],
   "source": [
    "evaluate(X_train, Y_train, parameters)"
   ]
  },
  {
   "cell_type": "code",
   "execution_count": 25,
   "metadata": {},
   "outputs": [
    {
     "data": {
      "text/plain": [
       "2.1731631755828857"
      ]
     },
     "execution_count": 25,
     "metadata": {},
     "output_type": "execute_result"
    }
   ],
   "source": [
    "evaluate(X_dev, Y_dev, parameters)"
   ]
  },
  {
   "attachments": {},
   "cell_type": "markdown",
   "metadata": {},
   "source": [
    "Finally, when we try the data on the test set, we acheive a similar result to validation. (If we hadn't we may have accidentally overfit to the validation set via tuning hyperparameters.)"
   ]
  },
  {
   "cell_type": "code",
   "execution_count": 26,
   "metadata": {},
   "outputs": [
    {
     "data": {
      "text/plain": [
       "2.1605467796325684"
      ]
     },
     "execution_count": 26,
     "metadata": {},
     "output_type": "execute_result"
    }
   ],
   "source": [
    "evaluate(X_test, Y_test, parameters)"
   ]
  },
  {
   "attachments": {},
   "cell_type": "markdown",
   "metadata": {},
   "source": [
    "We can generate some names with the trained model to verify the model works well:\n",
    "\n",
    "I added some features to the generate function that allows the user to specify a minimum and maximum length!"
   ]
  },
  {
   "cell_type": "code",
   "execution_count": 27,
   "metadata": {},
   "outputs": [],
   "source": [
    "def generate(parameters, block_size, min_chars=3, max_chars=20):\n",
    "    C, W1, b1, W2, b2 = parameters\n",
    "    context = [0] * block_size\n",
    "    out = []\n",
    "    for i in range(max_chars):\n",
    "        logits = forward(torch.tensor([context]), parameters)\n",
    "        probs = torch.nn.functional.softmax(logits, dim=1)\n",
    "        if i < min_chars:\n",
    "            probs[0, 0] = 0\n",
    "        ix = torch.multinomial(probs, 1).item()\n",
    "        if ix == 0:\n",
    "            break\n",
    "        out.append(itos[ix])\n",
    "        context = context[1:] + [ix]\n",
    "\n",
    "    return ''.join(out)"
   ]
  },
  {
   "cell_type": "code",
   "execution_count": 28,
   "metadata": {},
   "outputs": [
    {
     "name": "stdout",
     "output_type": "stream",
     "text": [
      "maemolessahborlealii\n",
      "gakantt\n",
      "kalai\n",
      "pourto\n",
      "kor\n",
      "ben\n",
      "bodiezela\n",
      "aah\n",
      "kariis\n",
      "juliondolian\n",
      "abduya\n",
      "jadie\n",
      "zasenegorowdohy\n",
      "jmy\n",
      "sajaochlonilerlin\n",
      "soleaon\n",
      "joudmese\n",
      "selianam\n",
      "kylenesin\n",
      "briello\n"
     ]
    }
   ],
   "source": [
    "for i in range(20):\n",
    "    print(generate(parameters, 3))"
   ]
  },
  {
   "attachments": {},
   "cell_type": "markdown",
   "metadata": {},
   "source": [
    "For fun, we can try to generate some really long names:\n"
   ]
  },
  {
   "cell_type": "code",
   "execution_count": 29,
   "metadata": {},
   "outputs": [
    {
     "name": "stdout",
     "output_type": "stream",
     "text": [
      "hasleightstiva\n",
      "anisondreddiricheston\n",
      "kayabiyonnaviya\n",
      "abindieannae\n",
      "ariowalereth\n",
      "isynielantanny\n",
      "siyaannoelynn\n",
      "zetanellynne\n",
      "caanayloniah\n",
      "nahiorington\n",
      "kaydencortez\n",
      "kassaromiani\n",
      "nakalijallyssani\n",
      "priyamaramylah\n",
      "zaleelahiminah\n",
      "ruzifforelon\n",
      "skenysonstin\n",
      "muhambrieseranderance\n",
      "eversiahrocklynn\n",
      "amperithmaren\n"
     ]
    }
   ],
   "source": [
    "for i in range(20):\n",
    "    print(generate(parameters, 3, min_chars=12, max_chars=40))"
   ]
  },
  {
   "attachments": {},
   "cell_type": "markdown",
   "metadata": {},
   "source": [
    "### E02: \n",
    "#### *I was not careful with the intialization of the network in this video. (1) What is the loss you'd get if the predicted probabilities at initialization were perfectly uniform? What loss do we achieve? (2) Can you tune the initialization to get a starting loss that is much more similar to (1)?*"
   ]
  },
  {
   "attachments": {},
   "cell_type": "markdown",
   "metadata": {},
   "source": [
    "If the predicted probabilities were perfectly uniform, per the log-likelihood formula the loss would be -log(1/27), given a dataset with 27 characters."
   ]
  },
  {
   "attachments": {},
   "cell_type": "markdown",
   "metadata": {},
   "source": [
    "We can verify that this is the case:"
   ]
  },
  {
   "cell_type": "code",
   "execution_count": 30,
   "metadata": {},
   "outputs": [
    {
     "data": {
      "text/plain": [
       "tensor(20)"
      ]
     },
     "execution_count": 30,
     "metadata": {},
     "output_type": "execute_result"
    }
   ],
   "source": [
    "y_actual = Y_train[0]\n",
    "y_actual"
   ]
  },
  {
   "cell_type": "code",
   "execution_count": 31,
   "metadata": {},
   "outputs": [
    {
     "data": {
      "text/plain": [
       "tensor([0.0370, 0.0370, 0.0370, 0.0370, 0.0370, 0.0370, 0.0370, 0.0370, 0.0370,\n",
       "        0.0370, 0.0370, 0.0370, 0.0370, 0.0370, 0.0370, 0.0370, 0.0370, 0.0370,\n",
       "        0.0370, 0.0370, 0.0370, 0.0370, 0.0370, 0.0370, 0.0370, 0.0370, 0.0370])"
      ]
     },
     "execution_count": 31,
     "metadata": {},
     "output_type": "execute_result"
    }
   ],
   "source": [
    "logits = torch.ones(27).divide(27)\n",
    "logits"
   ]
  },
  {
   "attachments": {},
   "cell_type": "markdown",
   "metadata": {},
   "source": [
    "We'd also apply a softmax activation, but it results in the exact same logits if the logits are all the same."
   ]
  },
  {
   "cell_type": "code",
   "execution_count": 32,
   "metadata": {},
   "outputs": [
    {
     "data": {
      "text/plain": [
       "tensor([0.0370, 0.0370, 0.0370, 0.0370, 0.0370, 0.0370, 0.0370, 0.0370, 0.0370,\n",
       "        0.0370, 0.0370, 0.0370, 0.0370, 0.0370, 0.0370, 0.0370, 0.0370, 0.0370,\n",
       "        0.0370, 0.0370, 0.0370, 0.0370, 0.0370, 0.0370, 0.0370, 0.0370, 0.0370])"
      ]
     },
     "execution_count": 32,
     "metadata": {},
     "output_type": "execute_result"
    }
   ],
   "source": [
    "torch.nn.functional.softmax(logits, dim=0)"
   ]
  },
  {
   "attachments": {},
   "cell_type": "markdown",
   "metadata": {},
   "source": [
    "So it really doesn't matter what value the weights hold. However, the tanh activation is more informative when values are close to zero, so we should strive to keep the weights closer to zero (rather than say, initialize them all to 10000000)."
   ]
  },
  {
   "cell_type": "code",
   "execution_count": 33,
   "metadata": {},
   "outputs": [
    {
     "data": {
      "text/plain": [
       "tensor(3.2958)"
      ]
     },
     "execution_count": 33,
     "metadata": {},
     "output_type": "execute_result"
    }
   ],
   "source": [
    "torch.nn.functional.cross_entropy(logits, y_actual)"
   ]
  },
  {
   "cell_type": "code",
   "execution_count": 34,
   "metadata": {},
   "outputs": [
    {
     "data": {
      "text/plain": [
       "3.295836866004329"
      ]
     },
     "execution_count": 34,
     "metadata": {},
     "output_type": "execute_result"
    }
   ],
   "source": [
    "import math\n",
    "-math.log(1/27)"
   ]
  },
  {
   "attachments": {},
   "cell_type": "markdown",
   "metadata": {},
   "source": [
    "Our starting loss is much higher (~23!). To acheive a similar loss, we could make every weight and bias uniform across layers throughout the network. Before, we sampled weights between 0 and 1. To acheive a starting loss of -log(1/27), we can initialize them all to the same value, 0.5 sounds appropriate given that it's in the center of our previous distribution.\n"
   ]
  },
  {
   "cell_type": "code",
   "execution_count": 35,
   "metadata": {},
   "outputs": [],
   "source": [
    "def init_parameters(num_chars, block_size, embedding_size, hidden_layer_size):\n",
    "    C = torch.full((num_chars, embedding_size), 0.5, requires_grad=True)\n",
    "    W1 = torch.full((embedding_size * block_size, hidden_layer_size), 0.5, requires_grad=True)\n",
    "    b1 = torch.full((hidden_layer_size,), 0.5, requires_grad=True)\n",
    "    W2 = torch.full((hidden_layer_size, num_chars), 0.5, requires_grad=True)\n",
    "    b2 = torch.full((num_chars,), 0.5, requires_grad=True)\n",
    "\n",
    "    return [C, W1, b1, W2, b2]"
   ]
  },
  {
   "cell_type": "code",
   "execution_count": 36,
   "metadata": {},
   "outputs": [],
   "source": [
    "new_parameters = init_parameters(num_chars, block_size, emb_size, hidden_layer_size)"
   ]
  },
  {
   "cell_type": "code",
   "execution_count": 37,
   "metadata": {},
   "outputs": [
    {
     "data": {
      "text/plain": [
       "tensor([[0.5000, 0.5000, 0.5000, 0.5000, 0.5000, 0.5000, 0.5000, 0.5000, 0.5000,\n",
       "         0.5000],\n",
       "        [0.5000, 0.5000, 0.5000, 0.5000, 0.5000, 0.5000, 0.5000, 0.5000, 0.5000,\n",
       "         0.5000],\n",
       "        [0.5000, 0.5000, 0.5000, 0.5000, 0.5000, 0.5000, 0.5000, 0.5000, 0.5000,\n",
       "         0.5000]], grad_fn=<SliceBackward0>)"
      ]
     },
     "execution_count": 37,
     "metadata": {},
     "output_type": "execute_result"
    }
   ],
   "source": [
    "new_parameters[0][:3]"
   ]
  },
  {
   "attachments": {},
   "cell_type": "markdown",
   "metadata": {},
   "source": [
    "And we can verify that we acheive the desired starting loss:"
   ]
  },
  {
   "cell_type": "code",
   "execution_count": 38,
   "metadata": {},
   "outputs": [
    {
     "data": {
      "text/plain": [
       "3.295837163925171"
      ]
     },
     "execution_count": 38,
     "metadata": {},
     "output_type": "execute_result"
    }
   ],
   "source": [
    "evaluate(X_train, Y_train, new_parameters)"
   ]
  },
  {
   "attachments": {},
   "cell_type": "markdown",
   "metadata": {},
   "source": [
    "### E03: \n",
    "#### *Read the Bengio et al 2003 paper (link above), implement and try any idea from the paper. Did it work?*"
   ]
  },
  {
   "attachments": {},
   "cell_type": "markdown",
   "metadata": {},
   "source": [
    "One idea we could try from the paper is mixing n-gram (in this case, trigram) probabilities with the neural network probabilities to get a final probability, s.t. with each probability having a weight of 0.5. In their results, the network consistently performed better with this technique. The authors suggested that this suggests that the trigram and neural network models tend to make errors in different places.\n",
    "\n",
    "To acheive this, we can first instantiate and populate a trigram matrix. It's probably prudent just to compute this on the training dataset rather than the entire dataset."
   ]
  },
  {
   "cell_type": "code",
   "execution_count": 39,
   "metadata": {},
   "outputs": [],
   "source": [
    "trigrams = torch.zeros((27 * 27), 27)\n",
    "\n",
    "for word in train_words:\n",
    "    ids = ([0] * (block_size - 1)) + [stoi[c] for c in word] + [0]\n",
    "    for i in range(len(ids) - 2):\n",
    "        trigrams[(ids[i] * 27) + ids[i + 1], ids[i + 2]] += 1\n",
    "\n",
    "trigrams = (trigrams / trigrams.sum(dim=1, keepdim=True)).nan_to_num(nan=0.0)"
   ]
  },
  {
   "attachments": {},
   "cell_type": "markdown",
   "metadata": {},
   "source": [
    "Next, we can update the evaluation function to average the network output and the trigram output."
   ]
  },
  {
   "cell_type": "code",
   "execution_count": 40,
   "metadata": {},
   "outputs": [],
   "source": [
    "def evaluate(x, y, parameters, trigrams):\n",
    "    logits = forward(x, parameters) \n",
    "    preds = (torch.softmax(logits, dim=1) * 0.5) + (torch.softmax(trigrams[x[:, 1] * 27 + x[:, 2]], dim=1) * 0.5)\n",
    "    loss = -preds[torch.arange(y.shape[0]), y].log().mean()\n",
    "    \n",
    "    return loss.item()"
   ]
  },
  {
   "cell_type": "code",
   "execution_count": 41,
   "metadata": {},
   "outputs": [
    {
     "data": {
      "text/plain": [
       "2.382201671600342"
      ]
     },
     "execution_count": 41,
     "metadata": {},
     "output_type": "execute_result"
    }
   ],
   "source": [
    "evaluate(X_train, Y_train, parameters, trigrams)"
   ]
  },
  {
   "cell_type": "code",
   "execution_count": 42,
   "metadata": {},
   "outputs": [
    {
     "data": {
      "text/plain": [
       "2.407227039337158"
      ]
     },
     "execution_count": 42,
     "metadata": {},
     "output_type": "execute_result"
    }
   ],
   "source": [
    "evaluate(X_dev, Y_dev, parameters, trigrams)"
   ]
  },
  {
   "attachments": {},
   "cell_type": "markdown",
   "metadata": {},
   "source": [
    "This technique does not improve our model's performance. Perhaps this technique tends to work better on word-level models like in the paper rather than character-level models -- perhaps because the embeddings needed to properly represent a letter are much simpler than those for a word, meaning that ensambling our neural network with the trigram model does not compensate for any of the neural network's error."
   ]
  },
  {
   "attachments": {},
   "cell_type": "markdown",
   "metadata": {},
   "source": [
    "We could also try introducing the trigram mixing into our training loop, but I am skeptical:"
   ]
  },
  {
   "cell_type": "code",
   "execution_count": 43,
   "metadata": {},
   "outputs": [],
   "source": [
    "def optimize_step(x, y, parameters, trigrams, lr=0.1):\n",
    "    logits = forward(x, parameters)\n",
    "    preds = (torch.softmax(logits, dim=1) * 0.5) + (torch.softmax(trigrams[x[:, 1] * 27 + x[:, 2]], dim=1) * 0.5)\n",
    "    loss = -preds[torch.arange(y.shape[0]), y].log().mean()\n",
    "    loss.backward()\n",
    "    for p in parameters:\n",
    "        p.data -= p.grad * lr\n",
    "        p.grad = None\n",
    "    return loss.item()\n",
    "\n",
    "def gradient_descent(x, y, parameters, trigrams, iterations=100, minibatch_size=100, lr=0.1, lr_decay=0.001, regularization=0.01, print_every=10):\n",
    "    losses = []\n",
    "    for i in range(iterations):\n",
    "        batch_indices = torch.randint(0, x.shape[0], (minibatch_size,))\n",
    "        xi = x[batch_indices]\n",
    "        yi = y[batch_indices]\n",
    "        reg_term = torch.sum(torch.stack([(p**2).sum() for p in parameters])).divide(torch.sum(torch.tensor([p.numel() for p in parameters]))) * regularization\n",
    "        loss = optimize_step(xi, yi, parameters, trigrams, lr) + reg_term\n",
    "        losses.append(loss)\n",
    "        if i % print_every == 0:\n",
    "            print(f'Iteration {i} loss: {loss}')\n",
    "        lr = lr * (1 - lr_decay)\n",
    "    return losses\n",
    "    "
   ]
  },
  {
   "cell_type": "code",
   "execution_count": 44,
   "metadata": {},
   "outputs": [
    {
     "name": "stdout",
     "output_type": "stream",
     "text": [
      "Iteration 0 loss: 3.208648443222046\n",
      "Iteration 10000 loss: 3.071230888366699\n",
      "Iteration 20000 loss: 2.901762008666992\n",
      "Iteration 30000 loss: 2.9484827518463135\n",
      "Iteration 40000 loss: 2.709425449371338\n",
      "Iteration 50000 loss: 2.8135197162628174\n",
      "Iteration 60000 loss: 2.920710325241089\n",
      "Iteration 70000 loss: 2.854020118713379\n",
      "Iteration 80000 loss: 2.8287267684936523\n",
      "Iteration 90000 loss: 2.84387469291687\n",
      "Iteration 100000 loss: 2.765397787094116\n",
      "Iteration 110000 loss: 2.8810603618621826\n",
      "Iteration 120000 loss: 2.8022632598876953\n",
      "Iteration 130000 loss: 2.7869958877563477\n",
      "Iteration 140000 loss: 2.8552708625793457\n"
     ]
    },
    {
     "ename": "KeyboardInterrupt",
     "evalue": "",
     "output_type": "error",
     "traceback": [
      "\u001b[0;31m---------------------------------------------------------------------------\u001b[0m",
      "\u001b[0;31mKeyboardInterrupt\u001b[0m                         Traceback (most recent call last)",
      "Cell \u001b[0;32mIn[44], line 2\u001b[0m\n\u001b[1;32m      1\u001b[0m new_parameters \u001b[39m=\u001b[39m init_parameters(num_chars, block_size, emb_size, hidden_layer_size)\n\u001b[0;32m----> 2\u001b[0m losses \u001b[39m=\u001b[39m gradient_descent(X_train, Y_train, new_parameters, trigrams, iterations\u001b[39m=\u001b[39;49m\u001b[39m300000\u001b[39;49m, minibatch_size\u001b[39m=\u001b[39;49m\u001b[39m128\u001b[39;49m, lr\u001b[39m=\u001b[39;49m\u001b[39m0.2\u001b[39;49m, lr_decay\u001b[39m=\u001b[39;49m\u001b[39m0.00002\u001b[39;49m, regularization\u001b[39m=\u001b[39;49m\u001b[39m0.01\u001b[39;49m, print_every\u001b[39m=\u001b[39;49m\u001b[39m10000\u001b[39;49m)\n",
      "Cell \u001b[0;32mIn[43], line 18\u001b[0m, in \u001b[0;36mgradient_descent\u001b[0;34m(x, y, parameters, trigrams, iterations, minibatch_size, lr, lr_decay, regularization, print_every)\u001b[0m\n\u001b[1;32m     16\u001b[0m yi \u001b[39m=\u001b[39m y[batch_indices]\n\u001b[1;32m     17\u001b[0m reg_term \u001b[39m=\u001b[39m torch\u001b[39m.\u001b[39msum(torch\u001b[39m.\u001b[39mstack([(p\u001b[39m*\u001b[39m\u001b[39m*\u001b[39m\u001b[39m2\u001b[39m)\u001b[39m.\u001b[39msum() \u001b[39mfor\u001b[39;00m p \u001b[39min\u001b[39;00m parameters]))\u001b[39m.\u001b[39mdivide(torch\u001b[39m.\u001b[39msum(torch\u001b[39m.\u001b[39mtensor([p\u001b[39m.\u001b[39mnumel() \u001b[39mfor\u001b[39;00m p \u001b[39min\u001b[39;00m parameters]))) \u001b[39m*\u001b[39m regularization\n\u001b[0;32m---> 18\u001b[0m loss \u001b[39m=\u001b[39m optimize_step(xi, yi, parameters, trigrams, lr) \u001b[39m+\u001b[39m reg_term\n\u001b[1;32m     19\u001b[0m losses\u001b[39m.\u001b[39mappend(loss)\n\u001b[1;32m     20\u001b[0m \u001b[39mif\u001b[39;00m i \u001b[39m%\u001b[39m print_every \u001b[39m==\u001b[39m \u001b[39m0\u001b[39m:\n",
      "Cell \u001b[0;32mIn[43], line 2\u001b[0m, in \u001b[0;36moptimize_step\u001b[0;34m(x, y, parameters, trigrams, lr)\u001b[0m\n\u001b[1;32m      1\u001b[0m \u001b[39mdef\u001b[39;00m \u001b[39moptimize_step\u001b[39m(x, y, parameters, trigrams, lr\u001b[39m=\u001b[39m\u001b[39m0.1\u001b[39m):\n\u001b[0;32m----> 2\u001b[0m     logits \u001b[39m=\u001b[39m forward(x, parameters)\n\u001b[1;32m      3\u001b[0m     preds \u001b[39m=\u001b[39m (torch\u001b[39m.\u001b[39msoftmax(logits, dim\u001b[39m=\u001b[39m\u001b[39m1\u001b[39m) \u001b[39m*\u001b[39m \u001b[39m0.5\u001b[39m) \u001b[39m+\u001b[39m (torch\u001b[39m.\u001b[39msoftmax(trigrams[x[:, \u001b[39m1\u001b[39m] \u001b[39m*\u001b[39m \u001b[39m27\u001b[39m \u001b[39m+\u001b[39m x[:, \u001b[39m2\u001b[39m]], dim\u001b[39m=\u001b[39m\u001b[39m1\u001b[39m) \u001b[39m*\u001b[39m \u001b[39m0.5\u001b[39m)\n\u001b[1;32m      4\u001b[0m     loss \u001b[39m=\u001b[39m \u001b[39m-\u001b[39mpreds[torch\u001b[39m.\u001b[39marange(y\u001b[39m.\u001b[39mshape[\u001b[39m0\u001b[39m]), y]\u001b[39m.\u001b[39mlog()\u001b[39m.\u001b[39mmean()\n",
      "Cell \u001b[0;32mIn[8], line 5\u001b[0m, in \u001b[0;36mforward\u001b[0;34m(x, parameters)\u001b[0m\n\u001b[1;32m      3\u001b[0m emb \u001b[39m=\u001b[39m C[x]\n\u001b[1;32m      4\u001b[0m h \u001b[39m=\u001b[39m (emb\u001b[39m.\u001b[39mview(\u001b[39m-\u001b[39m\u001b[39m1\u001b[39m, emb\u001b[39m.\u001b[39mshape[\u001b[39m1\u001b[39m] \u001b[39m*\u001b[39m emb\u001b[39m.\u001b[39mshape[\u001b[39m2\u001b[39m]) \u001b[39m@\u001b[39m W1) \u001b[39m+\u001b[39m b1\n\u001b[0;32m----> 5\u001b[0m h \u001b[39m=\u001b[39m h\u001b[39m.\u001b[39;49mtanh()\n\u001b[1;32m      6\u001b[0m h \u001b[39m=\u001b[39m (h \u001b[39m@\u001b[39m W2) \u001b[39m+\u001b[39m b2\n\u001b[1;32m      7\u001b[0m \u001b[39mreturn\u001b[39;00m h\n",
      "\u001b[0;31mKeyboardInterrupt\u001b[0m: "
     ]
    }
   ],
   "source": [
    "new_parameters = init_parameters(num_chars, block_size, emb_size, hidden_layer_size)\n",
    "losses = gradient_descent(X_train, Y_train, new_parameters, trigrams, iterations=300000, minibatch_size=128, lr=0.2, lr_decay=0.00002, regularization=0.01, print_every=10000)"
   ]
  },
  {
   "attachments": {},
   "cell_type": "markdown",
   "metadata": {},
   "source": [
    "After many iterations with no signs of life, I decided to stop training early."
   ]
  }
 ],
 "metadata": {
  "kernelspec": {
   "display_name": "python3",
   "language": "python",
   "name": "python3"
  },
  "language_info": {
   "codemirror_mode": {
    "name": "ipython",
    "version": 3
   },
   "file_extension": ".py",
   "mimetype": "text/x-python",
   "name": "python",
   "nbconvert_exporter": "python",
   "pygments_lexer": "ipython3",
   "version": "3.8.16"
  },
  "orig_nbformat": 4
 },
 "nbformat": 4,
 "nbformat_minor": 2
}
